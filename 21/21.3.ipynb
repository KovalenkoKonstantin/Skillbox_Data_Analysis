{
 "cells": [
  {
   "cell_type": "code",
   "execution_count": 3,
   "outputs": [],
   "source": [
    "import sqlalchemy\n",
    "import psycopg2\n",
    "import pandas as pd"
   ],
   "metadata": {
    "collapsed": false,
    "pycharm": {
     "name": "#%%\n"
    }
   }
  },
  {
   "cell_type": "raw",
   "source": [
    "Подключитесь к базе данных, загрузите содержимое таблицы AccrualType в DataFrame и выведите первые 6 строк на экран."
   ],
   "metadata": {
    "collapsed": false,
    "pycharm": {
     "name": "#%% raw\n"
    }
   }
  },
  {
   "cell_type": "code",
   "execution_count": 14,
   "outputs": [
    {
     "data": {
      "text/plain": "                       employee_name       tab_N\n0           Анисимов Алексей Юрьевич  0000000006\n1             Борисов Иван Сергеевич  0000000008\n2  Виниченко Александр Александрович  0000000009\n3            Есипов Виктор Сергеевич  0000000007\n4          Маздюк Евгений Николаевич  0000000010",
      "text/html": "<div>\n<style scoped>\n    .dataframe tbody tr th:only-of-type {\n        vertical-align: middle;\n    }\n\n    .dataframe tbody tr th {\n        vertical-align: top;\n    }\n\n    .dataframe thead th {\n        text-align: right;\n    }\n</style>\n<table border=\"1\" class=\"dataframe\">\n  <thead>\n    <tr style=\"text-align: right;\">\n      <th></th>\n      <th>employee_name</th>\n      <th>tab_N</th>\n    </tr>\n  </thead>\n  <tbody>\n    <tr>\n      <th>0</th>\n      <td>Анисимов Алексей Юрьевич</td>\n      <td>0000000006</td>\n    </tr>\n    <tr>\n      <th>1</th>\n      <td>Борисов Иван Сергеевич</td>\n      <td>0000000008</td>\n    </tr>\n    <tr>\n      <th>2</th>\n      <td>Виниченко Александр Александрович</td>\n      <td>0000000009</td>\n    </tr>\n    <tr>\n      <th>3</th>\n      <td>Есипов Виктор Сергеевич</td>\n      <td>0000000007</td>\n    </tr>\n    <tr>\n      <th>4</th>\n      <td>Маздюк Евгений Николаевич</td>\n      <td>0000000010</td>\n    </tr>\n  </tbody>\n</table>\n</div>"
     },
     "execution_count": 14,
     "metadata": {},
     "output_type": "execute_result"
    }
   ],
   "source": [
    "def request(request):\n",
    "    version = 'mssql'\n",
    "    driver = 'pymssql'\n",
    "    user = 'rkm'\n",
    "    password = 'UF5rrXp49IgA1$f6'\n",
    "    server = 'msk-sql-02'\n",
    "    data_base = 'RKM'\n",
    "    # request = 'exec GetEmployeeRefresh 9'\n",
    "\n",
    "    conn = f'{version}+{driver}://{user}:{password}@{server}/{data_base}?charset=utf8'\n",
    "\n",
    "    engine = sqlalchemy.create_engine(conn) # создание отдельного подключения к БД\n",
    "    connect = engine.connect() # создаётся объект подключения к БД\n",
    "    df = pd.read_sql(f\"{request}\", connect)\n",
    "    return df\n",
    "\n",
    "request('exec GetEmployeeRefresh 2').head()"
   ],
   "metadata": {
    "collapsed": false,
    "pycharm": {
     "name": "#%%\n"
    }
   }
  }
 ],
 "metadata": {
  "kernelspec": {
   "display_name": "Python 3",
   "language": "python",
   "name": "python3"
  },
  "language_info": {
   "codemirror_mode": {
    "name": "ipython",
    "version": 2
   },
   "file_extension": ".py",
   "mimetype": "text/x-python",
   "name": "python",
   "nbconvert_exporter": "python",
   "pygments_lexer": "ipython2",
   "version": "2.7.6"
  }
 },
 "nbformat": 4,
 "nbformat_minor": 0
}