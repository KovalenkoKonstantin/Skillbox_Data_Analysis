{
 "cells": [
  {
   "cell_type": "code",
   "execution_count": 4,
   "outputs": [],
   "source": [
    "import sqlalchemy\n",
    "import psycopg2\n",
    "import pandas as pd"
   ],
   "metadata": {
    "collapsed": false,
    "pycharm": {
     "name": "#%%\n"
    }
   }
  },
  {
   "cell_type": "raw",
   "source": [
    "Подключитесь к базе данных, загрузите содержимое таблицы AccrualType в DataFrame и выведите первые 6 строк на экран."
   ],
   "metadata": {
    "collapsed": false,
    "pycharm": {
     "name": "#%% raw\n"
    }
   }
  },
  {
   "cell_type": "code",
   "execution_count": 5,
   "outputs": [
    {
     "data": {
      "text/plain": "                       employee_name       tab_N\n0           Анисимов Алексей Юрьевич  0000000006\n1             Борисов Иван Сергеевич  0000000008\n2  Виниченко Александр Александрович  0000000009\n3            Есипов Виктор Сергеевич  0000000007\n4          Маздюк Евгений Николаевич  0000000010",
      "text/html": "<div>\n<style scoped>\n    .dataframe tbody tr th:only-of-type {\n        vertical-align: middle;\n    }\n\n    .dataframe tbody tr th {\n        vertical-align: top;\n    }\n\n    .dataframe thead th {\n        text-align: right;\n    }\n</style>\n<table border=\"1\" class=\"dataframe\">\n  <thead>\n    <tr style=\"text-align: right;\">\n      <th></th>\n      <th>employee_name</th>\n      <th>tab_N</th>\n    </tr>\n  </thead>\n  <tbody>\n    <tr>\n      <th>0</th>\n      <td>Анисимов Алексей Юрьевич</td>\n      <td>0000000006</td>\n    </tr>\n    <tr>\n      <th>1</th>\n      <td>Борисов Иван Сергеевич</td>\n      <td>0000000008</td>\n    </tr>\n    <tr>\n      <th>2</th>\n      <td>Виниченко Александр Александрович</td>\n      <td>0000000009</td>\n    </tr>\n    <tr>\n      <th>3</th>\n      <td>Есипов Виктор Сергеевич</td>\n      <td>0000000007</td>\n    </tr>\n    <tr>\n      <th>4</th>\n      <td>Маздюк Евгений Николаевич</td>\n      <td>0000000010</td>\n    </tr>\n  </tbody>\n</table>\n</div>"
     },
     "execution_count": 5,
     "metadata": {},
     "output_type": "execute_result"
    }
   ],
   "source": [
    "def request(request):\n",
    "    version = 'mssql'\n",
    "    driver = 'pymssql'\n",
    "    user = 'rkm'\n",
    "    password = 'UF5rrXp49IgA1$f6'\n",
    "    server = 'msk-sql-02'\n",
    "    data_base = 'RKM'\n",
    "    # request = 'exec GetEmployeeRefresh 9'\n",
    "\n",
    "    conn = f'{version}+{driver}://{user}:{password}@{server}/{data_base}?charset=utf8'\n",
    "\n",
    "    engine = sqlalchemy.create_engine(conn) # создание отдельного подключения к БД\n",
    "    connect = engine.connect() # создаётся объект подключения к БД\n",
    "    df = pd.read_sql(f\"{request}\", connect)\n",
    "    return df\n",
    "\n",
    "request('exec GetEmployeeRefresh 2').head()"
   ],
   "metadata": {
    "collapsed": false,
    "pycharm": {
     "name": "#%%\n"
    }
   }
  },
  {
   "cell_type": "code",
   "execution_count": 6,
   "outputs": [
    {
     "data": {
      "text/plain": "                       employee_name month_name  year_number  \\\n0             Бреус Данил Евгеньевич       Март         2024   \n1             Бреус Данил Евгеньевич    Февраль         2024   \n2   Горбатов Александр Александрович     Январь         2024   \n3           Дескат Михаил Витальевич       Март         2024   \n4           Дескат Михаил Витальевич    Февраль         2024   \n..                               ...        ...          ...   \n61             Шелег Олег Михайлович    Февраль         2024   \n62        Шкуратов Дмитрий Борисович     Январь         2024   \n63          Яшин Алексей Анатольевич       Март         2024   \n64          Яшин Алексей Анатольевич    Февраль         2024   \n65          Яшин Алексей Анатольевич     Январь         2024   \n\n    salary_bugget_ammount  fired  \n0                 28750.0  False  \n1                 28750.0  False  \n2                 81600.0   True  \n3                 52000.0  False  \n4                 55000.0  False  \n..                    ...    ...  \n61                28750.0  False  \n62                63700.0   True  \n63                33050.0  False  \n64                33500.0  False  \n65                23800.0  False  \n\n[66 rows x 5 columns]",
      "text/html": "<div>\n<style scoped>\n    .dataframe tbody tr th:only-of-type {\n        vertical-align: middle;\n    }\n\n    .dataframe tbody tr th {\n        vertical-align: top;\n    }\n\n    .dataframe thead th {\n        text-align: right;\n    }\n</style>\n<table border=\"1\" class=\"dataframe\">\n  <thead>\n    <tr style=\"text-align: right;\">\n      <th></th>\n      <th>employee_name</th>\n      <th>month_name</th>\n      <th>year_number</th>\n      <th>salary_bugget_ammount</th>\n      <th>fired</th>\n    </tr>\n  </thead>\n  <tbody>\n    <tr>\n      <th>0</th>\n      <td>Бреус Данил Евгеньевич</td>\n      <td>Март</td>\n      <td>2024</td>\n      <td>28750.0</td>\n      <td>False</td>\n    </tr>\n    <tr>\n      <th>1</th>\n      <td>Бреус Данил Евгеньевич</td>\n      <td>Февраль</td>\n      <td>2024</td>\n      <td>28750.0</td>\n      <td>False</td>\n    </tr>\n    <tr>\n      <th>2</th>\n      <td>Горбатов Александр Александрович</td>\n      <td>Январь</td>\n      <td>2024</td>\n      <td>81600.0</td>\n      <td>True</td>\n    </tr>\n    <tr>\n      <th>3</th>\n      <td>Дескат Михаил Витальевич</td>\n      <td>Март</td>\n      <td>2024</td>\n      <td>52000.0</td>\n      <td>False</td>\n    </tr>\n    <tr>\n      <th>4</th>\n      <td>Дескат Михаил Витальевич</td>\n      <td>Февраль</td>\n      <td>2024</td>\n      <td>55000.0</td>\n      <td>False</td>\n    </tr>\n    <tr>\n      <th>...</th>\n      <td>...</td>\n      <td>...</td>\n      <td>...</td>\n      <td>...</td>\n      <td>...</td>\n    </tr>\n    <tr>\n      <th>61</th>\n      <td>Шелег Олег Михайлович</td>\n      <td>Февраль</td>\n      <td>2024</td>\n      <td>28750.0</td>\n      <td>False</td>\n    </tr>\n    <tr>\n      <th>62</th>\n      <td>Шкуратов Дмитрий Борисович</td>\n      <td>Январь</td>\n      <td>2024</td>\n      <td>63700.0</td>\n      <td>True</td>\n    </tr>\n    <tr>\n      <th>63</th>\n      <td>Яшин Алексей Анатольевич</td>\n      <td>Март</td>\n      <td>2024</td>\n      <td>33050.0</td>\n      <td>False</td>\n    </tr>\n    <tr>\n      <th>64</th>\n      <td>Яшин Алексей Анатольевич</td>\n      <td>Февраль</td>\n      <td>2024</td>\n      <td>33500.0</td>\n      <td>False</td>\n    </tr>\n    <tr>\n      <th>65</th>\n      <td>Яшин Алексей Анатольевич</td>\n      <td>Январь</td>\n      <td>2024</td>\n      <td>23800.0</td>\n      <td>False</td>\n    </tr>\n  </tbody>\n</table>\n<p>66 rows × 5 columns</p>\n</div>"
     },
     "execution_count": 6,
     "metadata": {},
     "output_type": "execute_result"
    }
   ],
   "source": [
    "request('execute GetSalaryListShchepetovaGPC 9, 2024;')"
   ],
   "metadata": {
    "collapsed": false,
    "pycharm": {
     "name": "#%%\n"
    }
   }
  },
  {
   "cell_type": "code",
   "execution_count": null,
   "outputs": [],
   "source": [],
   "metadata": {
    "collapsed": false,
    "pycharm": {
     "name": "#%%\n"
    }
   }
  }
 ],
 "metadata": {
  "kernelspec": {
   "display_name": "Python 3",
   "language": "python",
   "name": "python3"
  },
  "language_info": {
   "codemirror_mode": {
    "name": "ipython",
    "version": 2
   },
   "file_extension": ".py",
   "mimetype": "text/x-python",
   "name": "python",
   "nbconvert_exporter": "python",
   "pygments_lexer": "ipython2",
   "version": "2.7.6"
  }
 },
 "nbformat": 4,
 "nbformat_minor": 0
}