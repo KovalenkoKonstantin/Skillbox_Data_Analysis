{
 "nbformat": 4,
 "nbformat_minor": 0,
 "metadata": {
  "kernelspec": {
   "display_name": "Python 3",
   "language": "python",
   "name": "python3"
  },
  "language_info": {
   "codemirror_mode": {
    "name": "ipython",
    "version": 3
   },
   "file_extension": ".py",
   "mimetype": "text/x-python",
   "name": "python",
   "nbconvert_exporter": "python",
   "pygments_lexer": "ipython3",
   "version": "3.8.8"
  },
  "colab": {
   "provenance": []
  }
 },
 "cells": [
  {
   "cell_type": "markdown",
   "metadata": {
    "id": "8VmeMIEuP-Ru",
    "pycharm": {
     "name": "#%% md\n"
    }
   },
   "source": [
    "# Практика по базовой математической статистике для Data scientist"
   ]
  },
  {
   "cell_type": "markdown",
   "metadata": {
    "id": "z-yxRXVtP-Ru",
    "pycharm": {
     "name": "#%% md\n"
    }
   },
   "source": [
    "# Практика 3 - построение доверительной оценки"
   ]
  },
  {
   "cell_type": "markdown",
   "metadata": {
    "id": "sf9xOGsoP-Rv",
    "pycharm": {
     "name": "#%% md\n"
    }
   },
   "source": [
    "На практическом занятии научимся строить доверительные интервалы и выделять аномалии при помощи python.\n",
    "\n",
    "- Строим доверительный интервал для цен акций из yahoo finance при помощи scipy, numpy, pandas\n",
    "-  Делаем выводы по наличию или отсутствию аномальных событий"
   ]
  },
  {
   "cell_type": "markdown",
   "metadata": {
    "id": "sEbuMJzHP-Rv",
    "pycharm": {
     "name": "#%% md\n"
    }
   },
   "source": [
    "Для начала импортируем все полезные библитеки и настроим ноутбук"
   ]
  },
  {
   "cell_type": "code",
   "metadata": {
    "colab": {
     "base_uri": "https://localhost:8080/"
    },
    "id": "r7__tpQRP-Rw",
    "outputId": "890ec9ba-8ccf-4a45-8133-81281f3b1a97",
    "pycharm": {
     "name": "#%%\n"
    }
   },
   "source": [
    "import pandas as pd\n",
    "import numpy as np\n",
    "import matplotlib.pyplot as plt\n",
    "import seaborn as sns\n",
    "import scipy.special as sps\n",
    "from scipy import *\n",
    "import warnings\n",
    "from scipy.stats import kurtosis\n",
    "from scipy.stats import skew\n",
    "from scipy import stats\n",
    "import statsmodels.api as sm\n",
    "\n",
    "%matplotlib inline\n",
    "plt.rcParams[\"figure.figsize\"] = (10.0, 7.0)\n",
    "warnings.filterwarnings(\"ignore\")"
   ],
   "execution_count": 24,
   "outputs": []
  },
  {
   "cell_type": "markdown",
   "metadata": {
    "id": "v-SVPmyXP-Rw",
    "pycharm": {
     "name": "#%% md\n"
    }
   },
   "source": [
    "В этой практике мы поработаем с реальными финансовыми данными.\n",
    "Наверняка каждый из нас хоть раз покупал доллары в надежде немного заработать на разнице курсов покупки и продажи. Но не каждый знает, что помимо валют есть ещё и другие финансовые инструменты - например, акции или облигации, с которыми работают профессиональные инвесторы на специальной площадке для купли и продаже - бирже.\n",
    "\n",
    "Данные о ценах финансовых инструментов называются котировками, и сегодня мы с вами представим себя инвесторами и проанализируем реальные котировки самых настоящих акций.\n",
    "\n",
    "Мы будем доставать их из сервиса yahoo finance, и для этого помощи bash магии установим несколько нужных библиотек."
   ]
  },
  {
   "cell_type": "code",
   "metadata": {
    "colab": {
     "base_uri": "https://localhost:8080/"
    },
    "id": "CftB5QjP40rO",
    "outputId": "90b6dce4-fa07-4f3f-d04f-176e73d968a5",
    "pycharm": {
     "name": "#%%\n"
    }
   },
   "source": [
    "%%bash\n",
    "pip install yfinance"
   ],
   "execution_count": 25,
   "outputs": [
    {
     "name": "stdout",
     "output_type": "stream",
     "text": [
      "Couldn't find program: 'bash'\n"
     ]
    }
   ]
  },
  {
   "cell_type": "code",
   "metadata": {
    "scrolled": true,
    "colab": {
     "base_uri": "https://localhost:8080/"
    },
    "id": "RTuj6oLLP-Ry",
    "outputId": "9c7f1306-1428-4d9c-fa43-54a59b404d9d",
    "pycharm": {
     "name": "#%%\n"
    }
   },
   "source": [
    "%%bash\n",
    "pip install pandas-datareader"
   ],
   "execution_count": 26,
   "outputs": [
    {
     "name": "stdout",
     "output_type": "stream",
     "text": [
      "Couldn't find program: 'bash'\n"
     ]
    }
   ]
  },
  {
   "cell_type": "code",
   "metadata": {
    "id": "HNcAbzaBP-Ry",
    "pycharm": {
     "name": "#%%\n"
    }
   },
   "source": [
    "import pandas_datareader as pdr\n",
    "from datetime import datetime\n",
    "import yfinance as yf"
   ],
   "execution_count": 27,
   "outputs": []
  },
  {
   "cell_type": "code",
   "metadata": {
    "id": "MkDED-XOP-Ry",
    "pycharm": {
     "name": "#%%\n"
    }
   },
   "source": [
    "# Собираем котировки за интересующий период.\n",
    "start_date = datetime(2018, 1, 1)\n",
    "end_date = datetime(2019, 8, 31)"
   ],
   "execution_count": 28,
   "outputs": []
  },
  {
   "cell_type": "code",
   "metadata": {
    "scrolled": true,
    "colab": {
     "base_uri": "https://localhost:8080/"
    },
    "id": "SdZnhpVTP-Rz",
    "outputId": "19884e7a-6804-43fb-f5a7-471cd895b5a0",
    "pycharm": {
     "name": "#%%\n"
    }
   },
   "source": [
    "df = yf.download(\"GOOG\", start=start_date, end=end_date)"
   ],
   "execution_count": 29,
   "outputs": [
    {
     "name": "stderr",
     "output_type": "stream",
     "text": [
      "Failed to get ticker 'GOOG' reason: HTTPSConnectionPool(host='fc.yahoo.com', port=443): Max retries exceeded with url: / (Caused by ProxyError('Unable to connect to proxy', OSError('Tunnel connection failed: 407 Proxy Authentication Required ( Forefront TMG requires authorization to fulfill the request. Access to the Web Proxy filter is denied.  )')))\n",
      "[*********************100%%**********************]  1 of 1 completed\n",
      "\n",
      "1 Failed download:\n",
      "['GOOG']: Exception('%ticker%: No timezone found, symbol may be delisted')\n"
     ]
    }
   ]
  },
  {
   "cell_type": "code",
   "metadata": {
    "colab": {
     "base_uri": "https://localhost:8080/"
    },
    "id": "jWF-6byjP-Rz",
    "outputId": "c3c2283c-d96c-4828-b785-9a427d5d47b1",
    "pycharm": {
     "name": "#%%\n"
    }
   },
   "source": [
    "df.info()"
   ],
   "execution_count": 30,
   "outputs": [
    {
     "name": "stdout",
     "output_type": "stream",
     "text": [
      "<class 'pandas.core.frame.DataFrame'>\n",
      "Index: 0 entries\n",
      "Data columns (total 6 columns):\n",
      " #   Column     Non-Null Count  Dtype  \n",
      "---  ------     --------------  -----  \n",
      " 0   Open       0 non-null      float64\n",
      " 1   High       0 non-null      float64\n",
      " 2   Low        0 non-null      float64\n",
      " 3   Close      0 non-null      float64\n",
      " 4   Adj Close  0 non-null      float64\n",
      " 5   Volume     0 non-null      float64\n",
      "dtypes: float64(6)\n",
      "memory usage: 0.0+ bytes\n"
     ]
    }
   ]
  },
  {
   "cell_type": "code",
   "metadata": {
    "colab": {
     "base_uri": "https://localhost:8080/",
     "height": 235
    },
    "id": "5HDfZRGtP-Rz",
    "outputId": "2665d877-5476-4c2a-a89a-8c4ab2781f44",
    "pycharm": {
     "name": "#%%\n"
    }
   },
   "source": [
    "# Переведем заголовки столбцов в нижний регистр и посмотрим на данные\n",
    "df.columns = map(str.lower, df.columns)\n",
    "df.head()"
   ],
   "execution_count": 31,
   "outputs": [
    {
     "data": {
      "text/plain": "Empty DataFrame\nColumns: [open, high, low, close, adj close, volume]\nIndex: []",
      "text/html": "<div>\n<style scoped>\n    .dataframe tbody tr th:only-of-type {\n        vertical-align: middle;\n    }\n\n    .dataframe tbody tr th {\n        vertical-align: top;\n    }\n\n    .dataframe thead th {\n        text-align: right;\n    }\n</style>\n<table border=\"1\" class=\"dataframe\">\n  <thead>\n    <tr style=\"text-align: right;\">\n      <th></th>\n      <th>open</th>\n      <th>high</th>\n      <th>low</th>\n      <th>close</th>\n      <th>adj close</th>\n      <th>volume</th>\n    </tr>\n    <tr>\n      <th>Date</th>\n      <th></th>\n      <th></th>\n      <th></th>\n      <th></th>\n      <th></th>\n      <th></th>\n    </tr>\n  </thead>\n  <tbody>\n  </tbody>\n</table>\n</div>"
     },
     "execution_count": 31,
     "metadata": {},
     "output_type": "execute_result"
    }
   ]
  },
  {
   "cell_type": "markdown",
   "metadata": {
    "id": "ayI40OzPP-R0",
    "pycharm": {
     "name": "#%% md\n"
    }
   },
   "source": [
    "Для изучения выберем разницу между ценой закрытия и ценой открытия."
   ]
  },
  {
   "cell_type": "code",
   "metadata": {
    "id": "olSrtRPqP-R0",
    "pycharm": {
     "name": "#%%\n"
    }
   },
   "source": [
    "# Готовим новую метрику.\n",
    "df[\"diff_price\"] = df.close - df.open"
   ],
   "execution_count": 32,
   "outputs": []
  },
  {
   "cell_type": "markdown",
   "metadata": {
    "id": "5nc8B84uP-R0",
    "pycharm": {
     "name": "#%% md\n"
    }
   },
   "source": [
    "Для построения доверительного интервала необходимо, чтобы исследумая величина была распределена по Гауссову закону.\n",
    "Поэтому воспользуемся функцией из первой практики для разведочного анализа."
   ]
  },
  {
   "cell_type": "code",
   "metadata": {
    "colab": {
     "base_uri": "https://localhost:8080/",
     "height": 310
    },
    "id": "bHwsCubDP-R0",
    "outputId": "e183814a-1d9f-42e8-cf47-b6c2d73266ba",
    "pycharm": {
     "name": "#%%\n"
    }
   },
   "source": [
    "df.diff_price.plot()\n",
    "plt.title(\"График разницы между ценой закрытия и открытия\")"
   ],
   "execution_count": 33,
   "outputs": [
    {
     "data": {
      "text/plain": "Text(0.5, 1.0, 'График разницы между ценой закрытия и открытия')"
     },
     "execution_count": 33,
     "metadata": {},
     "output_type": "execute_result"
    },
    {
     "data": {
      "text/plain": "<Figure size 1000x700 with 1 Axes>",
      "image/png": "[encoded data removed]"
     },
     "metadata": {},
     "output_type": "display_data"
    }
   ]
  },
  {
   "cell_type": "code",
   "metadata": {
    "id": "Oq56qMDmP-R0",
    "pycharm": {
     "name": "#%%\n"
    }
   },
   "source": [
    "def my_basic_research(df=df, column = \"diff_price\"):\n",
    "    print(\"Базовые метрики\")\n",
    "    print(df[column].describe())\n",
    "    print(\"------------------------------------\")\n",
    "\n",
    "    print(\"Самые популярные значения метрики, топ 5\")\n",
    "    print(df[column].value_counts().nlargest(5))\n",
    "    print(\"------------------------------------\")\n",
    "\n",
    "    print(\"Эксцесс \", kurtosis(df[column]))\n",
    "    print(\"Ассиметрия \", skew(df[column]))\n",
    "\n",
    "    sns.distplot(df[column])\n",
    "    plt.title(\"Распределение метрики\")"
   ],
   "execution_count": 34,
   "outputs": []
  },
  {
   "cell_type": "code",
   "metadata": {
    "scrolled": false,
    "colab": {
     "base_uri": "https://localhost:8080/",
     "height": 653
    },
    "id": "Gc47AXmBP-R1",
    "outputId": "85e06671-1772-40e2-a03c-c164b6f85141",
    "pycharm": {
     "name": "#%%\n"
    }
   },
   "source": [
    "my_basic_research(column = \"diff_price\")"
   ],
   "execution_count": 35,
   "outputs": [
    {
     "name": "stdout",
     "output_type": "stream",
     "text": [
      "Базовые метрики\n",
      "count    0.0\n",
      "mean     NaN\n",
      "std      NaN\n",
      "min      NaN\n",
      "25%      NaN\n",
      "50%      NaN\n",
      "75%      NaN\n",
      "max      NaN\n",
      "Name: diff_price, dtype: float64\n",
      "------------------------------------\n",
      "Самые популярные значения метрики, топ 5\n",
      "Series([], Name: count, dtype: int64)\n",
      "------------------------------------\n",
      "Эксцесс  nan\n",
      "Ассиметрия  nan\n"
     ]
    },
    {
     "data": {
      "text/plain": "<Figure size 1000x700 with 1 Axes>",
      "image/png": "[encoded data removed]"
     },
     "metadata": {},
     "output_type": "display_data"
    }
   ]
  },
  {
   "cell_type": "markdown",
   "metadata": {
    "id": "M5iN9FDfP-R1",
    "pycharm": {
     "name": "#%% md\n"
    }
   },
   "source": [
    "В целом наше распределение близко к нормальному, несмотря на остроконечный пик и наличие выбросов.\n",
    "Однако для уверенности проверим его при помощи графика QQ plot - https://en.wikipedia.org/wiki/Q%E2%80%93Q_plot\n",
    "\n",
    "График сравнивает квантили выборки и выбранноого распределения - в нашем случае, нормального."
   ]
  },
  {
   "cell_type": "code",
   "metadata": {
    "colab": {
     "base_uri": "https://localhost:8080/",
     "height": 295
    },
    "id": "2wHRgVl-P-R1",
    "outputId": "8aed67c2-c907-4104-a129-b15c84f07c33",
    "pycharm": {
     "name": "#%%\n"
    }
   },
   "source": [
    "sm.qqplot(df.diff_price, fit = True)\n",
    "plt.title(\"QQ plot\")\n",
    "plt.show()"
   ],
   "execution_count": 36,
   "outputs": [
    {
     "data": {
      "text/plain": "<Figure size 1000x700 with 1 Axes>",
      "image/png": "[encoded data removed]"
     },
     "metadata": {},
     "output_type": "display_data"
    }
   ]
  },
  {
   "cell_type": "markdown",
   "metadata": {
    "id": "7tVXqg9QP-R1",
    "pycharm": {
     "name": "#%% md\n"
    }
   },
   "source": [
    "Кажется, что можно использовать стандартные доверительные интервалы для нормального распределения. Для этого воспользуемся функцией https://docs.scipy.org/doc/scipy/reference/generated/scipy.stats.norm.html"
   ]
  },
  {
   "cell_type": "code",
   "metadata": {
    "id": "aTZcgylVP-R2",
    "pycharm": {
     "name": "#%%\n"
    }
   },
   "source": [
    "def my_norm_confidence(df=df, column = \"diff_price\", alpha = 0.95):\n",
    "    interval = stats.norm.interval(alpha, loc=df[column].mean(), scale=df[column].std())\n",
    "    return interval"
   ],
   "execution_count": 37,
   "outputs": []
  },
  {
   "cell_type": "code",
   "metadata": {
    "colab": {
     "base_uri": "https://localhost:8080/"
    },
    "id": "LyD6ONlIP-R2",
    "outputId": "35fa44d0-2b7e-42be-fee3-72203f923942",
    "pycharm": {
     "name": "#%%\n"
    }
   },
   "source": [
    "confidence = my_norm_confidence()\n",
    "print(confidence)"
   ],
   "execution_count": 38,
   "outputs": [
    {
     "name": "stdout",
     "output_type": "stream",
     "text": [
      "(nan, nan)\n"
     ]
    }
   ]
  },
  {
   "cell_type": "markdown",
   "metadata": {
    "id": "Ua7Y0Ev-P-R2",
    "pycharm": {
     "name": "#%% md\n"
    }
   },
   "source": [
    "При доверительной вероятности 95 % средняя разница между ценой закрытия и открытия не выйдет за этот интервал.\n",
    "Отметим на графике полученный коридор."
   ]
  },
  {
   "cell_type": "code",
   "metadata": {
    "colab": {
     "base_uri": "https://localhost:8080/",
     "height": 310
    },
    "id": "11eb2MblP-R2",
    "outputId": "58fc54b7-421b-4dc5-b147-6eedf354a6f8",
    "pycharm": {
     "name": "#%%\n"
    }
   },
   "source": [
    "df.diff_price.plot()\n",
    "plt.axhline(y=confidence[1], color=\"g\", linestyle=\"-\")\n",
    "plt.axhline(y=confidence[0], color=\"r\", linestyle=\"-\")\n",
    "plt.title(\"Доверительный интервал\")"
   ],
   "execution_count": 39,
   "outputs": [
    {
     "data": {
      "text/plain": "Text(0.5, 1.0, 'Доверительный интервал')"
     },
     "execution_count": 39,
     "metadata": {},
     "output_type": "execute_result"
    },
    {
     "data": {
      "text/plain": "<Figure size 1000x700 with 1 Axes>",
      "image/png": "[encoded data removed]"
     },
     "metadata": {},
     "output_type": "display_data"
    }
   ]
  },
  {
   "cell_type": "markdown",
   "metadata": {
    "id": "14iRY-jsP-R2",
    "pycharm": {
     "name": "#%% md\n"
    }
   },
   "source": [
    "## Отбор аномалий при помощи доверительного интервала"
   ]
  },
  {
   "cell_type": "markdown",
   "metadata": {
    "id": "KTzAsL4lP-R2",
    "pycharm": {
     "name": "#%% md\n"
    }
   },
   "source": [
    "А если нам понадобится отметить аномальные события, выходящие за зеленую границу, то это можно сделать следующим образом"
   ]
  },
  {
   "cell_type": "code",
   "metadata": {
    "id": "YHUOgnFCP-R3",
    "pycharm": {
     "name": "#%%\n"
    }
   },
   "source": [
    "df[\"anomaly_big\"] = np.where(df.diff_price > confidence[1], 1,0)"
   ],
   "execution_count": 40,
   "outputs": []
  },
  {
   "cell_type": "markdown",
   "metadata": {
    "id": "ZJMpL_qjP-R3",
    "pycharm": {
     "name": "#%% md\n"
    }
   },
   "source": [
    "Теперь они готовы к дальнейшему исследованию."
   ]
  },
  {
   "cell_type": "code",
   "metadata": {
    "colab": {
     "base_uri": "https://localhost:8080/",
     "height": 297
    },
    "id": "m_MCB0zDP-R3",
    "outputId": "00ecefa8-e17e-467f-d7ce-a84aa811bcb1",
    "pycharm": {
     "name": "#%%\n"
    }
   },
   "source": [
    "df[df.anomaly_big == 1].describe()"
   ],
   "execution_count": 41,
   "outputs": [
    {
     "data": {
      "text/plain": "       open  high  low  close  adj close  volume  diff_price  anomaly_big\ncount   0.0   0.0  0.0    0.0        0.0     0.0         0.0          0.0\nmean    NaN   NaN  NaN    NaN        NaN     NaN         NaN          NaN\nstd     NaN   NaN  NaN    NaN        NaN     NaN         NaN          NaN\nmin     NaN   NaN  NaN    NaN        NaN     NaN         NaN          NaN\n25%     NaN   NaN  NaN    NaN        NaN     NaN         NaN          NaN\n50%     NaN   NaN  NaN    NaN        NaN     NaN         NaN          NaN\n75%     NaN   NaN  NaN    NaN        NaN     NaN         NaN          NaN\nmax     NaN   NaN  NaN    NaN        NaN     NaN         NaN          NaN",
      "text/html": "<div>\n<style scoped>\n    .dataframe tbody tr th:only-of-type {\n        vertical-align: middle;\n    }\n\n    .dataframe tbody tr th {\n        vertical-align: top;\n    }\n\n    .dataframe thead th {\n        text-align: right;\n    }\n</style>\n<table border=\"1\" class=\"dataframe\">\n  <thead>\n    <tr style=\"text-align: right;\">\n      <th></th>\n      <th>open</th>\n      <th>high</th>\n      <th>low</th>\n      <th>close</th>\n      <th>adj close</th>\n      <th>volume</th>\n      <th>diff_price</th>\n      <th>anomaly_big</th>\n    </tr>\n  </thead>\n  <tbody>\n    <tr>\n      <th>count</th>\n      <td>0.0</td>\n      <td>0.0</td>\n      <td>0.0</td>\n      <td>0.0</td>\n      <td>0.0</td>\n      <td>0.0</td>\n      <td>0.0</td>\n      <td>0.0</td>\n    </tr>\n    <tr>\n      <th>mean</th>\n      <td>NaN</td>\n      <td>NaN</td>\n      <td>NaN</td>\n      <td>NaN</td>\n      <td>NaN</td>\n      <td>NaN</td>\n      <td>NaN</td>\n      <td>NaN</td>\n    </tr>\n    <tr>\n      <th>std</th>\n      <td>NaN</td>\n      <td>NaN</td>\n      <td>NaN</td>\n      <td>NaN</td>\n      <td>NaN</td>\n      <td>NaN</td>\n      <td>NaN</td>\n      <td>NaN</td>\n    </tr>\n    <tr>\n      <th>min</th>\n      <td>NaN</td>\n      <td>NaN</td>\n      <td>NaN</td>\n      <td>NaN</td>\n      <td>NaN</td>\n      <td>NaN</td>\n      <td>NaN</td>\n      <td>NaN</td>\n    </tr>\n    <tr>\n      <th>25%</th>\n      <td>NaN</td>\n      <td>NaN</td>\n      <td>NaN</td>\n      <td>NaN</td>\n      <td>NaN</td>\n      <td>NaN</td>\n      <td>NaN</td>\n      <td>NaN</td>\n    </tr>\n    <tr>\n      <th>50%</th>\n      <td>NaN</td>\n      <td>NaN</td>\n      <td>NaN</td>\n      <td>NaN</td>\n      <td>NaN</td>\n      <td>NaN</td>\n      <td>NaN</td>\n      <td>NaN</td>\n    </tr>\n    <tr>\n      <th>75%</th>\n      <td>NaN</td>\n      <td>NaN</td>\n      <td>NaN</td>\n      <td>NaN</td>\n      <td>NaN</td>\n      <td>NaN</td>\n      <td>NaN</td>\n      <td>NaN</td>\n    </tr>\n    <tr>\n      <th>max</th>\n      <td>NaN</td>\n      <td>NaN</td>\n      <td>NaN</td>\n      <td>NaN</td>\n      <td>NaN</td>\n      <td>NaN</td>\n      <td>NaN</td>\n      <td>NaN</td>\n    </tr>\n  </tbody>\n</table>\n</div>"
     },
     "execution_count": 41,
     "metadata": {},
     "output_type": "execute_result"
    }
   ]
  },
  {
   "cell_type": "markdown",
   "metadata": {
    "id": "0YSiLKU3P-R3",
    "pycharm": {
     "name": "#%% md\n"
    }
   },
   "source": [
    "# Мини домашка"
   ]
  },
  {
   "cell_type": "markdown",
   "metadata": {
    "id": "UYe_62hYP-R3",
    "pycharm": {
     "name": "#%% md\n"
    }
   },
   "source": [
    "Необходимо построить для тех же данных доверительный интервал с доверительной вероятностью 90 %\n",
    "Сколько аномальных событий находится выше верхней доверительной границы?"
   ]
  }
 ]
}