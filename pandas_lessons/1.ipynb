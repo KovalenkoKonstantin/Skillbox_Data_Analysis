﻿{
 "cells": [
  {
   "cell_type": "code",
   "execution_count": 7,
   "metadata": {
    "collapsed": true,
    "pycharm": {
     "name": "#%%\n"
    }
   },
   "outputs": [
    {
     "name": "stdout",
     "output_type": "stream",
     "text": [
      "   tab_N employee_name  policy_number\n",
      "0      1         Alice            101\n",
      "1      2           Bob            102\n",
      "2      3       Charlie            103\n",
      "   tab_N employee_name  policy_number policy_type\n",
      "0      1         Alice            101      Health\n",
      "1      2           Bob            102        Auto\n",
      "2      3          Dave            104        Home\n",
      "   tab_N employee_name  policy_number policy_type\n",
      "0      1         Alice            101      Health\n",
      "1      2           Bob            102        Auto\n",
      "2      3       Charlie            103         NaN\n"
     ]
    }
   ],
   "source": [
    "import pandas as pd\n",
    "\n",
    "# Создание DataFrame df1\n",
    "data1 = {'tab_N': [1, 2, 3],\n",
    "         'employee_name': ['Alice', 'Bob', 'Charlie'],\n",
    "         'policy_number': [101, 102, 103]}\n",
    "df1 = pd.DataFrame(data1)\n",
    "print(df1)\n",
    "\n",
    "# Создание DataFrame df2\n",
    "data2 = {'tab_N': [1, 2, 3],\n",
    "         'employee_name': ['Alice', 'Bob', 'Dave'],\n",
    "         'policy_number': [101, 102, 104],\n",
    "         'policy_type': ['Health', 'Auto', 'Home']}\n",
    "df2 = pd.DataFrame(data2)\n",
    "print(df2)\n",
    "\n",
    "# Объединение DataFrame df1 и df2 по трем условиям\n",
    "merged_df = pd.merge(df1, df2, on=['tab_N', 'employee_name', 'policy_number'], how='left')\n",
    "print(merged_df)"
   ]
  },
  {
   "cell_type": "code",
   "execution_count": 9,
   "outputs": [
    {
     "name": "stdout",
     "output_type": "stream",
     "text": [
      "  month_name  year_number employee_name  calendar_days\n",
      "0     Август         2023         Alice             20\n",
      "1       Июль         2023           Bob             22\n",
      "2     Август         2022       Charlie             21\n",
      "  employee_name\n",
      "0         Alice\n",
      "1           Bob\n",
      "2       Charlie\n",
      "  employee_name month_name  year_number  calendar_days\n",
      "0         Alice     Август       2023.0           20.0\n",
      "1           Bob        NaN          NaN            NaN\n",
      "2       Charlie        NaN          NaN            NaN\n"
     ]
    }
   ],
   "source": [
    "# Создание DataFrame worktime\n",
    "data_worktime = {'month_name': ['Август', 'Июль', 'Август'],\n",
    "'year_number': [2023, 2023, 2022],\n",
    "'employee_name': ['Alice', 'Bob', 'Charlie'],\n",
    "'calendar_days': [20, 22, 21]}\n",
    "worktime = pd.DataFrame(data_worktime)\n",
    "\n",
    "# Создание DataFrame df\n",
    "data_df = {'employee_name': ['Alice', 'Bob', 'Charlie']}\n",
    "df = pd.DataFrame(data_df)\n",
    "\n",
    "# Объединение DataFrame df с значениями из worktime по указанным условиям\n",
    "result = pd.merge(df, worktime[(worktime['year_number'] == 2023) & (worktime['month_name'] == 'Август')],\n",
    "on='employee_name', how='left')\n",
    "\n",
    "print(worktime)\n",
    "print(df)\n",
    "print(result)"
   ],
   "metadata": {
    "collapsed": false,
    "pycharm": {
     "name": "#%%\n"
    }
   }
  },
  {
   "cell_type": "code",
   "execution_count": 10,
   "outputs": [
    {
     "name": "stdout",
     "output_type": "stream",
     "text": [
      "  month_name  year_number employee_name  calendar_days\n",
      "0     Август         2023         Alice             20\n",
      "1       Июль         2023           Bob             22\n",
      "2     Август         2022       Charlie             21\n",
      "  employee_name\n",
      "0         Alice\n",
      "1           Bob\n",
      "2       Charlie\n",
      "  employee_name  Август\n",
      "0         Alice    20.0\n",
      "1           Bob     0.0\n",
      "2       Charlie     0.0\n"
     ]
    }
   ],
   "source": [
    "import pandas as pd\n",
    "\n",
    "# Создание DataFrame worktime\n",
    "data_worktime = {'month_name': ['Август', 'Июль', 'Август'],\n",
    "                 'year_number': [2023, 2023, 2022],\n",
    "                 'employee_name': ['Alice', 'Bob', 'Charlie'],\n",
    "                 'calendar_days': [20, 22, 21]}\n",
    "worktime = pd.DataFrame(data_worktime)\n",
    "\n",
    "# Создание DataFrame df\n",
    "data_df = {'employee_name': ['Alice', 'Bob', 'Charlie']}\n",
    "df = pd.DataFrame(data_df)\n",
    "\n",
    "# Объединение DataFrame df с значениями из worktime по указанным условиям\n",
    "result = pd.merge(df, worktime[(worktime['year_number'] == 2023) & (worktime['month_name'] == 'Август')][['employee_name', 'calendar_days']],\n",
    "                  on='employee_name', how='left')\n",
    "\n",
    "# Переименование столбца calendar_days в Август\n",
    "result = result.rename(columns={'calendar_days': 'Август'})\n",
    "\n",
    "# Заполнение пропущенных значений в столбце Август нулями (или другими значениями, по вашему выбору)\n",
    "result['Август'] = result['Август'].fillna(0)\n",
    "\n",
    "print(worktime)\n",
    "print(df)\n",
    "print(result)"
   ],
   "metadata": {
    "collapsed": false,
    "pycharm": {
     "name": "#%%\n"
    }
   }
  },
  {
   "cell_type": "code",
   "execution_count": null,
   "outputs": [],
   "source": [],
   "metadata": {
    "collapsed": false,
    "pycharm": {
     "name": "#%%\n"
    }
   }
  }
 ],
 "metadata": {
  "kernelspec": {
   "display_name": "Python 3",
   "language": "python",
   "name": "python3"
  },
  "language_info": {
   "codemirror_mode": {
    "name": "ipython",
    "version": 2
   },
   "file_extension": ".py",
   "mimetype": "text/x-python",
   "name": "python",
   "nbconvert_exporter": "python",
   "pygments_lexer": "ipython2",
   "version": "2.7.6"
  }
 },
 "nbformat": 4,
 "nbformat_minor": 0
}