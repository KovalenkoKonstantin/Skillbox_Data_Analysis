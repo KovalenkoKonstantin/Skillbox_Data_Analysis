﻿{
 "cells": [
  {
   "cell_type": "code",
   "execution_count": 54,
   "metadata": {
    "collapsed": true,
    "pycharm": {
     "name": "#%%\n"
    }
   },
   "outputs": [],
   "source": [
    "import pandas as pd\n",
    "import sqlalchemy\n",
    "import datetime\n",
    "from tkinter import filedialog as fd\n",
    "from openpyxl import Workbook"
   ]
  },
  {
   "cell_type": "code",
   "execution_count": 55,
   "outputs": [],
   "source": [
    "# настройки\n",
    "file_name = 'ДМС_ПМ.xlsx'\n",
    "procedure = 'GetEmployeeRefreshAlt'\n",
    "company_id = 9\n",
    "\n",
    "current_year = datetime.datetime.now().strftime('%Y')\n",
    "current_month = datetime.datetime.now().strftime('%m')"
   ],
   "metadata": {
    "collapsed": false,
    "pycharm": {
     "name": "#%%\n"
    }
   }
  },
  {
   "cell_type": "code",
   "execution_count": 56,
   "outputs": [],
   "source": [
    "# получение данных из sql\n",
    "def request(request):\n",
    "    version = 'mssql'\n",
    "    driver = 'pymssql'\n",
    "    user = 'rkm_ro'\n",
    "    password = 'ip%U1PO7C$Zb'\n",
    "    server = 'msk-sql-02'\n",
    "    data_base = 'RKM'\n",
    "    # request = 'exec GetEmployeeRefresh 9'\n",
    "\n",
    "    conn = f'{version}+{driver}://{user}:{password}@{server}/{data_base}?charset=utf8'\n",
    "\n",
    "    engine = sqlalchemy.create_engine(conn)  # создание отдельного подключения к БД\n",
    "    connect = engine.connect()  # создаётся объект подключения к БД\n",
    "    df = pd.read_sql(f\"{request}\", connect)\n",
    "    return df\n",
    "\n",
    "\n",
    "result = request(f'execute {procedure} {company_id};')\n",
    "query = pd.DataFrame(result)\n",
    "# query"
   ],
   "metadata": {
    "collapsed": false,
    "pycharm": {
     "name": "#%%\n"
    }
   }
  },
  {
   "cell_type": "code",
   "execution_count": 57,
   "outputs": [],
   "source": [
    "procedure = 'GetVHI'\n",
    "current_year = 2023\n",
    "\n",
    "# получение данных из sql\n",
    "def request(request):\n",
    "    version = 'mssql'\n",
    "    driver = 'pymssql'\n",
    "    user = 'rkm_ro'\n",
    "    password = 'ip%U1PO7C$Zb'\n",
    "    server = 'msk-sql-02'\n",
    "    data_base = 'RKM'\n",
    "    # request = 'exec GetEmployeeRefresh 9'\n",
    "\n",
    "    conn = f'{version}+{driver}://{user}:{password}@{server}/{data_base}?charset=utf8'\n",
    "\n",
    "    engine = sqlalchemy.create_engine(conn)  # создание отдельного подключения к БД\n",
    "    connect = engine.connect()  # создаётся объект подключения к БД\n",
    "    df = pd.read_sql(f\"{request}\", connect)\n",
    "    return df\n",
    "\n",
    "\n",
    "result = request(f'execute {procedure} {company_id}, {current_year};')\n",
    "query = pd.DataFrame(result)\n",
    "# query"
   ],
   "metadata": {
    "collapsed": false,
    "pycharm": {
     "name": "#%%\n"
    }
   }
  },
  {
   "cell_type": "code",
   "execution_count": 58,
   "outputs": [],
   "source": [
    "# переношу последний столбец на первое место\n",
    "df = query[['employee_name'] + [x for x in query.columns if x != 'employee_name']]\n",
    "# df"
   ],
   "metadata": {
    "collapsed": false,
    "pycharm": {
     "name": "#%%\n"
    }
   }
  },
  {
   "cell_type": "code",
   "execution_count": null,
   "outputs": [],
   "source": [
    "# сортирую по имени\n",
    "df.sort_values(by='employee_name', ascending=False)\n",
    "# df"
   ],
   "metadata": {
    "collapsed": false,
    "pycharm": {
     "name": "#%%\n",
     "is_executing": true
    }
   }
  },
  {
   "cell_type": "code",
   "execution_count": 49,
   "outputs": [],
   "source": [
    "# задаю формат последней колонки\n",
    "df['detachment_date'] = pd.to_datetime(df['detachment_date'], format='%Y-%m-%d')\n",
    "# display(df)\n",
    "\n",
    "# df['detachment_date'] = df['detachment_date'].dt.date\n",
    "# df"
   ],
   "metadata": {
    "collapsed": false,
    "pycharm": {
     "name": "#%%\n"
    }
   }
  },
  {
   "cell_type": "code",
   "execution_count": null,
   "outputs": [],
   "source": [
    "# замена 1753-01-01 на пустое значение\n",
    "df = df.replace(to_replace=\"1753-01-01\",\n",
    "           value=\"\")\n",
    "# df"
   ],
   "metadata": {
    "collapsed": false,
    "pycharm": {
     "name": "#%%\n",
     "is_executing": true
    }
   }
  },
  {
   "cell_type": "code",
   "execution_count": 51,
   "outputs": [],
   "source": [
    "path = 'y:/_Свод документов для РКМ/..............Новое хранение информации/Автоматизация/ДМС/'\n",
    "# запись фрейма в excel\n",
    "with pd.ExcelWriter(path + file_name, engine=\"xlsxwriter\", mode='w') as writer:\n",
    "    df.to_excel(writer, sheet_name='ДМС', index=False)\n",
    "\n",
    "    #Auto adjust columns\n",
    "    for column in df:\n",
    "        column_width = max(df[column].astype(str).map(len).max(), len(column))\n",
    "        col_idx = df.columns.get_loc(column)\n",
    "        writer.sheets['ДМС'].set_column(col_idx, col_idx, column_width)"
   ],
   "metadata": {
    "collapsed": false,
    "pycharm": {
     "name": "#%%\n"
    }
   }
  },
  {
   "cell_type": "code",
   "execution_count": null,
   "outputs": [],
   "source": [
    "# new_data.to_excel(\n",
    "#     path + file_name,\n",
    "#     index=False, sheet_name='Премии')"
   ],
   "metadata": {
    "collapsed": false,
    "pycharm": {
     "name": "#%%\n"
    }
   }
  }
 ],
 "metadata": {
  "kernelspec": {
   "display_name": "Python 3",
   "language": "python",
   "name": "python3"
  },
  "language_info": {
   "codemirror_mode": {
    "name": "ipython",
    "version": 2
   },
   "file_extension": ".py",
   "mimetype": "text/x-python",
   "name": "python",
   "nbconvert_exporter": "python",
   "pygments_lexer": "ipython2",
   "version": "2.7.6"
  }
 },
 "nbformat": 4,
 "nbformat_minor": 0
}