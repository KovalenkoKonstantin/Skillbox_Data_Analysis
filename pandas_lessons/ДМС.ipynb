﻿{
 "cells": [
  {
   "cell_type": "code",
   "execution_count": 1,
   "outputs": [],
   "source": [
    "import pandas as pd\n",
    "import sqlalchemy\n",
    "import datetime\n",
    "from tkinter import filedialog as fd\n",
    "from openpyxl import Workbook"
   ],
   "metadata": {
    "collapsed": false,
    "pycharm": {
     "name": "#%%\n"
    }
   }
  },
  {
   "cell_type": "code",
   "execution_count": 2,
   "outputs": [],
   "source": [
    "# настройки\n",
    "file_name = 'ДМС_ПМ.xlsx'\n",
    "EmployeeChangesProcedure = 'GetEmployeeChangesRefreshAlt'\n",
    "GetWorktimeProcedure = 'GetWorktimeAlt'\n",
    "GetEmployeeRefreshAltДМСProcedure = 'GetEmployeeRefreshAltДМС'\n",
    "GetVHIProcedure = 'GetVHI'\n",
    "company_id = 9\n",
    "year_id = 2023\n",
    "start_date = datetime.datetime(year_id, 7, 31).date()\n",
    "path = 'y:/_Свод документов для РКМ/..............Новое хранение информации/Автоматизация/ДМС/'\n",
    "\n",
    "current_year = datetime.datetime.now().strftime('%Y')\n",
    "current_month = datetime.datetime.now().strftime('%m')"
   ],
   "metadata": {
    "collapsed": false,
    "pycharm": {
     "name": "#%%\n"
    }
   }
  },
  {
   "cell_type": "code",
   "execution_count": 3,
   "outputs": [],
   "source": [
    "# получение данных из sql\n",
    "def request(request):\n",
    "    version = 'mssql'\n",
    "    driver = 'pymssql'\n",
    "    user = 'rkm_ro'\n",
    "    password = 'ip%U1PO7C$Zb'\n",
    "    server = 'msk-sql-02'\n",
    "    data_base = 'RKM'\n",
    "    # request = 'exec GetEmployeeRefresh 9'\n",
    "\n",
    "    conn = f'{version}+{driver}://{user}:{password}@{server}/{data_base}?charset=utf8'\n",
    "\n",
    "    engine = sqlalchemy.create_engine(conn)  # создание отдельного подключения к БД\n",
    "    connect = engine.connect()  # создаётся объект подключения к БД\n",
    "    df = pd.read_sql(f\"{request}\", connect)\n",
    "    return df\n",
    "\n",
    "\n",
    "result = request(f'execute {EmployeeChangesProcedure} {company_id}, {year_id}, \"{start_date}\";')\n",
    "EmployeeChanges = pd.DataFrame(result)\n",
    "# EmployeeChanges\n",
    "\n",
    "result = request(f'execute {GetWorktimeProcedure} {company_id}, {year_id};')\n",
    "Worktime = pd.DataFrame(result)\n",
    "# Worktime\n",
    "\n",
    "result = request(f'execute {GetEmployeeRefreshAltДМСProcedure} {company_id}, \"{start_date}\";')\n",
    "Employee = pd.DataFrame(result)\n",
    "# Employee\n",
    "\n",
    "result = request(f'execute {GetVHIProcedure} {company_id}, {year_id}, \"{start_date}\";')\n",
    "VHI = pd.DataFrame(result)\n",
    "# VHI"
   ],
   "metadata": {
    "collapsed": false,
    "pycharm": {
     "name": "#%%\n"
    }
   }
  },
  {
   "cell_type": "code",
   "execution_count": 4,
   "outputs": [],
   "source": [
    "#вывожу уникальный список элементов столбца employee_department\n",
    "\n",
    "EmployeeChanges = pd.DataFrame({'employee_department': EmployeeChanges.employee_department.unique()})\n",
    "# EmployeeChanges"
   ],
   "metadata": {
    "collapsed": false,
    "pycharm": {
     "name": "#%%\n"
    }
   }
  },
  {
   "cell_type": "code",
   "execution_count": 111,
   "outputs": [],
   "source": [
    "# #словарь\n",
    "# dict1 = {'Направление аналитики':'Отдел разработки специальных технических средств',\n",
    "#          'Направление по работе с персоналом':'Администрация г. Новосибирск',\n",
    "#          'Направление разработки':'Отдел разработки специальных технических средств',\n",
    "#          'Направление разработки (ОП г. Новосибирск)':'Отдел разработки специальных технических средств г. Новосибирск',\n",
    "#          'Направление тестирования':'Отдел разработки специальных технических средств',\n",
    "#          'Направление тестирования (ОП г. Новосибирск)':'Отдел разработки специальных технических средств г. Новосибирск',\n",
    "#          'Проектный офис Коммерческого департамента':'Коммерческий департамент',\n",
    "#          'Направление развития продуктов и услуг Коммерческого департамента':'Коммерческий департамент',\n",
    "#          'Направление по работе с заказчиками Коммерческого департамента':'Коммерческий департамент',\n",
    "#          'Направление маркетинга Коммерческого департамента':'Коммерческий департамент',\n",
    "#          'Направление продаж Коммерческого департамента':'Коммерческий департамент'}\n",
    "#\n",
    "# EmployeeChanges['employee_department'] = EmployeeChanges['employee_department'].map(dict1)\n",
    "# # EmployeeChanges\n",
    "#\n",
    "# #замена значений в столбце по словарю\n",
    "# EmployeeChanges = (EmployeeChanges\n",
    "#       .query(\"employee_department in @dict1.keys()\")\n",
    "#       .assign(employee_department=lambda x: x[\"employee_department\"].replace(dict1)))\n",
    "# # EmployeeChanges"
   ],
   "metadata": {
    "collapsed": false,
    "pycharm": {
     "name": "#%%\n"
    }
   }
  },
  {
   "cell_type": "code",
   "execution_count": 5,
   "outputs": [],
   "source": [
    "#задаю правила замены\n",
    "EmployeeChanges['employee_department'] = EmployeeChanges['employee_department'].replace(\n",
    "    [\n",
    "    'Направление аналитики',\n",
    "    'Направление по работе с персоналом',\n",
    "    'Направление разработки',\n",
    "    'Направление разработки (ОП г. Новосибирск)',\n",
    "    'Направление тестирования',\n",
    "    'Направление тестирования (ОП г. Новосибирск)',\n",
    "    'Проектный офис Коммерческого департамента',\n",
    "    'Направление развития продуктов и услуг Коммерческого департамента',\n",
    "    'Направление по работе с заказчиками Коммерческого департамента',\n",
    "    'Направление маркетинга Коммерческого департамента',\n",
    "    'Направление продаж Коммерческого департамента',\n",
    "    'Направление учебно-методической поддержки / ВСИП/ г. Санкт-Петербург',\n",
    "    'Направление по работе с персоналом / Администрация / ОП Томск',\n",
    "    'Направление учебно-методической поддержки / ВСИП',\n",
    "    'Направление моделирования атак / ВСИП/ ОП Томск',\n",
    "    'Направление поддержки и развития инфраструктуры разработки / ВСИП',\n",
    "    'Направление поддержки и развития инфраструктуры разработки / ВСИП/ г. Санкт-Петербург',\n",
    "    'Направление поддержки и развития ИТ-инфраструктуры / ВСИП',\n",
    "    'Направление поддержки и развития инфраструктуры разработки / ВСИП/ ОП Новосибирск',\n",
    "    'Направление поддержки и развития инфраструктуры разработки / ВСИП/ ОП Томск',\n",
    "    'Направление поддержки и развития ИТ-инфраструктуры / ВСИП / Новосибирск'\n",
    "],[\n",
    "    'Отдел разработки специальных технических средств',\n",
    "    'Администрация г. Новосибирск',\n",
    "    'Отдел разработки специальных технических средств',\n",
    "    'Отдел разработки специальных технических средств г. Новосибирск',\n",
    "    'Отдел разработки специальных технических средств',\n",
    "    'Отдел разработки специальных технических средств г. Новосибирск',\n",
    "    'Коммерческий департамент',\n",
    "    'Коммерческий департамент',\n",
    "    'Коммерческий департамент',\n",
    "    'Коммерческий департамент',\n",
    "    'Коммерческий департамент',\n",
    "    'Отдел внедрения и сопровождения инфраструктурных проектов (ОП г. Санкт-Петербург)',\n",
    "    'Администрация (ОП г.Томск)',\n",
    "    'Отдел внедрения и сопровождения инфраструктурных проектов (ОП г. Санкт-Петербург)',\n",
    "    'Отдел внедрения и сопровождения инфраструктурных проектов (ОП г. Томск)',\n",
    "    'Отдел внедрения и сопровождения инфраструктурных проектов (ОП г. Томск)',\n",
    "    'Отдел внедрения и сопровождения инфраструктурных проектов (ОП г. Санкт-Петербург)',\n",
    "    'Отдел внедрения и сопровождения инфраструктурных проектов',\n",
    "    'Отдел внедрения и сопровождения инфраструктурных проектов (ОП г. Новосибирск)',\n",
    "    'Отдел внедрения и сопровождения инфраструктурных проектов (ОП г. Томск)',\n",
    "    'Отдел внедрения и сопровождения инфраструктурных проектов (ОП г. Новосибирск)'\n",
    "      ])\n",
    "#вывожу уникальные значения\n",
    "EmployeeChanges = pd.DataFrame({'employee_department': EmployeeChanges.employee_department.unique()})\n",
    "#сортирую по имени\n",
    "EmployeeChanges= EmployeeChanges.sort_values(by=['employee_department'], ascending=True)\n",
    "#сбрасываю индексацию\n",
    "EmployeeChanges.reset_index(drop=True, inplace=True)\n",
    "#именую столбец с индексами\n",
    "EmployeeChanges.index.name = 'index'"
   ],
   "metadata": {
    "collapsed": false,
    "pycharm": {
     "name": "#%%\n"
    }
   }
  },
  {
   "cell_type": "code",
   "execution_count": 6,
   "outputs": [],
   "source": [
    "# #объединение таблицы Employee с таблицей VHI по tab_N\n",
    "# df = Employee.merge(VHI[['tab_N', 'insurance_program']], on='tab_N', how='inner')\n",
    "\n",
    "# #объединение таблицы Employee с таблицей VHI по tab_N\n",
    "# df = df.merge(VHI[['tab_N', 'policy_number']], on='tab_N', how='inner')\n",
    "\n",
    "# #второй способ\n",
    "# df_merged = pd.merge(\n",
    "#     Employee, VHI,\n",
    "#     left_on='tab_N',\n",
    "#     right_on='tab_N'\n",
    "# )\n",
    "\n",
    "#объединение таблицы Employee с таблицей VHI по tab_N\n",
    "df = pd.merge(Employee, VHI, on='tab_N', how='left')\n",
    "\n",
    "# Удаление строк, где значение в столбце 'insurance_program' содержит \"НС\"\n",
    "df = df[~df['insurance_program'].str.contains(' НС')]\n",
    "\n",
    "# Удаление строк, где значение в столбце 'policy_number' содержит \"НС\"\n",
    "df = df[~df['policy_number'].str.contains('НС')]\n",
    "\n",
    "# # Объединить DataFrame 'df' и 'VHI' по столбцу 'tab_N' и выбрать только нужные столбцы 'policy_issue_date' и 'policy_expiration_date'\n",
    "# merged_df = pd.merge(df, VHI[['tab_N', 'policy_issue_date', 'policy_expiration_date']], on=['tab_N', 'employee_name', 'policy_number'], how='left')\n",
    "\n",
    "# Employee\n",
    "# df.info()\n",
    "# VHI.info()\n",
    "\n",
    "# Удаление столбца \"employee_name_y\"\n",
    "df = df.drop(columns=['employee_name_y'])\n",
    "\n",
    "# Удаление столбца \"employee_insurance\"\n",
    "df = df.drop(columns=['employee_insurance'])\n",
    "\n",
    "# Переименование столбца \"employee_name_x\" в \"employee_name\"\n",
    "df = df.rename(columns={'employee_name_x': 'employee_name'})\n",
    "\n",
    "#сбрасываю индексацию\n",
    "df.reset_index(drop=True, inplace=True)\n",
    "#именую столбец с индексами\n",
    "df.index.name = 'index'\n",
    "\n",
    "# df"
   ],
   "metadata": {
    "collapsed": false,
    "pycharm": {
     "name": "#%%\n"
    }
   }
  },
  {
   "cell_type": "code",
   "execution_count": 7,
   "outputs": [],
   "source": [
    "#функция\n",
    "def ad_days(df,  month, year):\n",
    "    # Объединение DataFrame df с значениями из Worktime по указанным условиям\n",
    "    result = pd.merge(df, Worktime[(Worktime['year_number'] == year) & (Worktime['month_name'] == month)][['tab_N', 'calendar_days']],\n",
    "                      on='tab_N', how='left')\n",
    "    # Переименование столбца calendar_days в Август\n",
    "    result = result.rename(columns={'calendar_days': month})\n",
    "\n",
    "    return result"
   ],
   "metadata": {
    "collapsed": false,
    "pycharm": {
     "name": "#%%\n"
    }
   }
  },
  {
   "cell_type": "code",
   "execution_count": 23,
   "outputs": [
    {
     "data": {
      "text/plain": "                     employee_name       tab_N           insurance_program  \\\n0       Адыкаев Чингиз Улугбекович  0000000270      АЛЬФА 2023 НОВОСИБИРСК   \n1         Артёмов Виктор Романович  0000000170      АЛЬФА 2023 НОВОСИБИРСК   \n2      Бабушкин Алексей Алексеевич  0000000223      АЛЬФА 2023 НОВОСИБИРСК   \n3        Баринова Яна Вячеславовна  0000000334  АЛЬФА 2023 САНКТ-ПЕТЕРБУРГ   \n4     Бериков Алексей Владимирович  0000000325      АЛЬФА 2023 НОВОСИБИРСК   \n..                             ...         ...                         ...   \n102     Чернов Артем Александрович  0000000281  АЛЬФА 2023 САНКТ-ПЕТЕРБУРГ   \n103       Ширкунов Евгений Юрьевич  0000000208         1 АЛЬФА 2023 МОСКВА   \n104     Шкуратов Дмитрий Борисович  0000000390      АЛЬФА 2023 НОВОСИБИРСК   \n105       Шорин Роман Вячеславович  0000000177         3 АЛЬФА 2023 МОСКВА   \n106  Щепетова Анастасия Викторовна  0000000228         1 АЛЬФА 2023 МОСКВА   \n\n    policy_issue_date policy_expiration_date  employer_cost  employee_cost  \\\n0          2023-08-01             2024-07-31        17000.0            0.0   \n1          2023-08-01             2024-07-31        17000.0            0.0   \n2          2023-08-01             2024-07-31        17000.0            0.0   \n3          2023-10-20             2024-07-31        25000.0            0.0   \n4          2024-03-01             2024-07-31        17000.0            0.0   \n..                ...                    ...            ...            ...   \n102        2023-08-01             2024-07-31        25000.0            0.0   \n103        2023-08-01             2024-07-31        28240.0          800.0   \n104        2024-02-20             2024-07-31        17000.0            0.0   \n105        2023-08-01             2024-07-31        28240.0        19215.0   \n106        2023-08-01             2024-07-31        28240.0            0.0   \n\n    policy_number  year Дата открепления  ... Октябрь  Ноябрь Декабрь  Январь  \\\n0        66579586  2023                   ...    31.0    30.0    31.0    31.0   \n1        66579578  2023       2024-02-27  ...    31.0    30.0    31.0    31.0   \n2        66579569  2023                   ...    31.0    30.0    31.0    31.0   \n3        66924454  2023                   ...    31.0    30.0    31.0    31.0   \n4        67314687  2024                   ...    31.0    30.0    31.0    31.0   \n..            ...   ...              ...  ...     ...     ...     ...     ...   \n102      66579549  2023                   ...    31.0    30.0    31.0    31.0   \n103      66579579  2023                   ...    31.0    30.0    31.0    31.0   \n104      67308112  2024                   ...     NaN     NaN     NaN     NaN   \n105      66579608  2023       2024-02-04  ...    31.0    30.0    31.0    31.0   \n106      66579567  2023                   ...    31.0    30.0    31.0    31.0   \n\n     Февраль  Март  Апрель   Май  Июнь  Июль  \n0       29.0  31.0    30.0  31.0  30.0  31.0  \n1       29.0   NaN     NaN   NaN   NaN   NaN  \n2       29.0  31.0    30.0  31.0  30.0  31.0  \n3       29.0  31.0    30.0  31.0  30.0  31.0  \n4       29.0  31.0    30.0  31.0  30.0  31.0  \n..       ...   ...     ...   ...   ...   ...  \n102     29.0  31.0    30.0  31.0  30.0  31.0  \n103     29.0  31.0    30.0  31.0  30.0  31.0  \n104     29.0  31.0    30.0  31.0  30.0  31.0  \n105      NaN   NaN     NaN   NaN   NaN   NaN  \n106     29.0  31.0    30.0  31.0  30.0  31.0  \n\n[107 rows x 25 columns]",
      "text/html": "<div>\n<style scoped>\n    .dataframe tbody tr th:only-of-type {\n        vertical-align: middle;\n    }\n\n    .dataframe tbody tr th {\n        vertical-align: top;\n    }\n\n    .dataframe thead th {\n        text-align: right;\n    }\n</style>\n<table border=\"1\" class=\"dataframe\">\n  <thead>\n    <tr style=\"text-align: right;\">\n      <th></th>\n      <th>employee_name</th>\n      <th>tab_N</th>\n      <th>insurance_program</th>\n      <th>policy_issue_date</th>\n      <th>policy_expiration_date</th>\n      <th>employer_cost</th>\n      <th>employee_cost</th>\n      <th>policy_number</th>\n      <th>year</th>\n      <th>Дата открепления</th>\n      <th>...</th>\n      <th>Октябрь</th>\n      <th>Ноябрь</th>\n      <th>Декабрь</th>\n      <th>Январь</th>\n      <th>Февраль</th>\n      <th>Март</th>\n      <th>Апрель</th>\n      <th>Май</th>\n      <th>Июнь</th>\n      <th>Июль</th>\n    </tr>\n  </thead>\n  <tbody>\n    <tr>\n      <th>0</th>\n      <td>Адыкаев Чингиз Улугбекович</td>\n      <td>0000000270</td>\n      <td>АЛЬФА 2023 НОВОСИБИРСК</td>\n      <td>2023-08-01</td>\n      <td>2024-07-31</td>\n      <td>17000.0</td>\n      <td>0.0</td>\n      <td>66579586</td>\n      <td>2023</td>\n      <td></td>\n      <td>...</td>\n      <td>31.0</td>\n      <td>30.0</td>\n      <td>31.0</td>\n      <td>31.0</td>\n      <td>29.0</td>\n      <td>31.0</td>\n      <td>30.0</td>\n      <td>31.0</td>\n      <td>30.0</td>\n      <td>31.0</td>\n    </tr>\n    <tr>\n      <th>1</th>\n      <td>Артёмов Виктор Романович</td>\n      <td>0000000170</td>\n      <td>АЛЬФА 2023 НОВОСИБИРСК</td>\n      <td>2023-08-01</td>\n      <td>2024-07-31</td>\n      <td>17000.0</td>\n      <td>0.0</td>\n      <td>66579578</td>\n      <td>2023</td>\n      <td>2024-02-27</td>\n      <td>...</td>\n      <td>31.0</td>\n      <td>30.0</td>\n      <td>31.0</td>\n      <td>31.0</td>\n      <td>29.0</td>\n      <td>NaN</td>\n      <td>NaN</td>\n      <td>NaN</td>\n      <td>NaN</td>\n      <td>NaN</td>\n    </tr>\n    <tr>\n      <th>2</th>\n      <td>Бабушкин Алексей Алексеевич</td>\n      <td>0000000223</td>\n      <td>АЛЬФА 2023 НОВОСИБИРСК</td>\n      <td>2023-08-01</td>\n      <td>2024-07-31</td>\n      <td>17000.0</td>\n      <td>0.0</td>\n      <td>66579569</td>\n      <td>2023</td>\n      <td></td>\n      <td>...</td>\n      <td>31.0</td>\n      <td>30.0</td>\n      <td>31.0</td>\n      <td>31.0</td>\n      <td>29.0</td>\n      <td>31.0</td>\n      <td>30.0</td>\n      <td>31.0</td>\n      <td>30.0</td>\n      <td>31.0</td>\n    </tr>\n    <tr>\n      <th>3</th>\n      <td>Баринова Яна Вячеславовна</td>\n      <td>0000000334</td>\n      <td>АЛЬФА 2023 САНКТ-ПЕТЕРБУРГ</td>\n      <td>2023-10-20</td>\n      <td>2024-07-31</td>\n      <td>25000.0</td>\n      <td>0.0</td>\n      <td>66924454</td>\n      <td>2023</td>\n      <td></td>\n      <td>...</td>\n      <td>31.0</td>\n      <td>30.0</td>\n      <td>31.0</td>\n      <td>31.0</td>\n      <td>29.0</td>\n      <td>31.0</td>\n      <td>30.0</td>\n      <td>31.0</td>\n      <td>30.0</td>\n      <td>31.0</td>\n    </tr>\n    <tr>\n      <th>4</th>\n      <td>Бериков Алексей Владимирович</td>\n      <td>0000000325</td>\n      <td>АЛЬФА 2023 НОВОСИБИРСК</td>\n      <td>2024-03-01</td>\n      <td>2024-07-31</td>\n      <td>17000.0</td>\n      <td>0.0</td>\n      <td>67314687</td>\n      <td>2024</td>\n      <td></td>\n      <td>...</td>\n      <td>31.0</td>\n      <td>30.0</td>\n      <td>31.0</td>\n      <td>31.0</td>\n      <td>29.0</td>\n      <td>31.0</td>\n      <td>30.0</td>\n      <td>31.0</td>\n      <td>30.0</td>\n      <td>31.0</td>\n    </tr>\n    <tr>\n      <th>...</th>\n      <td>...</td>\n      <td>...</td>\n      <td>...</td>\n      <td>...</td>\n      <td>...</td>\n      <td>...</td>\n      <td>...</td>\n      <td>...</td>\n      <td>...</td>\n      <td>...</td>\n      <td>...</td>\n      <td>...</td>\n      <td>...</td>\n      <td>...</td>\n      <td>...</td>\n      <td>...</td>\n      <td>...</td>\n      <td>...</td>\n      <td>...</td>\n      <td>...</td>\n      <td>...</td>\n    </tr>\n    <tr>\n      <th>102</th>\n      <td>Чернов Артем Александрович</td>\n      <td>0000000281</td>\n      <td>АЛЬФА 2023 САНКТ-ПЕТЕРБУРГ</td>\n      <td>2023-08-01</td>\n      <td>2024-07-31</td>\n      <td>25000.0</td>\n      <td>0.0</td>\n      <td>66579549</td>\n      <td>2023</td>\n      <td></td>\n      <td>...</td>\n      <td>31.0</td>\n      <td>30.0</td>\n      <td>31.0</td>\n      <td>31.0</td>\n      <td>29.0</td>\n      <td>31.0</td>\n      <td>30.0</td>\n      <td>31.0</td>\n      <td>30.0</td>\n      <td>31.0</td>\n    </tr>\n    <tr>\n      <th>103</th>\n      <td>Ширкунов Евгений Юрьевич</td>\n      <td>0000000208</td>\n      <td>1 АЛЬФА 2023 МОСКВА</td>\n      <td>2023-08-01</td>\n      <td>2024-07-31</td>\n      <td>28240.0</td>\n      <td>800.0</td>\n      <td>66579579</td>\n      <td>2023</td>\n      <td></td>\n      <td>...</td>\n      <td>31.0</td>\n      <td>30.0</td>\n      <td>31.0</td>\n      <td>31.0</td>\n      <td>29.0</td>\n      <td>31.0</td>\n      <td>30.0</td>\n      <td>31.0</td>\n      <td>30.0</td>\n      <td>31.0</td>\n    </tr>\n    <tr>\n      <th>104</th>\n      <td>Шкуратов Дмитрий Борисович</td>\n      <td>0000000390</td>\n      <td>АЛЬФА 2023 НОВОСИБИРСК</td>\n      <td>2024-02-20</td>\n      <td>2024-07-31</td>\n      <td>17000.0</td>\n      <td>0.0</td>\n      <td>67308112</td>\n      <td>2024</td>\n      <td></td>\n      <td>...</td>\n      <td>NaN</td>\n      <td>NaN</td>\n      <td>NaN</td>\n      <td>NaN</td>\n      <td>29.0</td>\n      <td>31.0</td>\n      <td>30.0</td>\n      <td>31.0</td>\n      <td>30.0</td>\n      <td>31.0</td>\n    </tr>\n    <tr>\n      <th>105</th>\n      <td>Шорин Роман Вячеславович</td>\n      <td>0000000177</td>\n      <td>3 АЛЬФА 2023 МОСКВА</td>\n      <td>2023-08-01</td>\n      <td>2024-07-31</td>\n      <td>28240.0</td>\n      <td>19215.0</td>\n      <td>66579608</td>\n      <td>2023</td>\n      <td>2024-02-04</td>\n      <td>...</td>\n      <td>31.0</td>\n      <td>30.0</td>\n      <td>31.0</td>\n      <td>31.0</td>\n      <td>NaN</td>\n      <td>NaN</td>\n      <td>NaN</td>\n      <td>NaN</td>\n      <td>NaN</td>\n      <td>NaN</td>\n    </tr>\n    <tr>\n      <th>106</th>\n      <td>Щепетова Анастасия Викторовна</td>\n      <td>0000000228</td>\n      <td>1 АЛЬФА 2023 МОСКВА</td>\n      <td>2023-08-01</td>\n      <td>2024-07-31</td>\n      <td>28240.0</td>\n      <td>0.0</td>\n      <td>66579567</td>\n      <td>2023</td>\n      <td></td>\n      <td>...</td>\n      <td>31.0</td>\n      <td>30.0</td>\n      <td>31.0</td>\n      <td>31.0</td>\n      <td>29.0</td>\n      <td>31.0</td>\n      <td>30.0</td>\n      <td>31.0</td>\n      <td>30.0</td>\n      <td>31.0</td>\n    </tr>\n  </tbody>\n</table>\n<p>107 rows × 25 columns</p>\n</div>"
     },
     "execution_count": 23,
     "metadata": {},
     "output_type": "execute_result"
    }
   ],
   "source": [
    "#применение функции\n",
    "result_df = ad_days(df, 'Август', 2023)\n",
    "result_df = ad_days(result_df, 'Сентябрь', 2023)\n",
    "result_df = ad_days(result_df, 'Октябрь', 2023)\n",
    "result_df = ad_days(result_df, 'Ноябрь', 2023)\n",
    "result_df = ad_days(result_df, 'Декабрь', 2023)\n",
    "result_df = ad_days(result_df, 'Январь', 2024)\n",
    "result_df = ad_days(result_df, 'Февраль', 2024)\n",
    "result_df = ad_days(result_df, 'Март', 2024)\n",
    "result_df = ad_days(result_df, 'Апрель', 2024)\n",
    "result_df = ad_days(result_df, 'Май', 2024)\n",
    "result_df = ad_days(result_df, 'Июнь', 2024)\n",
    "result_df = ad_days(result_df, 'Июль', 2024)\n",
    "\n",
    "#удаляю дупликаты\n",
    "result_df = result_df.drop_duplicates()\n",
    "#сбрасываю индексацию\n",
    "result_df.reset_index(drop=True, inplace=True)\n",
    "\n",
    "# result_df"
   ],
   "metadata": {
    "collapsed": false,
    "pycharm": {
     "name": "#%%\n"
    }
   }
  },
  {
   "cell_type": "code",
   "execution_count": 19,
   "outputs": [],
   "source": [
    "#функция пересчёта дней\n",
    "def recount_days(df, month_number, month_name, year_number, month):\n",
    "    # для предотвращения ошибки\n",
    "    df['policy_issue_date'] = df['policy_issue_date'].astype(str)\n",
    "    df['Дата открепления'] = df['Дата открепления'].astype(str)\n",
    "\n",
    "    # Разделение столбцов \"policy_issue_date\" и \"Дата открепления\" на отдельные столбцы день, месяц и год\n",
    "    df[['policy_year', 'policy_month', 'policy_day']] = df['policy_issue_date'].str.split('-', expand=True)\n",
    "    df[['unlink_year', 'unlink_month', 'unlink_day']] = df['Дата открепления'].str.split('-', expand=True)\n",
    "\n",
    "    # Замена значения в столбце \"Август\" на значение дня из столбца \"Дата открепления\"\n",
    "    condition1 = (df['unlink_month'] == month_number) & (df['unlink_year'] == year_number)\n",
    "    df.loc[condition1, month_name] = df.loc[condition1, 'unlink_day'].astype(int)\n",
    "\n",
    "    # Замена значения в столбце \"Август\" на разницу между днями с добавлением одного дня, если месяц равен 8 и год равен 2023\n",
    "    condition2 = (df['policy_month'] == month_number) & (df['policy_year'] == year_number)\n",
    "    df.loc[condition2, month_name] = (df.loc[condition2, 'unlink_day'].astype(int) - df.loc[condition2, 'policy_day'].astype(int)) + 1\n",
    "\n",
    "    # Преобразование даты в datetime\n",
    "    df['policy_issue_date'] = pd.to_datetime(df['policy_issue_date'])\n",
    "    df['Дата открепления'] = pd.to_datetime(df['Дата открепления'])\n",
    "    #условие когда полис ещё не началася либо уже закончился\n",
    "    condition3 = ((df['policy_issue_date'].dt.month > month) & (df['policy_issue_date'].dt.year == year_number)) | ((df['Дата открепления'].dt.month < month) & (df['Дата открепления'].dt.year == year_number)) | (df['policy_issue_date'].dt.year > year_number)\n",
    "    df.loc[condition3, month_name] = 0\n",
    "\n",
    "    # условие когда полис выдан в рассматриваемый месяц\n",
    "    condition4 = ((df['policy_issue_date'].dt.month == month) &\n",
    "    (df['policy_issue_date'].dt.year == year_number))\n",
    "    df.loc[condition4, month_name] = df.loc[condition4, month_name].astype(int) - df.loc[condition4, 'policy_day'].astype(int)\n",
    "\n",
    "    # Удаление временных столбцов 'policy_year', 'policy_month', 'policy_day' и 'unlink_year', 'unlink_month', 'unlink_day'\n",
    "    df = df.drop(['policy_year', 'policy_month', 'policy_day', 'unlink_year', 'unlink_month', 'unlink_day'], axis=1)\n",
    "\n",
    "    return df"
   ],
   "metadata": {
    "collapsed": false,
    "pycharm": {
     "name": "#%%\n"
    }
   }
  },
  {
   "cell_type": "code",
   "execution_count": 27,
   "outputs": [],
   "source": [
    "# Список месяцев и их порядковых номеров\n",
    "months = [('08', 'Август'), ('09', 'Сентябрь'), ('10', 'Октябрь'), ('11', 'Ноябрь'),('12', 'Декабрь'), ('01', 'Январь'), ('02', 'Февраль'), ('03', 'Март'),('04', 'Апрель'), ('05', 'Май'), ('06', 'Июнь'), ('07', 'Июль')]"
   ],
   "metadata": {
    "collapsed": false,
    "pycharm": {
     "name": "#%%\n"
    }
   }
  },
  {
   "cell_type": "code",
   "execution_count": 30,
   "outputs": [
    {
     "data": {
      "text/plain": "                     employee_name       tab_N           insurance_program  \\\n0       Адыкаев Чингиз Улугбекович  0000000270      АЛЬФА 2023 НОВОСИБИРСК   \n1         Артёмов Виктор Романович  0000000170      АЛЬФА 2023 НОВОСИБИРСК   \n2      Бабушкин Алексей Алексеевич  0000000223      АЛЬФА 2023 НОВОСИБИРСК   \n3        Баринова Яна Вячеславовна  0000000334  АЛЬФА 2023 САНКТ-ПЕТЕРБУРГ   \n4     Бериков Алексей Владимирович  0000000325      АЛЬФА 2023 НОВОСИБИРСК   \n..                             ...         ...                         ...   \n102     Чернов Артем Александрович  0000000281  АЛЬФА 2023 САНКТ-ПЕТЕРБУРГ   \n103       Ширкунов Евгений Юрьевич  0000000208         1 АЛЬФА 2023 МОСКВА   \n104     Шкуратов Дмитрий Борисович  0000000390      АЛЬФА 2023 НОВОСИБИРСК   \n105       Шорин Роман Вячеславович  0000000177         3 АЛЬФА 2023 МОСКВА   \n106  Щепетова Анастасия Викторовна  0000000228         1 АЛЬФА 2023 МОСКВА   \n\n    policy_issue_date policy_expiration_date  employer_cost  employee_cost  \\\n0          2023-08-01             2024-07-31        17000.0            0.0   \n1          2023-08-01             2024-07-31        17000.0            0.0   \n2          2023-08-01             2024-07-31        17000.0            0.0   \n3          2023-10-20             2024-07-31        25000.0            0.0   \n4          2024-03-01             2024-07-31        17000.0            0.0   \n..                ...                    ...            ...            ...   \n102        2023-08-01             2024-07-31        25000.0            0.0   \n103        2023-08-01             2024-07-31        28240.0          800.0   \n104        2024-02-20             2024-07-31        17000.0            0.0   \n105        2023-08-01             2024-07-31        28240.0        19215.0   \n106        2023-08-01             2024-07-31        28240.0            0.0   \n\n    policy_number  year Дата открепления  ... Октябрь  Ноябрь Декабрь  Январь  \\\n0        66579586  2023              NaT  ...    31.0    30.0    31.0    31.0   \n1        66579578  2023       2024-02-27  ...    31.0    30.0    31.0    31.0   \n2        66579569  2023              NaT  ...    31.0    30.0    31.0    31.0   \n3        66924454  2023              NaT  ...   -29.0    30.0    31.0    31.0   \n4        67314687  2024              NaT  ...     0.0     0.0     0.0     0.0   \n..            ...   ...              ...  ...     ...     ...     ...     ...   \n102      66579549  2023              NaT  ...    31.0    30.0    31.0    31.0   \n103      66579579  2023              NaT  ...    31.0    30.0    31.0    31.0   \n104      67308112  2024              NaT  ...     0.0     0.0     0.0     0.0   \n105      66579608  2023       2024-02-04  ...    31.0    30.0    31.0    31.0   \n106      66579567  2023              NaT  ...    31.0    30.0    31.0    31.0   \n\n     Февраль  Март  Апрель  Май  Июнь  Июль  \n0        0.0   0.0     0.0  0.0   0.0   0.0  \n1        0.0   0.0     0.0  0.0   0.0   0.0  \n2        0.0   0.0     0.0  0.0   0.0   0.0  \n3        0.0   0.0     0.0  0.0   0.0   0.0  \n4        0.0  -1.0     0.0  0.0   0.0   0.0  \n..       ...   ...     ...  ...   ...   ...  \n102      0.0   0.0     0.0  0.0   0.0   0.0  \n103      0.0   0.0     0.0  0.0   0.0   0.0  \n104    -20.0   0.0     0.0  0.0   0.0   0.0  \n105      0.0   0.0     0.0  0.0   0.0   0.0  \n106      0.0   0.0     0.0  0.0   0.0   0.0  \n\n[107 rows x 25 columns]",
      "text/html": "<div>\n<style scoped>\n    .dataframe tbody tr th:only-of-type {\n        vertical-align: middle;\n    }\n\n    .dataframe tbody tr th {\n        vertical-align: top;\n    }\n\n    .dataframe thead th {\n        text-align: right;\n    }\n</style>\n<table border=\"1\" class=\"dataframe\">\n  <thead>\n    <tr style=\"text-align: right;\">\n      <th></th>\n      <th>employee_name</th>\n      <th>tab_N</th>\n      <th>insurance_program</th>\n      <th>policy_issue_date</th>\n      <th>policy_expiration_date</th>\n      <th>employer_cost</th>\n      <th>employee_cost</th>\n      <th>policy_number</th>\n      <th>year</th>\n      <th>Дата открепления</th>\n      <th>...</th>\n      <th>Октябрь</th>\n      <th>Ноябрь</th>\n      <th>Декабрь</th>\n      <th>Январь</th>\n      <th>Февраль</th>\n      <th>Март</th>\n      <th>Апрель</th>\n      <th>Май</th>\n      <th>Июнь</th>\n      <th>Июль</th>\n    </tr>\n  </thead>\n  <tbody>\n    <tr>\n      <th>0</th>\n      <td>Адыкаев Чингиз Улугбекович</td>\n      <td>0000000270</td>\n      <td>АЛЬФА 2023 НОВОСИБИРСК</td>\n      <td>2023-08-01</td>\n      <td>2024-07-31</td>\n      <td>17000.0</td>\n      <td>0.0</td>\n      <td>66579586</td>\n      <td>2023</td>\n      <td>NaT</td>\n      <td>...</td>\n      <td>31.0</td>\n      <td>30.0</td>\n      <td>31.0</td>\n      <td>31.0</td>\n      <td>0.0</td>\n      <td>0.0</td>\n      <td>0.0</td>\n      <td>0.0</td>\n      <td>0.0</td>\n      <td>0.0</td>\n    </tr>\n    <tr>\n      <th>1</th>\n      <td>Артёмов Виктор Романович</td>\n      <td>0000000170</td>\n      <td>АЛЬФА 2023 НОВОСИБИРСК</td>\n      <td>2023-08-01</td>\n      <td>2024-07-31</td>\n      <td>17000.0</td>\n      <td>0.0</td>\n      <td>66579578</td>\n      <td>2023</td>\n      <td>2024-02-27</td>\n      <td>...</td>\n      <td>31.0</td>\n      <td>30.0</td>\n      <td>31.0</td>\n      <td>31.0</td>\n      <td>0.0</td>\n      <td>0.0</td>\n      <td>0.0</td>\n      <td>0.0</td>\n      <td>0.0</td>\n      <td>0.0</td>\n    </tr>\n    <tr>\n      <th>2</th>\n      <td>Бабушкин Алексей Алексеевич</td>\n      <td>0000000223</td>\n      <td>АЛЬФА 2023 НОВОСИБИРСК</td>\n      <td>2023-08-01</td>\n      <td>2024-07-31</td>\n      <td>17000.0</td>\n      <td>0.0</td>\n      <td>66579569</td>\n      <td>2023</td>\n      <td>NaT</td>\n      <td>...</td>\n      <td>31.0</td>\n      <td>30.0</td>\n      <td>31.0</td>\n      <td>31.0</td>\n      <td>0.0</td>\n      <td>0.0</td>\n      <td>0.0</td>\n      <td>0.0</td>\n      <td>0.0</td>\n      <td>0.0</td>\n    </tr>\n    <tr>\n      <th>3</th>\n      <td>Баринова Яна Вячеславовна</td>\n      <td>0000000334</td>\n      <td>АЛЬФА 2023 САНКТ-ПЕТЕРБУРГ</td>\n      <td>2023-10-20</td>\n      <td>2024-07-31</td>\n      <td>25000.0</td>\n      <td>0.0</td>\n      <td>66924454</td>\n      <td>2023</td>\n      <td>NaT</td>\n      <td>...</td>\n      <td>-29.0</td>\n      <td>30.0</td>\n      <td>31.0</td>\n      <td>31.0</td>\n      <td>0.0</td>\n      <td>0.0</td>\n      <td>0.0</td>\n      <td>0.0</td>\n      <td>0.0</td>\n      <td>0.0</td>\n    </tr>\n    <tr>\n      <th>4</th>\n      <td>Бериков Алексей Владимирович</td>\n      <td>0000000325</td>\n      <td>АЛЬФА 2023 НОВОСИБИРСК</td>\n      <td>2024-03-01</td>\n      <td>2024-07-31</td>\n      <td>17000.0</td>\n      <td>0.0</td>\n      <td>67314687</td>\n      <td>2024</td>\n      <td>NaT</td>\n      <td>...</td>\n      <td>0.0</td>\n      <td>0.0</td>\n      <td>0.0</td>\n      <td>0.0</td>\n      <td>0.0</td>\n      <td>-1.0</td>\n      <td>0.0</td>\n      <td>0.0</td>\n      <td>0.0</td>\n      <td>0.0</td>\n    </tr>\n    <tr>\n      <th>...</th>\n      <td>...</td>\n      <td>...</td>\n      <td>...</td>\n      <td>...</td>\n      <td>...</td>\n      <td>...</td>\n      <td>...</td>\n      <td>...</td>\n      <td>...</td>\n      <td>...</td>\n      <td>...</td>\n      <td>...</td>\n      <td>...</td>\n      <td>...</td>\n      <td>...</td>\n      <td>...</td>\n      <td>...</td>\n      <td>...</td>\n      <td>...</td>\n      <td>...</td>\n      <td>...</td>\n    </tr>\n    <tr>\n      <th>102</th>\n      <td>Чернов Артем Александрович</td>\n      <td>0000000281</td>\n      <td>АЛЬФА 2023 САНКТ-ПЕТЕРБУРГ</td>\n      <td>2023-08-01</td>\n      <td>2024-07-31</td>\n      <td>25000.0</td>\n      <td>0.0</td>\n      <td>66579549</td>\n      <td>2023</td>\n      <td>NaT</td>\n      <td>...</td>\n      <td>31.0</td>\n      <td>30.0</td>\n      <td>31.0</td>\n      <td>31.0</td>\n      <td>0.0</td>\n      <td>0.0</td>\n      <td>0.0</td>\n      <td>0.0</td>\n      <td>0.0</td>\n      <td>0.0</td>\n    </tr>\n    <tr>\n      <th>103</th>\n      <td>Ширкунов Евгений Юрьевич</td>\n      <td>0000000208</td>\n      <td>1 АЛЬФА 2023 МОСКВА</td>\n      <td>2023-08-01</td>\n      <td>2024-07-31</td>\n      <td>28240.0</td>\n      <td>800.0</td>\n      <td>66579579</td>\n      <td>2023</td>\n      <td>NaT</td>\n      <td>...</td>\n      <td>31.0</td>\n      <td>30.0</td>\n      <td>31.0</td>\n      <td>31.0</td>\n      <td>0.0</td>\n      <td>0.0</td>\n      <td>0.0</td>\n      <td>0.0</td>\n      <td>0.0</td>\n      <td>0.0</td>\n    </tr>\n    <tr>\n      <th>104</th>\n      <td>Шкуратов Дмитрий Борисович</td>\n      <td>0000000390</td>\n      <td>АЛЬФА 2023 НОВОСИБИРСК</td>\n      <td>2024-02-20</td>\n      <td>2024-07-31</td>\n      <td>17000.0</td>\n      <td>0.0</td>\n      <td>67308112</td>\n      <td>2024</td>\n      <td>NaT</td>\n      <td>...</td>\n      <td>0.0</td>\n      <td>0.0</td>\n      <td>0.0</td>\n      <td>0.0</td>\n      <td>-20.0</td>\n      <td>0.0</td>\n      <td>0.0</td>\n      <td>0.0</td>\n      <td>0.0</td>\n      <td>0.0</td>\n    </tr>\n    <tr>\n      <th>105</th>\n      <td>Шорин Роман Вячеславович</td>\n      <td>0000000177</td>\n      <td>3 АЛЬФА 2023 МОСКВА</td>\n      <td>2023-08-01</td>\n      <td>2024-07-31</td>\n      <td>28240.0</td>\n      <td>19215.0</td>\n      <td>66579608</td>\n      <td>2023</td>\n      <td>2024-02-04</td>\n      <td>...</td>\n      <td>31.0</td>\n      <td>30.0</td>\n      <td>31.0</td>\n      <td>31.0</td>\n      <td>0.0</td>\n      <td>0.0</td>\n      <td>0.0</td>\n      <td>0.0</td>\n      <td>0.0</td>\n      <td>0.0</td>\n    </tr>\n    <tr>\n      <th>106</th>\n      <td>Щепетова Анастасия Викторовна</td>\n      <td>0000000228</td>\n      <td>1 АЛЬФА 2023 МОСКВА</td>\n      <td>2023-08-01</td>\n      <td>2024-07-31</td>\n      <td>28240.0</td>\n      <td>0.0</td>\n      <td>66579567</td>\n      <td>2023</td>\n      <td>NaT</td>\n      <td>...</td>\n      <td>31.0</td>\n      <td>30.0</td>\n      <td>31.0</td>\n      <td>31.0</td>\n      <td>0.0</td>\n      <td>0.0</td>\n      <td>0.0</td>\n      <td>0.0</td>\n      <td>0.0</td>\n      <td>0.0</td>\n    </tr>\n  </tbody>\n</table>\n<p>107 rows × 25 columns</p>\n</div>"
     },
     "execution_count": 30,
     "metadata": {},
     "output_type": "execute_result"
    }
   ],
   "source": [
    "# Пересчет дней для каждого месяца\n",
    "\n",
    "# Инициализация переменной year\n",
    "year = year_id\n",
    "\n",
    "for month_num, month_name in months:\n",
    "    if month_num == '01':\n",
    "        year += 1\n",
    "    new_df = recount_days(result_df, month_num, month_name, year, int(month_num))\n",
    "\n",
    "\n",
    "new_df"
   ],
   "metadata": {
    "collapsed": false,
    "pycharm": {
     "name": "#%%\n"
    }
   }
  },
  {
   "cell_type": "markdown",
   "source": [],
   "metadata": {
    "collapsed": false,
    "pycharm": {
     "name": "#%% md\n"
    }
   }
  },
  {
   "cell_type": "code",
   "execution_count": null,
   "outputs": [],
   "source": [
    "# Добавление нового столбца 'Total' как сумму значений с Августа по Июль\n",
    "result_df['Total'] = result_df[['Август', 'Сентябрь', 'Октябрь', 'Ноябрь', 'Декабрь', 'Январь', 'Февраль', 'Март', 'Апрель', 'Май', 'Июнь', 'Июль']].sum(axis=1)\n",
    "result_df"
   ],
   "metadata": {
    "collapsed": false,
    "pycharm": {
     "name": "#%%\n",
     "is_executing": true
    }
   }
  },
  {
   "cell_type": "code",
   "execution_count": null,
   "outputs": [],
   "source": [
    "# Замена значений None на пустую строку\n",
    "df['relative\\'s_insurance'] = df['relative\\'s_insurance'].fillna(\"\")\n",
    "df"
   ],
   "metadata": {
    "collapsed": false,
    "pycharm": {
     "name": "#%%\n",
     "is_executing": true
    }
   }
  },
  {
   "cell_type": "code",
   "execution_count": 58,
   "outputs": [],
   "source": [
    "# переношу последний столбец на первое место\n",
    "df = query[['employee_name'] + [x for x in query.columns if x != 'employee_name']]\n",
    "# df"
   ],
   "metadata": {
    "collapsed": false,
    "pycharm": {
     "name": "#%%\n"
    }
   }
  },
  {
   "cell_type": "code",
   "execution_count": null,
   "outputs": [],
   "source": [
    "# сортирую по имени\n",
    "df.sort_values(by='employee_name', ascending=False)\n",
    "# df"
   ],
   "metadata": {
    "collapsed": false,
    "pycharm": {
     "name": "#%%\n"
    }
   }
  },
  {
   "cell_type": "code",
   "execution_count": 49,
   "outputs": [],
   "source": [
    "# задаю формат последней колонки\n",
    "df['detachment_date'] = pd.to_datetime(df['detachment_date'], format='%Y-%m-%d')\n",
    "# display(df)\n",
    "\n",
    "# df['detachment_date'] = df['detachment_date'].dt.date\n",
    "# df"
   ],
   "metadata": {
    "collapsed": false,
    "pycharm": {
     "name": "#%%\n"
    }
   }
  },
  {
   "cell_type": "code",
   "execution_count": null,
   "outputs": [],
   "source": [
    "# замена 1753-01-01 на пустое значение\n",
    "df = df.replace(to_replace=\"1753-01-01\",\n",
    "           value=\"\")\n",
    "# df"
   ],
   "metadata": {
    "collapsed": false,
    "pycharm": {
     "name": "#%%\n"
    }
   }
  },
  {
   "cell_type": "code",
   "execution_count": 51,
   "outputs": [],
   "source": [
    "\n",
    "# запись фрейма в excel\n",
    "with pd.ExcelWriter(path + file_name, engine=\"xlsxwriter\", mode='w') as writer:\n",
    "    df.to_excel(writer, sheet_name='ДМС', index=False)\n",
    "\n",
    "    #Auto adjust columns\n",
    "    for column in df:\n",
    "        column_width = max(df[column].astype(str).map(len).max(), len(column))\n",
    "        col_idx = df.columns.get_loc(column)\n",
    "        writer.sheets['ДМС'].set_column(col_idx, col_idx, column_width)"
   ],
   "metadata": {
    "collapsed": false,
    "pycharm": {
     "name": "#%%\n"
    }
   }
  },
  {
   "cell_type": "code",
   "execution_count": null,
   "outputs": [],
   "source": [
    "# new_data.to_excel(\n",
    "#     path + file_name,\n",
    "#     index=False, sheet_name='Премии')"
   ],
   "metadata": {
    "collapsed": false,
    "pycharm": {
     "name": "#%%\n"
    }
   }
  }
 ],
 "metadata": {
  "kernelspec": {
   "display_name": "Python 3",
   "language": "python",
   "name": "python3"
  },
  "language_info": {
   "codemirror_mode": {
    "name": "ipython",
    "version": 2
   },
   "file_extension": ".py",
   "mimetype": "text/x-python",
   "name": "python",
   "nbconvert_exporter": "python",
   "pygments_lexer": "ipython2",
   "version": "2.7.6"
  }
 },
 "nbformat": 4,
 "nbformat_minor": 0
}