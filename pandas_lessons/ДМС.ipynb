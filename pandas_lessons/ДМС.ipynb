﻿{
 "cells": [
  {
   "cell_type": "code",
   "execution_count": 3,
   "metadata": {
    "collapsed": true,
    "pycharm": {
     "name": "#%%\n"
    }
   },
   "outputs": [],
   "source": [
    "import pandas as pd\n",
    "import sqlalchemy\n",
    "import datetime\n",
    "from tkinter import filedialog as fd\n",
    "from openpyxl import Workbook"
   ]
  },
  {
   "cell_type": "code",
   "execution_count": 8,
   "outputs": [],
   "source": [
    "# настройки\n",
    "file_name = 'award_calculation.xlsx'\n",
    "procedure = 'GetEmployeeRefreshAlt'\n",
    "company_id = 9\n",
    "\n",
    "current_year = datetime.datetime.now().strftime('%Y')\n",
    "current_month = datetime.datetime.now().strftime('%m')"
   ],
   "metadata": {
    "collapsed": false,
    "pycharm": {
     "name": "#%%\n"
    }
   }
  },
  {
   "cell_type": "code",
   "execution_count": 10,
   "outputs": [
    {
     "data": {
      "text/plain": "                     employee_name       tab_N\n0        Аверкина Ольга Викторовна  0000000411\n1            Агеева Лада Артемовна  0000000406\n2       Адыкаев Чингиз Улугбекович  0000000270\n3       Аккуратов Вадим Евгеньевич  0000000222\n4         Аникеев Никита Сергеевич  0000000381\n..                             ...         ...\n157     Шкуратов Дмитрий Борисович  0000000390\n158     Шубенков Никита Викторович  0000000365\n159          Шустов Илья Сергеевич  0000000407\n160  Щепетова Анастасия Викторовна  0000000228\n161       Яшин Алексей Анатольевич  0000000308\n\n[162 rows x 2 columns]",
      "text/html": "<div>\n<style scoped>\n    .dataframe tbody tr th:only-of-type {\n        vertical-align: middle;\n    }\n\n    .dataframe tbody tr th {\n        vertical-align: top;\n    }\n\n    .dataframe thead th {\n        text-align: right;\n    }\n</style>\n<table border=\"1\" class=\"dataframe\">\n  <thead>\n    <tr style=\"text-align: right;\">\n      <th></th>\n      <th>employee_name</th>\n      <th>tab_N</th>\n    </tr>\n  </thead>\n  <tbody>\n    <tr>\n      <th>0</th>\n      <td>Аверкина Ольга Викторовна</td>\n      <td>0000000411</td>\n    </tr>\n    <tr>\n      <th>1</th>\n      <td>Агеева Лада Артемовна</td>\n      <td>0000000406</td>\n    </tr>\n    <tr>\n      <th>2</th>\n      <td>Адыкаев Чингиз Улугбекович</td>\n      <td>0000000270</td>\n    </tr>\n    <tr>\n      <th>3</th>\n      <td>Аккуратов Вадим Евгеньевич</td>\n      <td>0000000222</td>\n    </tr>\n    <tr>\n      <th>4</th>\n      <td>Аникеев Никита Сергеевич</td>\n      <td>0000000381</td>\n    </tr>\n    <tr>\n      <th>...</th>\n      <td>...</td>\n      <td>...</td>\n    </tr>\n    <tr>\n      <th>157</th>\n      <td>Шкуратов Дмитрий Борисович</td>\n      <td>0000000390</td>\n    </tr>\n    <tr>\n      <th>158</th>\n      <td>Шубенков Никита Викторович</td>\n      <td>0000000365</td>\n    </tr>\n    <tr>\n      <th>159</th>\n      <td>Шустов Илья Сергеевич</td>\n      <td>0000000407</td>\n    </tr>\n    <tr>\n      <th>160</th>\n      <td>Щепетова Анастасия Викторовна</td>\n      <td>0000000228</td>\n    </tr>\n    <tr>\n      <th>161</th>\n      <td>Яшин Алексей Анатольевич</td>\n      <td>0000000308</td>\n    </tr>\n  </tbody>\n</table>\n<p>162 rows × 2 columns</p>\n</div>"
     },
     "execution_count": 10,
     "metadata": {},
     "output_type": "execute_result"
    }
   ],
   "source": [
    "# получение данных из sql\n",
    "def request(request):\n",
    "    version = 'mssql'\n",
    "    driver = 'pymssql'\n",
    "    user = 'rkm_ro'\n",
    "    password = 'ip%U1PO7C$Zb'\n",
    "    server = 'msk-sql-02'\n",
    "    data_base = 'RKM'\n",
    "    # request = 'exec GetEmployeeRefresh 9'\n",
    "\n",
    "    conn = f'{version}+{driver}://{user}:{password}@{server}/{data_base}?charset=utf8'\n",
    "\n",
    "    engine = sqlalchemy.create_engine(conn)  # создание отдельного подключения к БД\n",
    "    connect = engine.connect()  # создаётся объект подключения к БД\n",
    "    df = pd.read_sql(f\"{request}\", connect)\n",
    "    return df\n",
    "\n",
    "\n",
    "result = request(f'execute {procedure} {company_id};')\n",
    "query = pd.DataFrame(result)\n",
    "query"
   ],
   "metadata": {
    "collapsed": false,
    "pycharm": {
     "name": "#%%\n"
    }
   }
  },
  {
   "cell_type": "code",
   "execution_count": 11,
   "outputs": [
    {
     "data": {
      "text/plain": "         tab_N           insurance_program policy_issue_date  \\\n0   0000000325      АЛЬФА 2023 НОВОСИБИРСК        2024-03-01   \n1   0000000389      АЛЬФА 2023 НОВОСИБИРСК        2024-03-01   \n2   0000000373            АЛЬФА 2023 ТОМСК        2024-03-11   \n3   0000000362        АЛЬФА 2023 ХАБАРОВСК        2024-01-10   \n4   0000000359  АЛЬФА 2023 САНКТ-ПЕТЕРБУРГ        2024-03-01   \n5   0000000368  АЛЬФА 2023 САНКТ-ПЕТЕРБУРГ        2024-04-10   \n6   0000000391      АЛЬФА 2023 НОВОСИБИРСК        2024-02-20   \n7   0000000369         1 АЛЬФА 2023 МОСКВА        2024-03-20   \n8   0000000387      АЛЬФА 2023 НОВОСИБИРСК        2024-02-20   \n9   0000000339         1 АЛЬФА 2023 МОСКВА        2024-03-20   \n10  0000000372         1 АЛЬФА 2023 МОСКВА        2024-03-20   \n11  0000000364         1 АЛЬФА 2023 МОСКВА        2024-02-13   \n12  0000000390      АЛЬФА 2023 НОВОСИБИРСК        2024-02-20   \n\n   policy_expiration_date  employer_cost  employee_cost policy_number  \\\n0              2024-07-31        17000.0            0.0      67314687   \n1              2024-07-31        17000.0            0.0      67314904   \n2              2024-07-31        24000.0            0.0      67361293   \n3              2024-07-31        17000.0            0.0      67190483   \n4              2024-07-31        25000.0            0.0      67303698   \n5              2024-07-31        25000.0            0.0      67493437   \n6              2024-07-31        17000.0            0.0      67305066   \n7              2024-07-31        28240.0            0.0      67369056   \n8              2024-07-31        17000.0            0.0      67308181   \n9              2024-07-31        28240.0            0.0      67369058   \n10             2024-07-31        28240.0            0.0      67369057   \n11             2024-07-31        28240.0            0.0      67302118   \n12             2024-07-31        17000.0            0.0      67308112   \n\n    employee_insurance  year detachment_date                     employee_name  \n0                False  2024      1753-01-01      Бериков Алексей Владимирович  \n1                False  2024      1753-01-01  Горбатов Александр Александрович  \n2                False  2024      1753-01-01        Зарецкий Сергей Николаевич  \n3                False  2024      1753-01-01          Ивлев Артем Владимирович  \n4                False  2024      1753-01-01   Колесов Александр Александрович  \n5                False  2024      1753-01-01               Котов Егор Игоревич  \n6                False  2024      1753-01-01     Крушницкий Денис Вячеславович  \n7                False  2024      1753-01-01     Кузнецов Кирилл Александрович  \n8                False  2024      1753-01-01           Кукшеев Иван Алексеевич  \n9                False  2024      1753-01-01        Мелихов Георгий Михайлович  \n10               False  2024      1753-01-01         Насибуллин Эмиль Наилевич  \n11               False  2024      1753-01-01          Соловьев Артём Сергеевич  \n12               False  2024      1753-01-01        Шкуратов Дмитрий Борисович  ",
      "text/html": "<div>\n<style scoped>\n    .dataframe tbody tr th:only-of-type {\n        vertical-align: middle;\n    }\n\n    .dataframe tbody tr th {\n        vertical-align: top;\n    }\n\n    .dataframe thead th {\n        text-align: right;\n    }\n</style>\n<table border=\"1\" class=\"dataframe\">\n  <thead>\n    <tr style=\"text-align: right;\">\n      <th></th>\n      <th>tab_N</th>\n      <th>insurance_program</th>\n      <th>policy_issue_date</th>\n      <th>policy_expiration_date</th>\n      <th>employer_cost</th>\n      <th>employee_cost</th>\n      <th>policy_number</th>\n      <th>employee_insurance</th>\n      <th>year</th>\n      <th>detachment_date</th>\n      <th>employee_name</th>\n    </tr>\n  </thead>\n  <tbody>\n    <tr>\n      <th>0</th>\n      <td>0000000325</td>\n      <td>АЛЬФА 2023 НОВОСИБИРСК</td>\n      <td>2024-03-01</td>\n      <td>2024-07-31</td>\n      <td>17000.0</td>\n      <td>0.0</td>\n      <td>67314687</td>\n      <td>False</td>\n      <td>2024</td>\n      <td>1753-01-01</td>\n      <td>Бериков Алексей Владимирович</td>\n    </tr>\n    <tr>\n      <th>1</th>\n      <td>0000000389</td>\n      <td>АЛЬФА 2023 НОВОСИБИРСК</td>\n      <td>2024-03-01</td>\n      <td>2024-07-31</td>\n      <td>17000.0</td>\n      <td>0.0</td>\n      <td>67314904</td>\n      <td>False</td>\n      <td>2024</td>\n      <td>1753-01-01</td>\n      <td>Горбатов Александр Александрович</td>\n    </tr>\n    <tr>\n      <th>2</th>\n      <td>0000000373</td>\n      <td>АЛЬФА 2023 ТОМСК</td>\n      <td>2024-03-11</td>\n      <td>2024-07-31</td>\n      <td>24000.0</td>\n      <td>0.0</td>\n      <td>67361293</td>\n      <td>False</td>\n      <td>2024</td>\n      <td>1753-01-01</td>\n      <td>Зарецкий Сергей Николаевич</td>\n    </tr>\n    <tr>\n      <th>3</th>\n      <td>0000000362</td>\n      <td>АЛЬФА 2023 ХАБАРОВСК</td>\n      <td>2024-01-10</td>\n      <td>2024-07-31</td>\n      <td>17000.0</td>\n      <td>0.0</td>\n      <td>67190483</td>\n      <td>False</td>\n      <td>2024</td>\n      <td>1753-01-01</td>\n      <td>Ивлев Артем Владимирович</td>\n    </tr>\n    <tr>\n      <th>4</th>\n      <td>0000000359</td>\n      <td>АЛЬФА 2023 САНКТ-ПЕТЕРБУРГ</td>\n      <td>2024-03-01</td>\n      <td>2024-07-31</td>\n      <td>25000.0</td>\n      <td>0.0</td>\n      <td>67303698</td>\n      <td>False</td>\n      <td>2024</td>\n      <td>1753-01-01</td>\n      <td>Колесов Александр Александрович</td>\n    </tr>\n    <tr>\n      <th>5</th>\n      <td>0000000368</td>\n      <td>АЛЬФА 2023 САНКТ-ПЕТЕРБУРГ</td>\n      <td>2024-04-10</td>\n      <td>2024-07-31</td>\n      <td>25000.0</td>\n      <td>0.0</td>\n      <td>67493437</td>\n      <td>False</td>\n      <td>2024</td>\n      <td>1753-01-01</td>\n      <td>Котов Егор Игоревич</td>\n    </tr>\n    <tr>\n      <th>6</th>\n      <td>0000000391</td>\n      <td>АЛЬФА 2023 НОВОСИБИРСК</td>\n      <td>2024-02-20</td>\n      <td>2024-07-31</td>\n      <td>17000.0</td>\n      <td>0.0</td>\n      <td>67305066</td>\n      <td>False</td>\n      <td>2024</td>\n      <td>1753-01-01</td>\n      <td>Крушницкий Денис Вячеславович</td>\n    </tr>\n    <tr>\n      <th>7</th>\n      <td>0000000369</td>\n      <td>1 АЛЬФА 2023 МОСКВА</td>\n      <td>2024-03-20</td>\n      <td>2024-07-31</td>\n      <td>28240.0</td>\n      <td>0.0</td>\n      <td>67369056</td>\n      <td>False</td>\n      <td>2024</td>\n      <td>1753-01-01</td>\n      <td>Кузнецов Кирилл Александрович</td>\n    </tr>\n    <tr>\n      <th>8</th>\n      <td>0000000387</td>\n      <td>АЛЬФА 2023 НОВОСИБИРСК</td>\n      <td>2024-02-20</td>\n      <td>2024-07-31</td>\n      <td>17000.0</td>\n      <td>0.0</td>\n      <td>67308181</td>\n      <td>False</td>\n      <td>2024</td>\n      <td>1753-01-01</td>\n      <td>Кукшеев Иван Алексеевич</td>\n    </tr>\n    <tr>\n      <th>9</th>\n      <td>0000000339</td>\n      <td>1 АЛЬФА 2023 МОСКВА</td>\n      <td>2024-03-20</td>\n      <td>2024-07-31</td>\n      <td>28240.0</td>\n      <td>0.0</td>\n      <td>67369058</td>\n      <td>False</td>\n      <td>2024</td>\n      <td>1753-01-01</td>\n      <td>Мелихов Георгий Михайлович</td>\n    </tr>\n    <tr>\n      <th>10</th>\n      <td>0000000372</td>\n      <td>1 АЛЬФА 2023 МОСКВА</td>\n      <td>2024-03-20</td>\n      <td>2024-07-31</td>\n      <td>28240.0</td>\n      <td>0.0</td>\n      <td>67369057</td>\n      <td>False</td>\n      <td>2024</td>\n      <td>1753-01-01</td>\n      <td>Насибуллин Эмиль Наилевич</td>\n    </tr>\n    <tr>\n      <th>11</th>\n      <td>0000000364</td>\n      <td>1 АЛЬФА 2023 МОСКВА</td>\n      <td>2024-02-13</td>\n      <td>2024-07-31</td>\n      <td>28240.0</td>\n      <td>0.0</td>\n      <td>67302118</td>\n      <td>False</td>\n      <td>2024</td>\n      <td>1753-01-01</td>\n      <td>Соловьев Артём Сергеевич</td>\n    </tr>\n    <tr>\n      <th>12</th>\n      <td>0000000390</td>\n      <td>АЛЬФА 2023 НОВОСИБИРСК</td>\n      <td>2024-02-20</td>\n      <td>2024-07-31</td>\n      <td>17000.0</td>\n      <td>0.0</td>\n      <td>67308112</td>\n      <td>False</td>\n      <td>2024</td>\n      <td>1753-01-01</td>\n      <td>Шкуратов Дмитрий Борисович</td>\n    </tr>\n  </tbody>\n</table>\n</div>"
     },
     "execution_count": 11,
     "metadata": {},
     "output_type": "execute_result"
    }
   ],
   "source": [
    "procedure = 'GetVHI'\n",
    "\n",
    "# получение данных из sql\n",
    "def request(request):\n",
    "    version = 'mssql'\n",
    "    driver = 'pymssql'\n",
    "    user = 'rkm_ro'\n",
    "    password = 'ip%U1PO7C$Zb'\n",
    "    server = 'msk-sql-02'\n",
    "    data_base = 'RKM'\n",
    "    # request = 'exec GetEmployeeRefresh 9'\n",
    "\n",
    "    conn = f'{version}+{driver}://{user}:{password}@{server}/{data_base}?charset=utf8'\n",
    "\n",
    "    engine = sqlalchemy.create_engine(conn)  # создание отдельного подключения к БД\n",
    "    connect = engine.connect()  # создаётся объект подключения к БД\n",
    "    df = pd.read_sql(f\"{request}\", connect)\n",
    "    return df\n",
    "\n",
    "\n",
    "result = request(f'execute {procedure} {company_id}, {current_year};')\n",
    "query = pd.DataFrame(result)\n",
    "query"
   ],
   "metadata": {
    "collapsed": false,
    "pycharm": {
     "name": "#%%\n"
    }
   }
  }
 ],
 "metadata": {
  "kernelspec": {
   "display_name": "Python 3",
   "language": "python",
   "name": "python3"
  },
  "language_info": {
   "codemirror_mode": {
    "name": "ipython",
    "version": 2
   },
   "file_extension": ".py",
   "mimetype": "text/x-python",
   "name": "python",
   "nbconvert_exporter": "python",
   "pygments_lexer": "ipython2",
   "version": "2.7.6"
  }
 },
 "nbformat": 4,
 "nbformat_minor": 0
}