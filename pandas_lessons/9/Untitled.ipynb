{
 "cells": [
  {
   "cell_type": "code",
   "execution_count": 1,
   "id": "8e7c0ef1",
   "metadata": {},
   "outputs": [],
   "source": [
    "import pandas as pd\n",
    "#%%\n",
    "names = ['bob', 'jack', 'kevin', 'robin']\n",
    "numbers = [10, 20, 50, -30, 40]\n",
    "#%%\n",
    "s = pd.Series(names)\n",
    "n = pd.Series(numbers)"
   ]
  },
  {
   "cell_type": "code",
   "execution_count": null,
   "id": "16145ff2",
   "metadata": {},
   "outputs": [],
   "source": [
    "n.abs"
   ]
  }
 ],
 "metadata": {
  "kernelspec": {
   "display_name": "Python 3 (ipykernel)",
   "language": "python",
   "name": "python3"
  },
  "language_info": {
   "codemirror_mode": {
    "name": "ipython",
    "version": 3
   },
   "file_extension": ".py",
   "mimetype": "text/x-python",
   "name": "python",
   "nbconvert_exporter": "python",
   "pygments_lexer": "ipython3",
   "version": "3.10.9"
  }
 },
 "nbformat": 4,
 "nbformat_minor": 5
}
