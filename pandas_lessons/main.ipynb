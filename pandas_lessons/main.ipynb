﻿{
 "cells": [
  {
   "cell_type": "code",
   "execution_count": 150,
   "outputs": [],
   "source": [
    "import pandas as pd\n",
    "import sqlalchemy\n",
    "import datetime\n",
    "from tkinter import filedialog as fd\n",
    "from openpyxl import Workbook"
   ],
   "metadata": {
    "collapsed": false,
    "pycharm": {
     "name": "#%%\n"
    }
   }
  },
  {
   "cell_type": "code",
   "execution_count": 151,
   "metadata": {
    "collapsed": true,
    "pycharm": {
     "name": "#%%\n"
    }
   },
   "outputs": [],
   "source": [
    "pd.set_option('max_colwidth', 120)\n",
    "pd.set_option('display.width', 500)\n",
    "\n",
    "name = fd.askopenfilename()\n",
    "path = '/'.join(name.split('/')[:-1]) + '/'\n",
    "file_name = 'award_calculation.xlsx'\n",
    "\n",
    "data = pd.read_excel(name, dtype={'Таб. номер': str})\n",
    "# data\n",
    "# data['%'] = data['%'].fillna(0)\n",
    "data = data.dropna(subset=['%'])\n",
    "# data\n",
    "data['employee_name'] = data['Имя'].apply(lambda x: x.split()[0]) + ' ' + data['Имя'].apply(\n",
    "    lambda x: x.split()[1]) + ' ' + data[\n",
    "                            'Имя'].apply(lambda x: x.split()[2])\n",
    "\n",
    "# data.to_excel(r'D:/123.xlsx', index=True)\n",
    "\n",
    "final_data = data[['employee_name', 'Таб. номер', '%']]\n",
    "# final_data"
   ]
  },
  {
   "cell_type": "code",
   "execution_count": 152,
   "outputs": [],
   "source": [
    "def request(request):\n",
    "    version = 'mssql'\n",
    "    driver = 'pymssql'\n",
    "    user = 'rkm_ro'\n",
    "    password = 'ip%U1PO7C$Zb'\n",
    "    server = 'msk-sql-02'\n",
    "    data_base = 'RKM'\n",
    "    # request = 'exec GetEmployeeRefresh 9'\n",
    "\n",
    "    conn = f'{version}+{driver}://{user}:{password}@{server}/{data_base}?charset=utf8'\n",
    "\n",
    "    engine = sqlalchemy.create_engine(conn)  # создание отдельного подключения к БД\n",
    "    connect = engine.connect()  # создаётся объект подключения к БД\n",
    "    df = pd.read_sql(f\"{request}\", connect)\n",
    "    return df\n",
    "\n",
    "\n",
    "current_year = datetime.datetime.now().strftime('%Y')\n",
    "current_month = datetime.datetime.now().strftime('%m')\n",
    "procedure = 'GetSalaryListShchepetovaAlt'\n",
    "company_id = 9\n",
    "\n",
    "result = request(f'execute {procedure} {current_month}, {current_year}, {company_id};')\n",
    "query = pd.DataFrame(result)\n",
    "# query"
   ],
   "metadata": {
    "collapsed": false,
    "pycharm": {
     "name": "#%%\n"
    }
   }
  },
  {
   "cell_type": "code",
   "execution_count": 153,
   "outputs": [],
   "source": [
    "new_data = final_data.merge(query, on='employee_name', how='left')\n",
    "new_data = new_data[['employee_name', '%', 'Таб. номер', 'salary_budget_ammount']]\n",
    "# new_data"
   ],
   "metadata": {
    "collapsed": false,
    "pycharm": {
     "name": "#%%\n"
    }
   }
  },
  {
   "cell_type": "code",
   "execution_count": 154,
   "outputs": [],
   "source": [
    "new_data['prize'] = new_data.apply(lambda row: round(row['%'] * row['salary_budget_ammount'] * 0.45 / 100, 0), axis=1)\n",
    "new_data.drop(new_data.loc[new_data['%'] == 0].index, inplace=True)\n",
    "# new_data"
   ],
   "metadata": {
    "collapsed": false,
    "pycharm": {
     "name": "#%%\n"
    }
   }
  },
  {
   "cell_type": "code",
   "execution_count": 161,
   "outputs": [],
   "source": [
    "with pd.ExcelWriter(path + file_name, engine=\"xlsxwriter\") as writer:\n",
    "    new_data.to_excel(writer, sheet_name='Премии', index=False)\n",
    "\n",
    "    #Auto adjust columns\n",
    "    for column in new_data:\n",
    "        column_width = max(new_data[column].astype(str).map(len).max(), len(column))\n",
    "        col_idx = new_data.columns.get_loc(column)\n",
    "        writer.sheets['Премии'].set_column(col_idx, col_idx, column_width)\n",
    "\n",
    "# writer.close()"
   ],
   "metadata": {
    "collapsed": false,
    "pycharm": {
     "name": "#%%\n"
    }
   }
  },
  {
   "cell_type": "code",
   "execution_count": 160,
   "outputs": [],
   "source": [
    "# new_data.to_excel(\n",
    "#     path + file_name,\n",
    "#     index=False, sheet_name='Премии')"
   ],
   "metadata": {
    "collapsed": false,
    "pycharm": {
     "name": "#%%\n"
    }
   }
  }
 ],
 "metadata": {
  "kernelspec": {
   "display_name": "Python 3",
   "language": "python",
   "name": "python3"
  },
  "language_info": {
   "codemirror_mode": {
    "name": "ipython",
    "version": 2
   },
   "file_extension": ".py",
   "mimetype": "text/x-python",
   "name": "python",
   "nbconvert_exporter": "python",
   "pygments_lexer": "ipython2",
   "version": "2.7.6"
  }
 },
 "nbformat": 4,
 "nbformat_minor": 0
}