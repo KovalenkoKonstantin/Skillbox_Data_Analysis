﻿{
 "cells": [
  {
   "cell_type": "code",
   "execution_count": 19,
   "metadata": {
    "collapsed": true,
    "pycharm": {
     "name": "#%%\n"
    }
   },
   "outputs": [],
   "source": [
    "import pandas as pd\n",
    "from xlwings import load\n",
    "from xlwings import view"
   ]
  },
  {
   "cell_type": "code",
   "execution_count": 20,
   "outputs": [
    {
     "data": {
      "text/plain": "   one  two\n0    0    6\n1    1    7\n2    2    8\n3    3    9\n4    4   10\n5    5   11",
      "text/html": "<div>\n<style scoped>\n    .dataframe tbody tr th:only-of-type {\n        vertical-align: middle;\n    }\n\n    .dataframe tbody tr th {\n        vertical-align: top;\n    }\n\n    .dataframe thead th {\n        text-align: right;\n    }\n</style>\n<table border=\"1\" class=\"dataframe\">\n  <thead>\n    <tr style=\"text-align: right;\">\n      <th></th>\n      <th>one</th>\n      <th>two</th>\n    </tr>\n  </thead>\n  <tbody>\n    <tr>\n      <th>0</th>\n      <td>0</td>\n      <td>6</td>\n    </tr>\n    <tr>\n      <th>1</th>\n      <td>1</td>\n      <td>7</td>\n    </tr>\n    <tr>\n      <th>2</th>\n      <td>2</td>\n      <td>8</td>\n    </tr>\n    <tr>\n      <th>3</th>\n      <td>3</td>\n      <td>9</td>\n    </tr>\n    <tr>\n      <th>4</th>\n      <td>4</td>\n      <td>10</td>\n    </tr>\n    <tr>\n      <th>5</th>\n      <td>5</td>\n      <td>11</td>\n    </tr>\n  </tbody>\n</table>\n</div>"
     },
     "execution_count": 20,
     "metadata": {},
     "output_type": "execute_result"
    }
   ],
   "source": [
    "df = pd.DataFrame(data={'one':[0, 1, 2, 3, 4, 5],\n",
    "                        'two':[6, 7, 8, 9, 10, 11]})\n",
    "df"
   ],
   "metadata": {
    "collapsed": false,
    "pycharm": {
     "name": "#%%\n"
    }
   }
  },
  {
   "cell_type": "markdown",
   "source": [
    "Транслировать DataFrame в Excel"
   ],
   "metadata": {
    "collapsed": false,
    "pycharm": {
     "name": "#%% md\n"
    }
   }
  },
  {
   "cell_type": "code",
   "execution_count": 21,
   "outputs": [],
   "source": [
    "view(df)"
   ],
   "metadata": {
    "collapsed": false,
    "pycharm": {
     "name": "#%%\n"
    }
   }
  },
  {
   "cell_type": "code",
   "execution_count": 22,
   "outputs": [
    {
     "data": {
      "text/plain": "   one  two\n0    0    6\n1    1    7\n2    2    8\n3    3    9\n4    4   10\n5    5   11",
      "text/html": "<div>\n<style scoped>\n    .dataframe tbody tr th:only-of-type {\n        vertical-align: middle;\n    }\n\n    .dataframe tbody tr th {\n        vertical-align: top;\n    }\n\n    .dataframe thead th {\n        text-align: right;\n    }\n</style>\n<table border=\"1\" class=\"dataframe\">\n  <thead>\n    <tr style=\"text-align: right;\">\n      <th></th>\n      <th>one</th>\n      <th>two</th>\n    </tr>\n  </thead>\n  <tbody>\n    <tr>\n      <th>0</th>\n      <td>0</td>\n      <td>6</td>\n    </tr>\n    <tr>\n      <th>1</th>\n      <td>1</td>\n      <td>7</td>\n    </tr>\n    <tr>\n      <th>2</th>\n      <td>2</td>\n      <td>8</td>\n    </tr>\n    <tr>\n      <th>3</th>\n      <td>3</td>\n      <td>9</td>\n    </tr>\n    <tr>\n      <th>4</th>\n      <td>4</td>\n      <td>10</td>\n    </tr>\n    <tr>\n      <th>5</th>\n      <td>5</td>\n      <td>11</td>\n    </tr>\n  </tbody>\n</table>\n</div>"
     },
     "execution_count": 22,
     "metadata": {},
     "output_type": "execute_result"
    }
   ],
   "source": [
    "df"
   ],
   "metadata": {
    "collapsed": false,
    "pycharm": {
     "name": "#%%\n"
    }
   }
  },
  {
   "cell_type": "code",
   "execution_count": 24,
   "outputs": [
    {
     "data": {
      "text/plain": "                                     Выполнение, %        ФОТ    Премия  \\\nФИО Полное                                                                \nАдыкаев Чингиз Улугбекович                     1.0  106543.34   47945.0   \nАккуратов Вадим Евгеньевич                     1.0  290000.00  130500.0   \nБабушкин Алексей Алексеевич                    1.0  125000.00   56250.0   \nБайдельдинова Айнагуль Джабраиловна            1.0  110000.00   49500.0   \nБаранников Артём Алексеевич                    1.0   75200.00   33840.0   \n...                                            ...        ...       ...   \nШеремеев Максим Игоревич                       1.0  260000.00  117000.0   \nШиркунов Евгений Юрьевич                       1.0  250000.00  112500.0   \nШкуратов Дмитрий Борисович                     1.0   77675.59   34954.0   \nШубенков Никита Викторович                     1.0  210000.00   94500.0   \nЩепетова Анастасия Викторовна                  1.0  140000.00   63000.0   \n\n                                     Уволен  ФОТ_ГПХ   ГПХ    PK        Город  \nФИО Полное                                                                     \nАдыкаев Чингиз Улугбекович            False      0.0  None    РК  Новосибирск  \nАккуратов Вадим Евгеньевич            False      0.0  None  None       Москва  \nБабушкин Алексей Алексеевич           False      0.0  None    РК  Новосибирск  \nБайдельдинова Айнагуль Джабраиловна   False      0.0  None  None       Москва  \nБаранников Артём Алексеевич           False      0.0  None  None       Москва  \n...                                     ...      ...   ...   ...          ...  \nШеремеев Максим Игоревич              False      0.0  None  None       Москва  \nШиркунов Евгений Юрьевич              False      0.0  None  None       Москва  \nШкуратов Дмитрий Борисович            False      0.0  None    РК       Москва  \nШубенков Никита Викторович            False      0.0  None  None       Москва  \nЩепетова Анастасия Викторовна         False      0.0  None  None       Москва  \n\n[97 rows x 8 columns]",
      "text/html": "<div>\n<style scoped>\n    .dataframe tbody tr th:only-of-type {\n        vertical-align: middle;\n    }\n\n    .dataframe tbody tr th {\n        vertical-align: top;\n    }\n\n    .dataframe thead th {\n        text-align: right;\n    }\n</style>\n<table border=\"1\" class=\"dataframe\">\n  <thead>\n    <tr style=\"text-align: right;\">\n      <th></th>\n      <th>Выполнение, %</th>\n      <th>ФОТ</th>\n      <th>Премия</th>\n      <th>Уволен</th>\n      <th>ФОТ_ГПХ</th>\n      <th>ГПХ</th>\n      <th>PK</th>\n      <th>Город</th>\n    </tr>\n    <tr>\n      <th>ФИО Полное</th>\n      <th></th>\n      <th></th>\n      <th></th>\n      <th></th>\n      <th></th>\n      <th></th>\n      <th></th>\n      <th></th>\n    </tr>\n  </thead>\n  <tbody>\n    <tr>\n      <th>Адыкаев Чингиз Улугбекович</th>\n      <td>1.0</td>\n      <td>106543.34</td>\n      <td>47945.0</td>\n      <td>False</td>\n      <td>0.0</td>\n      <td>None</td>\n      <td>РК</td>\n      <td>Новосибирск</td>\n    </tr>\n    <tr>\n      <th>Аккуратов Вадим Евгеньевич</th>\n      <td>1.0</td>\n      <td>290000.00</td>\n      <td>130500.0</td>\n      <td>False</td>\n      <td>0.0</td>\n      <td>None</td>\n      <td>None</td>\n      <td>Москва</td>\n    </tr>\n    <tr>\n      <th>Бабушкин Алексей Алексеевич</th>\n      <td>1.0</td>\n      <td>125000.00</td>\n      <td>56250.0</td>\n      <td>False</td>\n      <td>0.0</td>\n      <td>None</td>\n      <td>РК</td>\n      <td>Новосибирск</td>\n    </tr>\n    <tr>\n      <th>Байдельдинова Айнагуль Джабраиловна</th>\n      <td>1.0</td>\n      <td>110000.00</td>\n      <td>49500.0</td>\n      <td>False</td>\n      <td>0.0</td>\n      <td>None</td>\n      <td>None</td>\n      <td>Москва</td>\n    </tr>\n    <tr>\n      <th>Баранников Артём Алексеевич</th>\n      <td>1.0</td>\n      <td>75200.00</td>\n      <td>33840.0</td>\n      <td>False</td>\n      <td>0.0</td>\n      <td>None</td>\n      <td>None</td>\n      <td>Москва</td>\n    </tr>\n    <tr>\n      <th>...</th>\n      <td>...</td>\n      <td>...</td>\n      <td>...</td>\n      <td>...</td>\n      <td>...</td>\n      <td>...</td>\n      <td>...</td>\n      <td>...</td>\n    </tr>\n    <tr>\n      <th>Шеремеев Максим Игоревич</th>\n      <td>1.0</td>\n      <td>260000.00</td>\n      <td>117000.0</td>\n      <td>False</td>\n      <td>0.0</td>\n      <td>None</td>\n      <td>None</td>\n      <td>Москва</td>\n    </tr>\n    <tr>\n      <th>Ширкунов Евгений Юрьевич</th>\n      <td>1.0</td>\n      <td>250000.00</td>\n      <td>112500.0</td>\n      <td>False</td>\n      <td>0.0</td>\n      <td>None</td>\n      <td>None</td>\n      <td>Москва</td>\n    </tr>\n    <tr>\n      <th>Шкуратов Дмитрий Борисович</th>\n      <td>1.0</td>\n      <td>77675.59</td>\n      <td>34954.0</td>\n      <td>False</td>\n      <td>0.0</td>\n      <td>None</td>\n      <td>РК</td>\n      <td>Москва</td>\n    </tr>\n    <tr>\n      <th>Шубенков Никита Викторович</th>\n      <td>1.0</td>\n      <td>210000.00</td>\n      <td>94500.0</td>\n      <td>False</td>\n      <td>0.0</td>\n      <td>None</td>\n      <td>None</td>\n      <td>Москва</td>\n    </tr>\n    <tr>\n      <th>Щепетова Анастасия Викторовна</th>\n      <td>1.0</td>\n      <td>140000.00</td>\n      <td>63000.0</td>\n      <td>False</td>\n      <td>0.0</td>\n      <td>None</td>\n      <td>None</td>\n      <td>Москва</td>\n    </tr>\n  </tbody>\n</table>\n<p>97 rows × 8 columns</p>\n</div>"
     },
     "execution_count": 24,
     "metadata": {},
     "output_type": "execute_result"
    }
   ],
   "source": [
    "load()"
   ],
   "metadata": {
    "collapsed": false,
    "pycharm": {
     "name": "#%%\n"
    }
   }
  },
  {
   "cell_type": "code",
   "execution_count": 23,
   "outputs": [],
   "source": [],
   "metadata": {
    "collapsed": false,
    "pycharm": {
     "name": "#%%\n"
    }
   }
  }
 ],
 "metadata": {
  "kernelspec": {
   "display_name": "Python 3",
   "language": "python",
   "name": "python3"
  },
  "language_info": {
   "codemirror_mode": {
    "name": "ipython",
    "version": 2
   },
   "file_extension": ".py",
   "mimetype": "text/x-python",
   "name": "python",
   "nbconvert_exporter": "python",
   "pygments_lexer": "ipython2",
   "version": "2.7.6"
  }
 },
 "nbformat": 4,
 "nbformat_minor": 0
}