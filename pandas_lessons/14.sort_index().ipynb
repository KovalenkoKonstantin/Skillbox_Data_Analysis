﻿{
 "cells": [
  {
   "cell_type": "code",
   "execution_count": 2,
   "metadata": {
    "collapsed": true,
    "pycharm": {
     "name": "#%%\n"
    }
   },
   "outputs": [],
   "source": [
    "import pandas as pd\n",
    "from random import randint\n",
    "from faker import Faker"
   ]
  },
  {
   "cell_type": "code",
   "execution_count": 4,
   "outputs": [],
   "source": [
    "fake = Faker()\n",
    "numbers = [randint(-50, 50) for i in range(15)]\n",
    "names = [fake.name() for i in range(15)]"
   ],
   "metadata": {
    "collapsed": false,
    "pycharm": {
     "name": "#%%\n"
    }
   }
  },
  {
   "cell_type": "code",
   "execution_count": 5,
   "outputs": [],
   "source": [
    "a = pd.Series(numbers)"
   ],
   "metadata": {
    "collapsed": false,
    "pycharm": {
     "name": "#%%\n"
    }
   }
  },
  {
   "cell_type": "code",
   "execution_count": 13,
   "outputs": [],
   "source": [
    "a.sort_values(ascending=False, inplace=True)"
   ],
   "metadata": {
    "collapsed": false,
    "pycharm": {
     "name": "#%%\n"
    }
   }
  },
  {
   "cell_type": "code",
   "execution_count": 14,
   "outputs": [
    {
     "data": {
      "text/plain": "5     50\n12    48\n2     35\n14    35\n1     30\n13    30\n10    28\n7     20\n3     17\n8     12\n9     -6\n11    -8\n0    -21\n6    -29\n4    -46\ndtype: int64"
     },
     "execution_count": 14,
     "metadata": {},
     "output_type": "execute_result"
    }
   ],
   "source": [
    "a"
   ],
   "metadata": {
    "collapsed": false,
    "pycharm": {
     "name": "#%%\n"
    }
   }
  },
  {
   "cell_type": "code",
   "execution_count": 15,
   "outputs": [
    {
     "data": {
      "text/plain": "0    -21\n1     30\n2     35\n3     17\n4    -46\n5     50\n6    -29\n7     20\n8     12\n9     -6\n10    28\n11    -8\n12    48\n13    30\n14    35\ndtype: int64"
     },
     "execution_count": 15,
     "metadata": {},
     "output_type": "execute_result"
    }
   ],
   "source": [
    "a.sort_index()"
   ],
   "metadata": {
    "collapsed": false,
    "pycharm": {
     "name": "#%%\n"
    }
   }
  },
  {
   "cell_type": "code",
   "execution_count": 16,
   "outputs": [
    {
     "data": {
      "text/plain": "5     50\n12    48\n2     35\n14    35\n1     30\n13    30\n10    28\n7     20\n3     17\n8     12\n9     -6\n11    -8\n0    -21\n6    -29\n4    -46\ndtype: int64"
     },
     "execution_count": 16,
     "metadata": {},
     "output_type": "execute_result"
    }
   ],
   "source": [
    "a"
   ],
   "metadata": {
    "collapsed": false,
    "pycharm": {
     "name": "#%%\n"
    }
   }
  },
  {
   "cell_type": "code",
   "execution_count": 17,
   "outputs": [
    {
     "data": {
      "text/plain": "0    -21\n1     30\n2     35\n3     17\n4    -46\n5     50\n6    -29\n7     20\n8     12\n9     -6\n10    28\n11    -8\n12    48\n13    30\n14    35\ndtype: int64"
     },
     "execution_count": 17,
     "metadata": {},
     "output_type": "execute_result"
    }
   ],
   "source": [
    "a.sort_index(inplace=True)\n",
    "a"
   ],
   "metadata": {
    "collapsed": false,
    "pycharm": {
     "name": "#%%\n"
    }
   }
  },
  {
   "cell_type": "code",
   "execution_count": 18,
   "outputs": [
    {
     "data": {
      "text/plain": "David Wells        -21\nAaron Sims          30\nKristy Lawrence     35\nAaron Ramirez       17\nLinda Liu          -46\nChristina Hester    50\nNicholas Mccall    -29\nJared Williams      20\nJoshua Barajas      12\nWilliam Vaughn      -6\nDustin Cochran      28\nLisa Wheeler        -8\nMatthew Taylor      48\nWanda Stone         30\nJoseph Smith        35\ndtype: int64"
     },
     "execution_count": 18,
     "metadata": {},
     "output_type": "execute_result"
    }
   ],
   "source": [
    "b = pd.Series(numbers, index=names)\n",
    "b"
   ],
   "metadata": {
    "collapsed": false,
    "pycharm": {
     "name": "#%%\n"
    }
   }
  },
  {
   "cell_type": "code",
   "execution_count": 21,
   "outputs": [
    {
     "data": {
      "text/plain": "Aaron Ramirez       17\nAaron Sims          30\nChristina Hester    50\nDavid Wells        -21\nDustin Cochran      28\nJared Williams      20\nJoseph Smith        35\nJoshua Barajas      12\nKristy Lawrence     35\nLinda Liu          -46\nLisa Wheeler        -8\nMatthew Taylor      48\nNicholas Mccall    -29\nWanda Stone         30\nWilliam Vaughn      -6\ndtype: int64"
     },
     "execution_count": 21,
     "metadata": {},
     "output_type": "execute_result"
    }
   ],
   "source": [
    "b.sort_index(inplace=True)\n",
    "b"
   ],
   "metadata": {
    "collapsed": false,
    "pycharm": {
     "name": "#%%\n"
    }
   }
  },
  {
   "cell_type": "code",
   "execution_count": 22,
   "outputs": [
    {
     "data": {
      "text/plain": "'2011-04-13'"
     },
     "execution_count": 22,
     "metadata": {},
     "output_type": "execute_result"
    }
   ],
   "source": [
    "fake.date()"
   ],
   "metadata": {
    "collapsed": false,
    "pycharm": {
     "name": "#%%\n"
    }
   }
  },
  {
   "cell_type": "code",
   "execution_count": 23,
   "outputs": [],
   "source": [
    "dates = [fake.date() for i in range(15)]"
   ],
   "metadata": {
    "collapsed": false,
    "pycharm": {
     "name": "#%%\n"
    }
   }
  },
  {
   "cell_type": "code",
   "execution_count": 24,
   "outputs": [
    {
     "data": {
      "text/plain": "['1975-12-03',\n '1988-07-05',\n '1982-08-12',\n '1993-05-10',\n '1991-09-14',\n '2020-01-21',\n '1978-02-14',\n '2024-03-12',\n '2014-01-22',\n '2010-06-03',\n '1974-09-28',\n '2006-12-17',\n '2004-04-07',\n '1995-11-08',\n '2016-10-07']"
     },
     "execution_count": 24,
     "metadata": {},
     "output_type": "execute_result"
    }
   ],
   "source": [
    "dates"
   ],
   "metadata": {
    "collapsed": false,
    "pycharm": {
     "name": "#%%\n"
    }
   }
  },
  {
   "cell_type": "code",
   "execution_count": 25,
   "outputs": [
    {
     "data": {
      "text/plain": "0     1975-12-03\n1     1988-07-05\n2     1982-08-12\n3     1993-05-10\n4     1991-09-14\n5     2020-01-21\n6     1978-02-14\n7     2024-03-12\n8     2014-01-22\n9     2010-06-03\n10    1974-09-28\n11    2006-12-17\n12    2004-04-07\n13    1995-11-08\n14    2016-10-07\ndtype: object"
     },
     "execution_count": 25,
     "metadata": {},
     "output_type": "execute_result"
    }
   ],
   "source": [
    "c = pd.Series(dates)\n",
    "c"
   ],
   "metadata": {
    "collapsed": false,
    "pycharm": {
     "name": "#%%\n"
    }
   }
  },
  {
   "cell_type": "code",
   "execution_count": 26,
   "outputs": [
    {
     "data": {
      "text/plain": "10    1974-09-28\n0     1975-12-03\n6     1978-02-14\n2     1982-08-12\n1     1988-07-05\n4     1991-09-14\n3     1993-05-10\n13    1995-11-08\n12    2004-04-07\n11    2006-12-17\n9     2010-06-03\n8     2014-01-22\n14    2016-10-07\n5     2020-01-21\n7     2024-03-12\ndtype: object"
     },
     "execution_count": 26,
     "metadata": {},
     "output_type": "execute_result"
    }
   ],
   "source": [
    "c.sort_values()"
   ],
   "metadata": {
    "collapsed": false,
    "pycharm": {
     "name": "#%%\n"
    }
   }
  },
  {
   "cell_type": "code",
   "execution_count": 27,
   "outputs": [
    {
     "data": {
      "text/plain": "7     2024-03-12\n5     2020-01-21\n14    2016-10-07\n8     2014-01-22\n9     2010-06-03\n11    2006-12-17\n12    2004-04-07\n13    1995-11-08\n3     1993-05-10\n4     1991-09-14\n1     1988-07-05\n2     1982-08-12\n6     1978-02-14\n0     1975-12-03\n10    1974-09-28\ndtype: object"
     },
     "execution_count": 27,
     "metadata": {},
     "output_type": "execute_result"
    }
   ],
   "source": [
    "c.sort_values(ascending=False)"
   ],
   "metadata": {
    "collapsed": false,
    "pycharm": {
     "name": "#%%\n"
    }
   }
  },
  {
   "cell_type": "code",
   "execution_count": 45,
   "outputs": [
    {
     "data": {
      "text/plain": "Aaron Ramirez       17\nAaron Sims          30\nChristina Hester    50\nDavid Wells        -21\nDustin Cochran      28\nJared Williams      20\nJoseph Smith        35\nJoshua Barajas      12\nKristy Lawrence     35\nLinda Liu          -46\nLisa Wheeler        -8\nMatthew Taylor      48\nNicholas Mccall    -29\nWanda Stone         30\nWilliam Vaughn      -6\ndtype: int64"
     },
     "execution_count": 45,
     "metadata": {},
     "output_type": "execute_result"
    }
   ],
   "source": [
    "b"
   ],
   "metadata": {
    "collapsed": false,
    "pycharm": {
     "name": "#%%\n"
    }
   }
  },
  {
   "cell_type": "code",
   "execution_count": 51,
   "outputs": [
    {
     "data": {
      "text/plain": "0     1\n1     1\n2     1\n3     2\n4     2\n5     2\n6     2\n7     3\n8     5\n9     5\n10    5\n11    5\n12    5\n13    5\n14    5\ndtype: int64"
     },
     "execution_count": 51,
     "metadata": {},
     "output_type": "execute_result"
    }
   ],
   "source": [
    "d = [1, 1, 1, 2, 2, 2, 2, 3, 5, 5, 5, 5, 5, 5, 5 ]\n",
    "e = pd.Series(d)\n",
    "e"
   ],
   "metadata": {
    "collapsed": false,
    "pycharm": {
     "name": "#%%\n"
    }
   }
  },
  {
   "cell_type": "code",
   "execution_count": 52,
   "outputs": [
    {
     "data": {
      "text/plain": "5    7\n2    4\n1    3\n3    1\nName: count, dtype: int64"
     },
     "execution_count": 52,
     "metadata": {},
     "output_type": "execute_result"
    }
   ],
   "source": [
    "e.value_counts()"
   ],
   "metadata": {
    "collapsed": false,
    "pycharm": {
     "name": "#%%\n"
    }
   }
  },
  {
   "cell_type": "code",
   "execution_count": null,
   "outputs": [],
   "source": [],
   "metadata": {
    "collapsed": false,
    "pycharm": {
     "name": "#%%\n"
    }
   }
  }
 ],
 "metadata": {
  "kernelspec": {
   "display_name": "Python 3",
   "language": "python",
   "name": "python3"
  },
  "language_info": {
   "codemirror_mode": {
    "name": "ipython",
    "version": 2
   },
   "file_extension": ".py",
   "mimetype": "text/x-python",
   "name": "python",
   "nbconvert_exporter": "python",
   "pygments_lexer": "ipython2",
   "version": "2.7.6"
  }
 },
 "nbformat": 4,
 "nbformat_minor": 0
}