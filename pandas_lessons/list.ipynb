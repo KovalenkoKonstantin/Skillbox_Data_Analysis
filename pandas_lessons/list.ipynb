﻿{
 "cells": [
  {
   "cell_type": "code",
   "execution_count": 255,
   "metadata": {
    "collapsed": true,
    "pycharm": {
     "name": "#%%\n"
    }
   },
   "outputs": [],
   "source": [
    "import pandas as pd\n",
    "import sqlalchemy"
   ]
  },
  {
   "cell_type": "code",
   "execution_count": 256,
   "outputs": [],
   "source": [
    "data = pd.read_excel('D:/Список сотрудников 11.04.2024=выплаты(1).xls', dtype={'Таб. номер': str})"
   ],
   "metadata": {
    "collapsed": false,
    "pycharm": {
     "name": "#%%\n"
    }
   }
  },
  {
   "cell_type": "code",
   "execution_count": 257,
   "outputs": [
    {
     "data": {
      "text/plain": "     Индикатор ошибки                                       Имя  Таб. номер  \\\n0                   0                 Аверкина Ольга Викторовна  0000000411   \n1                   0                     Агеева Лада Артемовна  0000000406   \n2                   0  Адыкаев Чингиз Улугбекович (Новосибирск)  0000000270   \n3                   0                Аккуратов Вадим Евгеньевич  0000000222   \n4                   0    Аникеев Никита Сергеевич (Владивосток)  0000000381   \n..                ...                                       ...         ...   \n155                 0  Шкуратов Дмитрий Борисович (Новосибирск)  0000000390   \n156                 0                Шубенков Никита Викторович  0000000365   \n157                 0                     Шустов Илья Сергеевич  0000000407   \n158                 0             Щепетова Анастасия Викторовна  0000000228   \n159                 0     Яшин Алексей Анатольевич (ДГПХ Пенза)  0000000308   \n\n             В структуре предприятия  \\\n0         Advanced Monitoring Moscow   \n1         Advanced Monitoring Moscow   \n2    Advanced Monitoring Novosibirsk   \n3         Advanced Monitoring Moscow   \n4    Advanced Monitoring Vladivostok   \n..                               ...   \n155  Advanced Monitoring Novosibirsk   \n156       Advanced Monitoring Moscow   \n157       Advanced Monitoring Moscow   \n158       Advanced Monitoring Moscow   \n159                              NaN   \n\n                      Должность по штатному расписанию  \\\n0         Младший разработчик /Направление разработки/   \n1           Системный аналитик /Направление аналитики/   \n2    Старший специалист /Отдел разработки и эксплуа...   \n3         Старший разработчик /Направление разработки/   \n4    Исследователь /Центр мониторинга компьютерных ...   \n..                                                 ...   \n155  Специалист /Отдел разработки и эксплуатации си...   \n156  Руководитель направления /Отдел внедрения и со...   \n157  Системный инженер /Отдел внедрения и сопровожд...   \n158  Руководитель направления кадрового администрир...   \n159                                                NaN   \n\n                          ФИО youtrack      %  з/п пример  выплата  \\\n0                                  NaN    NaN      110000        0   \n1                                  NaN    NaN      110000        0   \n2       Адыкаев Чингиз Улугбекович_270  100.0      110000    49500   \n3       Аккуратов Вадим Евгеньевич_222  100.0      110000    49500   \n4                                  NaN    NaN      110000        0   \n..                                 ...    ...         ...      ...   \n155     Шкуратов Дмитрий Борисович_390  100.0      110000    49500   \n156     Шубенков Никита Викторович_365  100.0      110000    49500   \n157                                NaN    NaN      110000        0   \n158  Щепетова Анастасия Викторовна_228    0.0      110000        0   \n159                                NaN    NaN      110000        0   \n\n                            ФИО YT  Табель YT  Совпд  \n0                              NaN        NaN  False  \n1                              NaN        NaN  False  \n2       Адыкаев Чингиз Улугбекович      270.0   True  \n3       Аккуратов Вадим Евгеньевич      222.0   True  \n4                              NaN        NaN  False  \n..                             ...        ...    ...  \n155     Шкуратов Дмитрий Борисович      390.0   True  \n156     Шубенков Никита Викторович      365.0   True  \n157                            NaN        NaN  False  \n158  Щепетова Анастасия Викторовна      228.0   True  \n159                            NaN        NaN  False  \n\n[160 rows x 12 columns]",
      "text/html": "<div>\n<style scoped>\n    .dataframe tbody tr th:only-of-type {\n        vertical-align: middle;\n    }\n\n    .dataframe tbody tr th {\n        vertical-align: top;\n    }\n\n    .dataframe thead th {\n        text-align: right;\n    }\n</style>\n<table border=\"1\" class=\"dataframe\">\n  <thead>\n    <tr style=\"text-align: right;\">\n      <th></th>\n      <th>Индикатор ошибки</th>\n      <th>Имя</th>\n      <th>Таб. номер</th>\n      <th>В структуре предприятия</th>\n      <th>Должность по штатному расписанию</th>\n      <th>ФИО youtrack</th>\n      <th>%</th>\n      <th>з/п пример</th>\n      <th>выплата</th>\n      <th>ФИО YT</th>\n      <th>Табель YT</th>\n      <th>Совпд</th>\n    </tr>\n  </thead>\n  <tbody>\n    <tr>\n      <th>0</th>\n      <td>0</td>\n      <td>Аверкина Ольга Викторовна</td>\n      <td>0000000411</td>\n      <td>Advanced Monitoring Moscow</td>\n      <td>Младший разработчик /Направление разработки/</td>\n      <td>NaN</td>\n      <td>NaN</td>\n      <td>110000</td>\n      <td>0</td>\n      <td>NaN</td>\n      <td>NaN</td>\n      <td>False</td>\n    </tr>\n    <tr>\n      <th>1</th>\n      <td>0</td>\n      <td>Агеева Лада Артемовна</td>\n      <td>0000000406</td>\n      <td>Advanced Monitoring Moscow</td>\n      <td>Системный аналитик /Направление аналитики/</td>\n      <td>NaN</td>\n      <td>NaN</td>\n      <td>110000</td>\n      <td>0</td>\n      <td>NaN</td>\n      <td>NaN</td>\n      <td>False</td>\n    </tr>\n    <tr>\n      <th>2</th>\n      <td>0</td>\n      <td>Адыкаев Чингиз Улугбекович (Новосибирск)</td>\n      <td>0000000270</td>\n      <td>Advanced Monitoring Novosibirsk</td>\n      <td>Старший специалист /Отдел разработки и эксплуа...</td>\n      <td>Адыкаев Чингиз Улугбекович_270</td>\n      <td>100.0</td>\n      <td>110000</td>\n      <td>49500</td>\n      <td>Адыкаев Чингиз Улугбекович</td>\n      <td>270.0</td>\n      <td>True</td>\n    </tr>\n    <tr>\n      <th>3</th>\n      <td>0</td>\n      <td>Аккуратов Вадим Евгеньевич</td>\n      <td>0000000222</td>\n      <td>Advanced Monitoring Moscow</td>\n      <td>Старший разработчик /Направление разработки/</td>\n      <td>Аккуратов Вадим Евгеньевич_222</td>\n      <td>100.0</td>\n      <td>110000</td>\n      <td>49500</td>\n      <td>Аккуратов Вадим Евгеньевич</td>\n      <td>222.0</td>\n      <td>True</td>\n    </tr>\n    <tr>\n      <th>4</th>\n      <td>0</td>\n      <td>Аникеев Никита Сергеевич (Владивосток)</td>\n      <td>0000000381</td>\n      <td>Advanced Monitoring Vladivostok</td>\n      <td>Исследователь /Центр мониторинга компьютерных ...</td>\n      <td>NaN</td>\n      <td>NaN</td>\n      <td>110000</td>\n      <td>0</td>\n      <td>NaN</td>\n      <td>NaN</td>\n      <td>False</td>\n    </tr>\n    <tr>\n      <th>...</th>\n      <td>...</td>\n      <td>...</td>\n      <td>...</td>\n      <td>...</td>\n      <td>...</td>\n      <td>...</td>\n      <td>...</td>\n      <td>...</td>\n      <td>...</td>\n      <td>...</td>\n      <td>...</td>\n      <td>...</td>\n    </tr>\n    <tr>\n      <th>155</th>\n      <td>0</td>\n      <td>Шкуратов Дмитрий Борисович (Новосибирск)</td>\n      <td>0000000390</td>\n      <td>Advanced Monitoring Novosibirsk</td>\n      <td>Специалист /Отдел разработки и эксплуатации си...</td>\n      <td>Шкуратов Дмитрий Борисович_390</td>\n      <td>100.0</td>\n      <td>110000</td>\n      <td>49500</td>\n      <td>Шкуратов Дмитрий Борисович</td>\n      <td>390.0</td>\n      <td>True</td>\n    </tr>\n    <tr>\n      <th>156</th>\n      <td>0</td>\n      <td>Шубенков Никита Викторович</td>\n      <td>0000000365</td>\n      <td>Advanced Monitoring Moscow</td>\n      <td>Руководитель направления /Отдел внедрения и со...</td>\n      <td>Шубенков Никита Викторович_365</td>\n      <td>100.0</td>\n      <td>110000</td>\n      <td>49500</td>\n      <td>Шубенков Никита Викторович</td>\n      <td>365.0</td>\n      <td>True</td>\n    </tr>\n    <tr>\n      <th>157</th>\n      <td>0</td>\n      <td>Шустов Илья Сергеевич</td>\n      <td>0000000407</td>\n      <td>Advanced Monitoring Moscow</td>\n      <td>Системный инженер /Отдел внедрения и сопровожд...</td>\n      <td>NaN</td>\n      <td>NaN</td>\n      <td>110000</td>\n      <td>0</td>\n      <td>NaN</td>\n      <td>NaN</td>\n      <td>False</td>\n    </tr>\n    <tr>\n      <th>158</th>\n      <td>0</td>\n      <td>Щепетова Анастасия Викторовна</td>\n      <td>0000000228</td>\n      <td>Advanced Monitoring Moscow</td>\n      <td>Руководитель направления кадрового администрир...</td>\n      <td>Щепетова Анастасия Викторовна_228</td>\n      <td>0.0</td>\n      <td>110000</td>\n      <td>0</td>\n      <td>Щепетова Анастасия Викторовна</td>\n      <td>228.0</td>\n      <td>True</td>\n    </tr>\n    <tr>\n      <th>159</th>\n      <td>0</td>\n      <td>Яшин Алексей Анатольевич (ДГПХ Пенза)</td>\n      <td>0000000308</td>\n      <td>NaN</td>\n      <td>NaN</td>\n      <td>NaN</td>\n      <td>NaN</td>\n      <td>110000</td>\n      <td>0</td>\n      <td>NaN</td>\n      <td>NaN</td>\n      <td>False</td>\n    </tr>\n  </tbody>\n</table>\n<p>160 rows × 12 columns</p>\n</div>"
     },
     "execution_count": 257,
     "metadata": {},
     "output_type": "execute_result"
    }
   ],
   "source": [
    "data"
   ],
   "metadata": {
    "collapsed": false,
    "pycharm": {
     "name": "#%%\n"
    }
   }
  },
  {
   "cell_type": "code",
   "execution_count": 258,
   "outputs": [
    {
     "data": {
      "text/plain": "       Индикатор ошибки                                       Имя  Таб. номер  \\\nindex                                                                           \n0                     0                 Аверкина Ольга Викторовна  0000000411   \n1                     0                     Агеева Лада Артемовна  0000000406   \n2                     0  Адыкаев Чингиз Улугбекович (Новосибирск)  0000000270   \n3                     0                Аккуратов Вадим Евгеньевич  0000000222   \n4                     0    Аникеев Никита Сергеевич (Владивосток)  0000000381   \n...                 ...                                       ...         ...   \n155                   0  Шкуратов Дмитрий Борисович (Новосибирск)  0000000390   \n156                   0                Шубенков Никита Викторович  0000000365   \n157                   0                     Шустов Илья Сергеевич  0000000407   \n158                   0             Щепетова Анастасия Викторовна  0000000228   \n159                   0     Яшин Алексей Анатольевич (ДГПХ Пенза)  0000000308   \n\n               В структуре предприятия  \\\nindex                                    \n0           Advanced Monitoring Moscow   \n1           Advanced Monitoring Moscow   \n2      Advanced Monitoring Novosibirsk   \n3           Advanced Monitoring Moscow   \n4      Advanced Monitoring Vladivostok   \n...                                ...   \n155    Advanced Monitoring Novosibirsk   \n156         Advanced Monitoring Moscow   \n157         Advanced Monitoring Moscow   \n158         Advanced Monitoring Moscow   \n159                                NaN   \n\n                        Должность по штатному расписанию  \\\nindex                                                      \n0           Младший разработчик /Направление разработки/   \n1             Системный аналитик /Направление аналитики/   \n2      Старший специалист /Отдел разработки и эксплуа...   \n3           Старший разработчик /Направление разработки/   \n4      Исследователь /Центр мониторинга компьютерных ...   \n...                                                  ...   \n155    Специалист /Отдел разработки и эксплуатации си...   \n156    Руководитель направления /Отдел внедрения и со...   \n157    Системный инженер /Отдел внедрения и сопровожд...   \n158    Руководитель направления кадрового администрир...   \n159                                                  NaN   \n\n                            ФИО youtrack      %  з/п пример  выплата  \\\nindex                                                                  \n0                                    NaN    NaN      110000        0   \n1                                    NaN    NaN      110000        0   \n2         Адыкаев Чингиз Улугбекович_270  100.0      110000    49500   \n3         Аккуратов Вадим Евгеньевич_222  100.0      110000    49500   \n4                                    NaN    NaN      110000        0   \n...                                  ...    ...         ...      ...   \n155       Шкуратов Дмитрий Борисович_390  100.0      110000    49500   \n156       Шубенков Никита Викторович_365  100.0      110000    49500   \n157                                  NaN    NaN      110000        0   \n158    Щепетова Анастасия Викторовна_228    0.0      110000        0   \n159                                  NaN    NaN      110000        0   \n\n                              ФИО YT  Табель YT  Совпд  \nindex                                                   \n0                                NaN        NaN  False  \n1                                NaN        NaN  False  \n2         Адыкаев Чингиз Улугбекович      270.0   True  \n3         Аккуратов Вадим Евгеньевич      222.0   True  \n4                                NaN        NaN  False  \n...                              ...        ...    ...  \n155       Шкуратов Дмитрий Борисович      390.0   True  \n156       Шубенков Никита Викторович      365.0   True  \n157                              NaN        NaN  False  \n158    Щепетова Анастасия Викторовна      228.0   True  \n159                              NaN        NaN  False  \n\n[160 rows x 12 columns]",
      "text/html": "<div>\n<style scoped>\n    .dataframe tbody tr th:only-of-type {\n        vertical-align: middle;\n    }\n\n    .dataframe tbody tr th {\n        vertical-align: top;\n    }\n\n    .dataframe thead th {\n        text-align: right;\n    }\n</style>\n<table border=\"1\" class=\"dataframe\">\n  <thead>\n    <tr style=\"text-align: right;\">\n      <th></th>\n      <th>Индикатор ошибки</th>\n      <th>Имя</th>\n      <th>Таб. номер</th>\n      <th>В структуре предприятия</th>\n      <th>Должность по штатному расписанию</th>\n      <th>ФИО youtrack</th>\n      <th>%</th>\n      <th>з/п пример</th>\n      <th>выплата</th>\n      <th>ФИО YT</th>\n      <th>Табель YT</th>\n      <th>Совпд</th>\n    </tr>\n    <tr>\n      <th>index</th>\n      <th></th>\n      <th></th>\n      <th></th>\n      <th></th>\n      <th></th>\n      <th></th>\n      <th></th>\n      <th></th>\n      <th></th>\n      <th></th>\n      <th></th>\n      <th></th>\n    </tr>\n  </thead>\n  <tbody>\n    <tr>\n      <th>0</th>\n      <td>0</td>\n      <td>Аверкина Ольга Викторовна</td>\n      <td>0000000411</td>\n      <td>Advanced Monitoring Moscow</td>\n      <td>Младший разработчик /Направление разработки/</td>\n      <td>NaN</td>\n      <td>NaN</td>\n      <td>110000</td>\n      <td>0</td>\n      <td>NaN</td>\n      <td>NaN</td>\n      <td>False</td>\n    </tr>\n    <tr>\n      <th>1</th>\n      <td>0</td>\n      <td>Агеева Лада Артемовна</td>\n      <td>0000000406</td>\n      <td>Advanced Monitoring Moscow</td>\n      <td>Системный аналитик /Направление аналитики/</td>\n      <td>NaN</td>\n      <td>NaN</td>\n      <td>110000</td>\n      <td>0</td>\n      <td>NaN</td>\n      <td>NaN</td>\n      <td>False</td>\n    </tr>\n    <tr>\n      <th>2</th>\n      <td>0</td>\n      <td>Адыкаев Чингиз Улугбекович (Новосибирск)</td>\n      <td>0000000270</td>\n      <td>Advanced Monitoring Novosibirsk</td>\n      <td>Старший специалист /Отдел разработки и эксплуа...</td>\n      <td>Адыкаев Чингиз Улугбекович_270</td>\n      <td>100.0</td>\n      <td>110000</td>\n      <td>49500</td>\n      <td>Адыкаев Чингиз Улугбекович</td>\n      <td>270.0</td>\n      <td>True</td>\n    </tr>\n    <tr>\n      <th>3</th>\n      <td>0</td>\n      <td>Аккуратов Вадим Евгеньевич</td>\n      <td>0000000222</td>\n      <td>Advanced Monitoring Moscow</td>\n      <td>Старший разработчик /Направление разработки/</td>\n      <td>Аккуратов Вадим Евгеньевич_222</td>\n      <td>100.0</td>\n      <td>110000</td>\n      <td>49500</td>\n      <td>Аккуратов Вадим Евгеньевич</td>\n      <td>222.0</td>\n      <td>True</td>\n    </tr>\n    <tr>\n      <th>4</th>\n      <td>0</td>\n      <td>Аникеев Никита Сергеевич (Владивосток)</td>\n      <td>0000000381</td>\n      <td>Advanced Monitoring Vladivostok</td>\n      <td>Исследователь /Центр мониторинга компьютерных ...</td>\n      <td>NaN</td>\n      <td>NaN</td>\n      <td>110000</td>\n      <td>0</td>\n      <td>NaN</td>\n      <td>NaN</td>\n      <td>False</td>\n    </tr>\n    <tr>\n      <th>...</th>\n      <td>...</td>\n      <td>...</td>\n      <td>...</td>\n      <td>...</td>\n      <td>...</td>\n      <td>...</td>\n      <td>...</td>\n      <td>...</td>\n      <td>...</td>\n      <td>...</td>\n      <td>...</td>\n      <td>...</td>\n    </tr>\n    <tr>\n      <th>155</th>\n      <td>0</td>\n      <td>Шкуратов Дмитрий Борисович (Новосибирск)</td>\n      <td>0000000390</td>\n      <td>Advanced Monitoring Novosibirsk</td>\n      <td>Специалист /Отдел разработки и эксплуатации си...</td>\n      <td>Шкуратов Дмитрий Борисович_390</td>\n      <td>100.0</td>\n      <td>110000</td>\n      <td>49500</td>\n      <td>Шкуратов Дмитрий Борисович</td>\n      <td>390.0</td>\n      <td>True</td>\n    </tr>\n    <tr>\n      <th>156</th>\n      <td>0</td>\n      <td>Шубенков Никита Викторович</td>\n      <td>0000000365</td>\n      <td>Advanced Monitoring Moscow</td>\n      <td>Руководитель направления /Отдел внедрения и со...</td>\n      <td>Шубенков Никита Викторович_365</td>\n      <td>100.0</td>\n      <td>110000</td>\n      <td>49500</td>\n      <td>Шубенков Никита Викторович</td>\n      <td>365.0</td>\n      <td>True</td>\n    </tr>\n    <tr>\n      <th>157</th>\n      <td>0</td>\n      <td>Шустов Илья Сергеевич</td>\n      <td>0000000407</td>\n      <td>Advanced Monitoring Moscow</td>\n      <td>Системный инженер /Отдел внедрения и сопровожд...</td>\n      <td>NaN</td>\n      <td>NaN</td>\n      <td>110000</td>\n      <td>0</td>\n      <td>NaN</td>\n      <td>NaN</td>\n      <td>False</td>\n    </tr>\n    <tr>\n      <th>158</th>\n      <td>0</td>\n      <td>Щепетова Анастасия Викторовна</td>\n      <td>0000000228</td>\n      <td>Advanced Monitoring Moscow</td>\n      <td>Руководитель направления кадрового администрир...</td>\n      <td>Щепетова Анастасия Викторовна_228</td>\n      <td>0.0</td>\n      <td>110000</td>\n      <td>0</td>\n      <td>Щепетова Анастасия Викторовна</td>\n      <td>228.0</td>\n      <td>True</td>\n    </tr>\n    <tr>\n      <th>159</th>\n      <td>0</td>\n      <td>Яшин Алексей Анатольевич (ДГПХ Пенза)</td>\n      <td>0000000308</td>\n      <td>NaN</td>\n      <td>NaN</td>\n      <td>NaN</td>\n      <td>NaN</td>\n      <td>110000</td>\n      <td>0</td>\n      <td>NaN</td>\n      <td>NaN</td>\n      <td>False</td>\n    </tr>\n  </tbody>\n</table>\n<p>160 rows × 12 columns</p>\n</div>"
     },
     "execution_count": 258,
     "metadata": {},
     "output_type": "execute_result"
    }
   ],
   "source": [
    "data = data.rename_axis(index='index')\n",
    "data"
   ],
   "metadata": {
    "collapsed": false,
    "pycharm": {
     "name": "#%%\n"
    }
   }
  },
  {
   "cell_type": "code",
   "execution_count": 259,
   "outputs": [
    {
     "data": {
      "text/plain": "               0          1            2              3       4\nindex                                                          \n0       Аверкина      Ольга   Викторовна           None    None\n1         Агеева       Лада    Артемовна           None    None\n2        Адыкаев     Чингиз  Улугбекович  (Новосибирск)    None\n3      Аккуратов      Вадим   Евгеньевич           None    None\n4        Аникеев     Никита    Сергеевич  (Владивосток)    None\n...          ...        ...          ...            ...     ...\n155     Шкуратов    Дмитрий    Борисович  (Новосибирск)    None\n156     Шубенков     Никита   Викторович           None    None\n157       Шустов       Илья    Сергеевич           None    None\n158     Щепетова  Анастасия   Викторовна           None    None\n159         Яшин    Алексей  Анатольевич          (ДГПХ  Пенза)\n\n[160 rows x 5 columns]",
      "text/html": "<div>\n<style scoped>\n    .dataframe tbody tr th:only-of-type {\n        vertical-align: middle;\n    }\n\n    .dataframe tbody tr th {\n        vertical-align: top;\n    }\n\n    .dataframe thead th {\n        text-align: right;\n    }\n</style>\n<table border=\"1\" class=\"dataframe\">\n  <thead>\n    <tr style=\"text-align: right;\">\n      <th></th>\n      <th>0</th>\n      <th>1</th>\n      <th>2</th>\n      <th>3</th>\n      <th>4</th>\n    </tr>\n    <tr>\n      <th>index</th>\n      <th></th>\n      <th></th>\n      <th></th>\n      <th></th>\n      <th></th>\n    </tr>\n  </thead>\n  <tbody>\n    <tr>\n      <th>0</th>\n      <td>Аверкина</td>\n      <td>Ольга</td>\n      <td>Викторовна</td>\n      <td>None</td>\n      <td>None</td>\n    </tr>\n    <tr>\n      <th>1</th>\n      <td>Агеева</td>\n      <td>Лада</td>\n      <td>Артемовна</td>\n      <td>None</td>\n      <td>None</td>\n    </tr>\n    <tr>\n      <th>2</th>\n      <td>Адыкаев</td>\n      <td>Чингиз</td>\n      <td>Улугбекович</td>\n      <td>(Новосибирск)</td>\n      <td>None</td>\n    </tr>\n    <tr>\n      <th>3</th>\n      <td>Аккуратов</td>\n      <td>Вадим</td>\n      <td>Евгеньевич</td>\n      <td>None</td>\n      <td>None</td>\n    </tr>\n    <tr>\n      <th>4</th>\n      <td>Аникеев</td>\n      <td>Никита</td>\n      <td>Сергеевич</td>\n      <td>(Владивосток)</td>\n      <td>None</td>\n    </tr>\n    <tr>\n      <th>...</th>\n      <td>...</td>\n      <td>...</td>\n      <td>...</td>\n      <td>...</td>\n      <td>...</td>\n    </tr>\n    <tr>\n      <th>155</th>\n      <td>Шкуратов</td>\n      <td>Дмитрий</td>\n      <td>Борисович</td>\n      <td>(Новосибирск)</td>\n      <td>None</td>\n    </tr>\n    <tr>\n      <th>156</th>\n      <td>Шубенков</td>\n      <td>Никита</td>\n      <td>Викторович</td>\n      <td>None</td>\n      <td>None</td>\n    </tr>\n    <tr>\n      <th>157</th>\n      <td>Шустов</td>\n      <td>Илья</td>\n      <td>Сергеевич</td>\n      <td>None</td>\n      <td>None</td>\n    </tr>\n    <tr>\n      <th>158</th>\n      <td>Щепетова</td>\n      <td>Анастасия</td>\n      <td>Викторовна</td>\n      <td>None</td>\n      <td>None</td>\n    </tr>\n    <tr>\n      <th>159</th>\n      <td>Яшин</td>\n      <td>Алексей</td>\n      <td>Анатольевич</td>\n      <td>(ДГПХ</td>\n      <td>Пенза)</td>\n    </tr>\n  </tbody>\n</table>\n<p>160 rows × 5 columns</p>\n</div>"
     },
     "execution_count": 259,
     "metadata": {},
     "output_type": "execute_result"
    }
   ],
   "source": [
    "new_data = data['Имя'].str.split(' ', expand=True)\n",
    "new_data"
   ],
   "metadata": {
    "collapsed": false,
    "pycharm": {
     "name": "#%%\n"
    }
   }
  },
  {
   "cell_type": "code",
   "execution_count": 260,
   "outputs": [
    {
     "data": {
      "text/plain": "index\n0          Аверкина Ольга Викторовна\n1              Агеева Лада Артемовна\n2         Адыкаев Чингиз Улугбекович\n3         Аккуратов Вадим Евгеньевич\n4           Аникеев Никита Сергеевич\n                   ...              \n155       Шкуратов Дмитрий Борисович\n156       Шубенков Никита Викторович\n157            Шустов Илья Сергеевич\n158    Щепетова Анастасия Викторовна\n159         Яшин Алексей Анатольевич\nName: employee_name, Length: 160, dtype: object"
     },
     "execution_count": 260,
     "metadata": {},
     "output_type": "execute_result"
    }
   ],
   "source": [
    "new_data2 = new_data[[0, 1, 2]].agg(' '.join, axis=1).rename('employee_name')\n",
    "new_data2 = new_data2.rename_axis(index='index')\n",
    "new_data2\n",
    "\n",
    "# new_data2.to_excel(r'D:/123.xlsx', index=True)"
   ],
   "metadata": {
    "collapsed": false,
    "pycharm": {
     "name": "#%%\n"
    }
   }
  },
  {
   "cell_type": "code",
   "execution_count": 261,
   "outputs": [
    {
     "data": {
      "text/plain": "       Индикатор ошибки                                       Имя  Таб. номер  \\\nindex                                                                           \n0                     0                 Аверкина Ольга Викторовна  0000000411   \n1                     0                     Агеева Лада Артемовна  0000000406   \n2                     0  Адыкаев Чингиз Улугбекович (Новосибирск)  0000000270   \n3                     0                Аккуратов Вадим Евгеньевич  0000000222   \n4                     0    Аникеев Никита Сергеевич (Владивосток)  0000000381   \n...                 ...                                       ...         ...   \n155                   0  Шкуратов Дмитрий Борисович (Новосибирск)  0000000390   \n156                   0                Шубенков Никита Викторович  0000000365   \n157                   0                     Шустов Илья Сергеевич  0000000407   \n158                   0             Щепетова Анастасия Викторовна  0000000228   \n159                   0     Яшин Алексей Анатольевич (ДГПХ Пенза)  0000000308   \n\n               В структуре предприятия  \\\nindex                                    \n0           Advanced Monitoring Moscow   \n1           Advanced Monitoring Moscow   \n2      Advanced Monitoring Novosibirsk   \n3           Advanced Monitoring Moscow   \n4      Advanced Monitoring Vladivostok   \n...                                ...   \n155    Advanced Monitoring Novosibirsk   \n156         Advanced Monitoring Moscow   \n157         Advanced Monitoring Moscow   \n158         Advanced Monitoring Moscow   \n159                                NaN   \n\n                        Должность по штатному расписанию  \\\nindex                                                      \n0           Младший разработчик /Направление разработки/   \n1             Системный аналитик /Направление аналитики/   \n2      Старший специалист /Отдел разработки и эксплуа...   \n3           Старший разработчик /Направление разработки/   \n4      Исследователь /Центр мониторинга компьютерных ...   \n...                                                  ...   \n155    Специалист /Отдел разработки и эксплуатации си...   \n156    Руководитель направления /Отдел внедрения и со...   \n157    Системный инженер /Отдел внедрения и сопровожд...   \n158    Руководитель направления кадрового администрир...   \n159                                                  NaN   \n\n                            ФИО youtrack      %  з/п пример  выплата  \\\nindex                                                                  \n0                                    NaN    0.0      110000        0   \n1                                    NaN    0.0      110000        0   \n2         Адыкаев Чингиз Улугбекович_270  100.0      110000    49500   \n3         Аккуратов Вадим Евгеньевич_222  100.0      110000    49500   \n4                                    NaN    0.0      110000        0   \n...                                  ...    ...         ...      ...   \n155       Шкуратов Дмитрий Борисович_390  100.0      110000    49500   \n156       Шубенков Никита Викторович_365  100.0      110000    49500   \n157                                  NaN    0.0      110000        0   \n158    Щепетова Анастасия Викторовна_228    0.0      110000        0   \n159                                  NaN    0.0      110000        0   \n\n                              ФИО YT  Табель YT  Совпд  \\\nindex                                                    \n0                                NaN        NaN  False   \n1                                NaN        NaN  False   \n2         Адыкаев Чингиз Улугбекович      270.0   True   \n3         Аккуратов Вадим Евгеньевич      222.0   True   \n4                                NaN        NaN  False   \n...                              ...        ...    ...   \n155       Шкуратов Дмитрий Борисович      390.0   True   \n156       Шубенков Никита Викторович      365.0   True   \n157                              NaN        NaN  False   \n158    Щепетова Анастасия Викторовна      228.0   True   \n159                              NaN        NaN  False   \n\n                       employee_name  \nindex                                 \n0          Аверкина Ольга Викторовна  \n1              Агеева Лада Артемовна  \n2         Адыкаев Чингиз Улугбекович  \n3         Аккуратов Вадим Евгеньевич  \n4           Аникеев Никита Сергеевич  \n...                              ...  \n155       Шкуратов Дмитрий Борисович  \n156       Шубенков Никита Викторович  \n157            Шустов Илья Сергеевич  \n158    Щепетова Анастасия Викторовна  \n159         Яшин Алексей Анатольевич  \n\n[160 rows x 13 columns]",
      "text/html": "<div>\n<style scoped>\n    .dataframe tbody tr th:only-of-type {\n        vertical-align: middle;\n    }\n\n    .dataframe tbody tr th {\n        vertical-align: top;\n    }\n\n    .dataframe thead th {\n        text-align: right;\n    }\n</style>\n<table border=\"1\" class=\"dataframe\">\n  <thead>\n    <tr style=\"text-align: right;\">\n      <th></th>\n      <th>Индикатор ошибки</th>\n      <th>Имя</th>\n      <th>Таб. номер</th>\n      <th>В структуре предприятия</th>\n      <th>Должность по штатному расписанию</th>\n      <th>ФИО youtrack</th>\n      <th>%</th>\n      <th>з/п пример</th>\n      <th>выплата</th>\n      <th>ФИО YT</th>\n      <th>Табель YT</th>\n      <th>Совпд</th>\n      <th>employee_name</th>\n    </tr>\n    <tr>\n      <th>index</th>\n      <th></th>\n      <th></th>\n      <th></th>\n      <th></th>\n      <th></th>\n      <th></th>\n      <th></th>\n      <th></th>\n      <th></th>\n      <th></th>\n      <th></th>\n      <th></th>\n      <th></th>\n    </tr>\n  </thead>\n  <tbody>\n    <tr>\n      <th>0</th>\n      <td>0</td>\n      <td>Аверкина Ольга Викторовна</td>\n      <td>0000000411</td>\n      <td>Advanced Monitoring Moscow</td>\n      <td>Младший разработчик /Направление разработки/</td>\n      <td>NaN</td>\n      <td>0.0</td>\n      <td>110000</td>\n      <td>0</td>\n      <td>NaN</td>\n      <td>NaN</td>\n      <td>False</td>\n      <td>Аверкина Ольга Викторовна</td>\n    </tr>\n    <tr>\n      <th>1</th>\n      <td>0</td>\n      <td>Агеева Лада Артемовна</td>\n      <td>0000000406</td>\n      <td>Advanced Monitoring Moscow</td>\n      <td>Системный аналитик /Направление аналитики/</td>\n      <td>NaN</td>\n      <td>0.0</td>\n      <td>110000</td>\n      <td>0</td>\n      <td>NaN</td>\n      <td>NaN</td>\n      <td>False</td>\n      <td>Агеева Лада Артемовна</td>\n    </tr>\n    <tr>\n      <th>2</th>\n      <td>0</td>\n      <td>Адыкаев Чингиз Улугбекович (Новосибирск)</td>\n      <td>0000000270</td>\n      <td>Advanced Monitoring Novosibirsk</td>\n      <td>Старший специалист /Отдел разработки и эксплуа...</td>\n      <td>Адыкаев Чингиз Улугбекович_270</td>\n      <td>100.0</td>\n      <td>110000</td>\n      <td>49500</td>\n      <td>Адыкаев Чингиз Улугбекович</td>\n      <td>270.0</td>\n      <td>True</td>\n      <td>Адыкаев Чингиз Улугбекович</td>\n    </tr>\n    <tr>\n      <th>3</th>\n      <td>0</td>\n      <td>Аккуратов Вадим Евгеньевич</td>\n      <td>0000000222</td>\n      <td>Advanced Monitoring Moscow</td>\n      <td>Старший разработчик /Направление разработки/</td>\n      <td>Аккуратов Вадим Евгеньевич_222</td>\n      <td>100.0</td>\n      <td>110000</td>\n      <td>49500</td>\n      <td>Аккуратов Вадим Евгеньевич</td>\n      <td>222.0</td>\n      <td>True</td>\n      <td>Аккуратов Вадим Евгеньевич</td>\n    </tr>\n    <tr>\n      <th>4</th>\n      <td>0</td>\n      <td>Аникеев Никита Сергеевич (Владивосток)</td>\n      <td>0000000381</td>\n      <td>Advanced Monitoring Vladivostok</td>\n      <td>Исследователь /Центр мониторинга компьютерных ...</td>\n      <td>NaN</td>\n      <td>0.0</td>\n      <td>110000</td>\n      <td>0</td>\n      <td>NaN</td>\n      <td>NaN</td>\n      <td>False</td>\n      <td>Аникеев Никита Сергеевич</td>\n    </tr>\n    <tr>\n      <th>...</th>\n      <td>...</td>\n      <td>...</td>\n      <td>...</td>\n      <td>...</td>\n      <td>...</td>\n      <td>...</td>\n      <td>...</td>\n      <td>...</td>\n      <td>...</td>\n      <td>...</td>\n      <td>...</td>\n      <td>...</td>\n      <td>...</td>\n    </tr>\n    <tr>\n      <th>155</th>\n      <td>0</td>\n      <td>Шкуратов Дмитрий Борисович (Новосибирск)</td>\n      <td>0000000390</td>\n      <td>Advanced Monitoring Novosibirsk</td>\n      <td>Специалист /Отдел разработки и эксплуатации си...</td>\n      <td>Шкуратов Дмитрий Борисович_390</td>\n      <td>100.0</td>\n      <td>110000</td>\n      <td>49500</td>\n      <td>Шкуратов Дмитрий Борисович</td>\n      <td>390.0</td>\n      <td>True</td>\n      <td>Шкуратов Дмитрий Борисович</td>\n    </tr>\n    <tr>\n      <th>156</th>\n      <td>0</td>\n      <td>Шубенков Никита Викторович</td>\n      <td>0000000365</td>\n      <td>Advanced Monitoring Moscow</td>\n      <td>Руководитель направления /Отдел внедрения и со...</td>\n      <td>Шубенков Никита Викторович_365</td>\n      <td>100.0</td>\n      <td>110000</td>\n      <td>49500</td>\n      <td>Шубенков Никита Викторович</td>\n      <td>365.0</td>\n      <td>True</td>\n      <td>Шубенков Никита Викторович</td>\n    </tr>\n    <tr>\n      <th>157</th>\n      <td>0</td>\n      <td>Шустов Илья Сергеевич</td>\n      <td>0000000407</td>\n      <td>Advanced Monitoring Moscow</td>\n      <td>Системный инженер /Отдел внедрения и сопровожд...</td>\n      <td>NaN</td>\n      <td>0.0</td>\n      <td>110000</td>\n      <td>0</td>\n      <td>NaN</td>\n      <td>NaN</td>\n      <td>False</td>\n      <td>Шустов Илья Сергеевич</td>\n    </tr>\n    <tr>\n      <th>158</th>\n      <td>0</td>\n      <td>Щепетова Анастасия Викторовна</td>\n      <td>0000000228</td>\n      <td>Advanced Monitoring Moscow</td>\n      <td>Руководитель направления кадрового администрир...</td>\n      <td>Щепетова Анастасия Викторовна_228</td>\n      <td>0.0</td>\n      <td>110000</td>\n      <td>0</td>\n      <td>Щепетова Анастасия Викторовна</td>\n      <td>228.0</td>\n      <td>True</td>\n      <td>Щепетова Анастасия Викторовна</td>\n    </tr>\n    <tr>\n      <th>159</th>\n      <td>0</td>\n      <td>Яшин Алексей Анатольевич (ДГПХ Пенза)</td>\n      <td>0000000308</td>\n      <td>NaN</td>\n      <td>NaN</td>\n      <td>NaN</td>\n      <td>0.0</td>\n      <td>110000</td>\n      <td>0</td>\n      <td>NaN</td>\n      <td>NaN</td>\n      <td>False</td>\n      <td>Яшин Алексей Анатольевич</td>\n    </tr>\n  </tbody>\n</table>\n<p>160 rows × 13 columns</p>\n</div>"
     },
     "execution_count": 261,
     "metadata": {},
     "output_type": "execute_result"
    }
   ],
   "source": [
    "new_data3 = data.merge(new_data2, on='index', how='left')\n",
    "new_data3['%'] = new_data3['%'].fillna(0)\n",
    "new_data3"
   ],
   "metadata": {
    "collapsed": false,
    "pycharm": {
     "name": "#%%\n"
    }
   }
  },
  {
   "cell_type": "code",
   "execution_count": 262,
   "outputs": [
    {
     "data": {
      "text/plain": "                       employee_name  \\\nindex                                  \n0          Аверкина Ольга Викторовна   \n1              Агеева Лада Артемовна   \n2         Адыкаев Чингиз Улугбекович   \n3         Аккуратов Вадим Евгеньевич   \n4           Аникеев Никита Сергеевич   \n...                              ...   \n155       Шкуратов Дмитрий Борисович   \n156       Шубенков Никита Викторович   \n157            Шустов Илья Сергеевич   \n158    Щепетова Анастасия Викторовна   \n159         Яшин Алексей Анатольевич   \n\n                                            Имя      %  Таб. номер  \nindex                                                               \n0                     Аверкина Ольга Викторовна    0.0  0000000411  \n1                         Агеева Лада Артемовна    0.0  0000000406  \n2      Адыкаев Чингиз Улугбекович (Новосибирск)  100.0  0000000270  \n3                    Аккуратов Вадим Евгеньевич  100.0  0000000222  \n4        Аникеев Никита Сергеевич (Владивосток)    0.0  0000000381  \n...                                         ...    ...         ...  \n155    Шкуратов Дмитрий Борисович (Новосибирск)  100.0  0000000390  \n156                  Шубенков Никита Викторович  100.0  0000000365  \n157                       Шустов Илья Сергеевич    0.0  0000000407  \n158               Щепетова Анастасия Викторовна    0.0  0000000228  \n159       Яшин Алексей Анатольевич (ДГПХ Пенза)    0.0  0000000308  \n\n[160 rows x 4 columns]",
      "text/html": "<div>\n<style scoped>\n    .dataframe tbody tr th:only-of-type {\n        vertical-align: middle;\n    }\n\n    .dataframe tbody tr th {\n        vertical-align: top;\n    }\n\n    .dataframe thead th {\n        text-align: right;\n    }\n</style>\n<table border=\"1\" class=\"dataframe\">\n  <thead>\n    <tr style=\"text-align: right;\">\n      <th></th>\n      <th>employee_name</th>\n      <th>Имя</th>\n      <th>%</th>\n      <th>Таб. номер</th>\n    </tr>\n    <tr>\n      <th>index</th>\n      <th></th>\n      <th></th>\n      <th></th>\n      <th></th>\n    </tr>\n  </thead>\n  <tbody>\n    <tr>\n      <th>0</th>\n      <td>Аверкина Ольга Викторовна</td>\n      <td>Аверкина Ольга Викторовна</td>\n      <td>0.0</td>\n      <td>0000000411</td>\n    </tr>\n    <tr>\n      <th>1</th>\n      <td>Агеева Лада Артемовна</td>\n      <td>Агеева Лада Артемовна</td>\n      <td>0.0</td>\n      <td>0000000406</td>\n    </tr>\n    <tr>\n      <th>2</th>\n      <td>Адыкаев Чингиз Улугбекович</td>\n      <td>Адыкаев Чингиз Улугбекович (Новосибирск)</td>\n      <td>100.0</td>\n      <td>0000000270</td>\n    </tr>\n    <tr>\n      <th>3</th>\n      <td>Аккуратов Вадим Евгеньевич</td>\n      <td>Аккуратов Вадим Евгеньевич</td>\n      <td>100.0</td>\n      <td>0000000222</td>\n    </tr>\n    <tr>\n      <th>4</th>\n      <td>Аникеев Никита Сергеевич</td>\n      <td>Аникеев Никита Сергеевич (Владивосток)</td>\n      <td>0.0</td>\n      <td>0000000381</td>\n    </tr>\n    <tr>\n      <th>...</th>\n      <td>...</td>\n      <td>...</td>\n      <td>...</td>\n      <td>...</td>\n    </tr>\n    <tr>\n      <th>155</th>\n      <td>Шкуратов Дмитрий Борисович</td>\n      <td>Шкуратов Дмитрий Борисович (Новосибирск)</td>\n      <td>100.0</td>\n      <td>0000000390</td>\n    </tr>\n    <tr>\n      <th>156</th>\n      <td>Шубенков Никита Викторович</td>\n      <td>Шубенков Никита Викторович</td>\n      <td>100.0</td>\n      <td>0000000365</td>\n    </tr>\n    <tr>\n      <th>157</th>\n      <td>Шустов Илья Сергеевич</td>\n      <td>Шустов Илья Сергеевич</td>\n      <td>0.0</td>\n      <td>0000000407</td>\n    </tr>\n    <tr>\n      <th>158</th>\n      <td>Щепетова Анастасия Викторовна</td>\n      <td>Щепетова Анастасия Викторовна</td>\n      <td>0.0</td>\n      <td>0000000228</td>\n    </tr>\n    <tr>\n      <th>159</th>\n      <td>Яшин Алексей Анатольевич</td>\n      <td>Яшин Алексей Анатольевич (ДГПХ Пенза)</td>\n      <td>0.0</td>\n      <td>0000000308</td>\n    </tr>\n  </tbody>\n</table>\n<p>160 rows × 4 columns</p>\n</div>"
     },
     "execution_count": 262,
     "metadata": {},
     "output_type": "execute_result"
    }
   ],
   "source": [
    "final_data = new_data3[['employee_name', 'Имя', '%', 'Таб. номер']]\n",
    "final_data"
   ],
   "metadata": {
    "collapsed": false,
    "pycharm": {
     "name": "#%%\n"
    }
   }
  },
  {
   "cell_type": "code",
   "execution_count": 263,
   "outputs": [],
   "source": [
    "final_data.to_excel(r'D:/123.xlsx', index=True)"
   ],
   "metadata": {
    "collapsed": false,
    "pycharm": {
     "name": "#%%\n"
    }
   }
  },
  {
   "cell_type": "code",
   "execution_count": 264,
   "outputs": [
    {
     "data": {
      "text/plain": "                     employee_name      %  Таб. номер\n0        Аверкина Ольга Викторовна    0.0  0000000411\n1            Агеева Лада Артемовна    0.0  0000000406\n2       Адыкаев Чингиз Улугбекович  100.0  0000000270\n3       Аккуратов Вадим Евгеньевич  100.0  0000000222\n4         Аникеев Никита Сергеевич    0.0  0000000381\n..                             ...    ...         ...\n155     Шкуратов Дмитрий Борисович  100.0  0000000390\n156     Шубенков Никита Викторович  100.0  0000000365\n157          Шустов Илья Сергеевич    0.0  0000000407\n158  Щепетова Анастасия Викторовна    0.0  0000000228\n159       Яшин Алексей Анатольевич    0.0  0000000308\n\n[160 rows x 3 columns]",
      "text/html": "<div>\n<style scoped>\n    .dataframe tbody tr th:only-of-type {\n        vertical-align: middle;\n    }\n\n    .dataframe tbody tr th {\n        vertical-align: top;\n    }\n\n    .dataframe thead th {\n        text-align: right;\n    }\n</style>\n<table border=\"1\" class=\"dataframe\">\n  <thead>\n    <tr style=\"text-align: right;\">\n      <th></th>\n      <th>employee_name</th>\n      <th>%</th>\n      <th>Таб. номер</th>\n    </tr>\n  </thead>\n  <tbody>\n    <tr>\n      <th>0</th>\n      <td>Аверкина Ольга Викторовна</td>\n      <td>0.0</td>\n      <td>0000000411</td>\n    </tr>\n    <tr>\n      <th>1</th>\n      <td>Агеева Лада Артемовна</td>\n      <td>0.0</td>\n      <td>0000000406</td>\n    </tr>\n    <tr>\n      <th>2</th>\n      <td>Адыкаев Чингиз Улугбекович</td>\n      <td>100.0</td>\n      <td>0000000270</td>\n    </tr>\n    <tr>\n      <th>3</th>\n      <td>Аккуратов Вадим Евгеньевич</td>\n      <td>100.0</td>\n      <td>0000000222</td>\n    </tr>\n    <tr>\n      <th>4</th>\n      <td>Аникеев Никита Сергеевич</td>\n      <td>0.0</td>\n      <td>0000000381</td>\n    </tr>\n    <tr>\n      <th>...</th>\n      <td>...</td>\n      <td>...</td>\n      <td>...</td>\n    </tr>\n    <tr>\n      <th>155</th>\n      <td>Шкуратов Дмитрий Борисович</td>\n      <td>100.0</td>\n      <td>0000000390</td>\n    </tr>\n    <tr>\n      <th>156</th>\n      <td>Шубенков Никита Викторович</td>\n      <td>100.0</td>\n      <td>0000000365</td>\n    </tr>\n    <tr>\n      <th>157</th>\n      <td>Шустов Илья Сергеевич</td>\n      <td>0.0</td>\n      <td>0000000407</td>\n    </tr>\n    <tr>\n      <th>158</th>\n      <td>Щепетова Анастасия Викторовна</td>\n      <td>0.0</td>\n      <td>0000000228</td>\n    </tr>\n    <tr>\n      <th>159</th>\n      <td>Яшин Алексей Анатольевич</td>\n      <td>0.0</td>\n      <td>0000000308</td>\n    </tr>\n  </tbody>\n</table>\n<p>160 rows × 3 columns</p>\n</div>"
     },
     "execution_count": 264,
     "metadata": {},
     "output_type": "execute_result"
    }
   ],
   "source": [
    "data = pd.read_excel('D:/Список сотрудников 11.04.2024=выплаты(1).xls', dtype={'Таб. номер': str})\n",
    "data['%'] = data['%'].fillna(0)\n",
    "data['employee_name'] = data['Имя'].apply(lambda x: x.split()[0]) + ' ' + data['Имя'].apply(\n",
    "    lambda x: x.split()[1]) + ' ' + data[\n",
    "                            'Имя'].apply(lambda x: x.split()[2])\n",
    "\n",
    "# data.to_excel(r'D:/123.xlsx', index=True)\n",
    "\n",
    "final_data = data[['employee_name', '%', 'Таб. номер']]\n",
    "final_data\n",
    "# final_data.to_excel(r'D:/123.xlsx', index=False)"
   ],
   "metadata": {
    "collapsed": false,
    "pycharm": {
     "name": "#%%\n"
    }
   }
  },
  {
   "cell_type": "code",
   "execution_count": 266,
   "outputs": [
    {
     "data": {
      "text/plain": "                     employee_name month_name  year_number  \\\n0        Аверкина Ольга Викторовна     Апрель         2024   \n1            Агеева Лада Артемовна     Апрель         2024   \n2       Адыкаев Чингиз Улугбекович     Апрель         2024   \n3       Аккуратов Вадим Евгеньевич     Апрель         2024   \n4         Аникеев Никита Сергеевич     Апрель         2024   \n..                             ...        ...          ...   \n134       Ширкунов Евгений Юрьевич     Апрель         2024   \n135     Шкуратов Дмитрий Борисович     Апрель         2024   \n136     Шубенков Никита Викторович     Апрель         2024   \n137          Шустов Илья Сергеевич     Апрель         2024   \n138  Щепетова Анастасия Викторовна     Апрель         2024   \n\n     salary_budget_ammount  fired  \n0                140000.00  False  \n1                145000.00  False  \n2                106543.34  False  \n3                290000.00  False  \n4                138000.00  False  \n..                     ...    ...  \n134              250000.00  False  \n135               77675.59  False  \n136              210000.00  False  \n137              170000.00  False  \n138              140000.00  False  \n\n[139 rows x 5 columns]",
      "text/html": "<div>\n<style scoped>\n    .dataframe tbody tr th:only-of-type {\n        vertical-align: middle;\n    }\n\n    .dataframe tbody tr th {\n        vertical-align: top;\n    }\n\n    .dataframe thead th {\n        text-align: right;\n    }\n</style>\n<table border=\"1\" class=\"dataframe\">\n  <thead>\n    <tr style=\"text-align: right;\">\n      <th></th>\n      <th>employee_name</th>\n      <th>month_name</th>\n      <th>year_number</th>\n      <th>salary_budget_ammount</th>\n      <th>fired</th>\n    </tr>\n  </thead>\n  <tbody>\n    <tr>\n      <th>0</th>\n      <td>Аверкина Ольга Викторовна</td>\n      <td>Апрель</td>\n      <td>2024</td>\n      <td>140000.00</td>\n      <td>False</td>\n    </tr>\n    <tr>\n      <th>1</th>\n      <td>Агеева Лада Артемовна</td>\n      <td>Апрель</td>\n      <td>2024</td>\n      <td>145000.00</td>\n      <td>False</td>\n    </tr>\n    <tr>\n      <th>2</th>\n      <td>Адыкаев Чингиз Улугбекович</td>\n      <td>Апрель</td>\n      <td>2024</td>\n      <td>106543.34</td>\n      <td>False</td>\n    </tr>\n    <tr>\n      <th>3</th>\n      <td>Аккуратов Вадим Евгеньевич</td>\n      <td>Апрель</td>\n      <td>2024</td>\n      <td>290000.00</td>\n      <td>False</td>\n    </tr>\n    <tr>\n      <th>4</th>\n      <td>Аникеев Никита Сергеевич</td>\n      <td>Апрель</td>\n      <td>2024</td>\n      <td>138000.00</td>\n      <td>False</td>\n    </tr>\n    <tr>\n      <th>...</th>\n      <td>...</td>\n      <td>...</td>\n      <td>...</td>\n      <td>...</td>\n      <td>...</td>\n    </tr>\n    <tr>\n      <th>134</th>\n      <td>Ширкунов Евгений Юрьевич</td>\n      <td>Апрель</td>\n      <td>2024</td>\n      <td>250000.00</td>\n      <td>False</td>\n    </tr>\n    <tr>\n      <th>135</th>\n      <td>Шкуратов Дмитрий Борисович</td>\n      <td>Апрель</td>\n      <td>2024</td>\n      <td>77675.59</td>\n      <td>False</td>\n    </tr>\n    <tr>\n      <th>136</th>\n      <td>Шубенков Никита Викторович</td>\n      <td>Апрель</td>\n      <td>2024</td>\n      <td>210000.00</td>\n      <td>False</td>\n    </tr>\n    <tr>\n      <th>137</th>\n      <td>Шустов Илья Сергеевич</td>\n      <td>Апрель</td>\n      <td>2024</td>\n      <td>170000.00</td>\n      <td>False</td>\n    </tr>\n    <tr>\n      <th>138</th>\n      <td>Щепетова Анастасия Викторовна</td>\n      <td>Апрель</td>\n      <td>2024</td>\n      <td>140000.00</td>\n      <td>False</td>\n    </tr>\n  </tbody>\n</table>\n<p>139 rows × 5 columns</p>\n</div>"
     },
     "execution_count": 266,
     "metadata": {},
     "output_type": "execute_result"
    }
   ],
   "source": [
    "def request(request):\n",
    "    version = 'mssql'\n",
    "    driver = 'pymssql'\n",
    "    user = 'rkm_ro'\n",
    "    password = 'ip%U1PO7C$Zb'\n",
    "    server = 'msk-sql-02'\n",
    "    data_base = 'RKM'\n",
    "    # request = 'exec GetEmployeeRefresh 9'\n",
    "\n",
    "    conn = f'{version}+{driver}://{user}:{password}@{server}/{data_base}?charset=utf8'\n",
    "\n",
    "    engine = sqlalchemy.create_engine(conn)  # создание отдельного подключения к БД\n",
    "    connect = engine.connect()  # создаётся объект подключения к БД\n",
    "    df = pd.read_sql(f\"{request}\", connect)\n",
    "    return df\n",
    "\n",
    "\n",
    "result = request('execute GetSalaryListShchepetovaAlt 4, 2024, 9;')\n",
    "query = pd.DataFrame(result)\n",
    "query"
   ],
   "metadata": {
    "collapsed": false,
    "pycharm": {
     "name": "#%%\n"
    }
   }
  },
  {
   "cell_type": "code",
   "execution_count": 267,
   "outputs": [
    {
     "data": {
      "text/plain": "                     employee_name      %  Таб. номер  salary_budget_ammount\n0        Аверкина Ольга Викторовна    0.0  0000000411              140000.00\n1            Агеева Лада Артемовна    0.0  0000000406              145000.00\n2       Адыкаев Чингиз Улугбекович  100.0  0000000270              106543.34\n3       Аккуратов Вадим Евгеньевич  100.0  0000000222              290000.00\n4         Аникеев Никита Сергеевич    0.0  0000000381              138000.00\n..                             ...    ...         ...                    ...\n155     Шкуратов Дмитрий Борисович  100.0  0000000390               77675.59\n156     Шубенков Никита Викторович  100.0  0000000365              210000.00\n157          Шустов Илья Сергеевич    0.0  0000000407              170000.00\n158  Щепетова Анастасия Викторовна    0.0  0000000228              140000.00\n159       Яшин Алексей Анатольевич    0.0  0000000308                    NaN\n\n[160 rows x 4 columns]",
      "text/html": "<div>\n<style scoped>\n    .dataframe tbody tr th:only-of-type {\n        vertical-align: middle;\n    }\n\n    .dataframe tbody tr th {\n        vertical-align: top;\n    }\n\n    .dataframe thead th {\n        text-align: right;\n    }\n</style>\n<table border=\"1\" class=\"dataframe\">\n  <thead>\n    <tr style=\"text-align: right;\">\n      <th></th>\n      <th>employee_name</th>\n      <th>%</th>\n      <th>Таб. номер</th>\n      <th>salary_budget_ammount</th>\n    </tr>\n  </thead>\n  <tbody>\n    <tr>\n      <th>0</th>\n      <td>Аверкина Ольга Викторовна</td>\n      <td>0.0</td>\n      <td>0000000411</td>\n      <td>140000.00</td>\n    </tr>\n    <tr>\n      <th>1</th>\n      <td>Агеева Лада Артемовна</td>\n      <td>0.0</td>\n      <td>0000000406</td>\n      <td>145000.00</td>\n    </tr>\n    <tr>\n      <th>2</th>\n      <td>Адыкаев Чингиз Улугбекович</td>\n      <td>100.0</td>\n      <td>0000000270</td>\n      <td>106543.34</td>\n    </tr>\n    <tr>\n      <th>3</th>\n      <td>Аккуратов Вадим Евгеньевич</td>\n      <td>100.0</td>\n      <td>0000000222</td>\n      <td>290000.00</td>\n    </tr>\n    <tr>\n      <th>4</th>\n      <td>Аникеев Никита Сергеевич</td>\n      <td>0.0</td>\n      <td>0000000381</td>\n      <td>138000.00</td>\n    </tr>\n    <tr>\n      <th>...</th>\n      <td>...</td>\n      <td>...</td>\n      <td>...</td>\n      <td>...</td>\n    </tr>\n    <tr>\n      <th>155</th>\n      <td>Шкуратов Дмитрий Борисович</td>\n      <td>100.0</td>\n      <td>0000000390</td>\n      <td>77675.59</td>\n    </tr>\n    <tr>\n      <th>156</th>\n      <td>Шубенков Никита Викторович</td>\n      <td>100.0</td>\n      <td>0000000365</td>\n      <td>210000.00</td>\n    </tr>\n    <tr>\n      <th>157</th>\n      <td>Шустов Илья Сергеевич</td>\n      <td>0.0</td>\n      <td>0000000407</td>\n      <td>170000.00</td>\n    </tr>\n    <tr>\n      <th>158</th>\n      <td>Щепетова Анастасия Викторовна</td>\n      <td>0.0</td>\n      <td>0000000228</td>\n      <td>140000.00</td>\n    </tr>\n    <tr>\n      <th>159</th>\n      <td>Яшин Алексей Анатольевич</td>\n      <td>0.0</td>\n      <td>0000000308</td>\n      <td>NaN</td>\n    </tr>\n  </tbody>\n</table>\n<p>160 rows × 4 columns</p>\n</div>"
     },
     "execution_count": 267,
     "metadata": {},
     "output_type": "execute_result"
    }
   ],
   "source": [
    "new_data = final_data.merge(query, on='employee_name', how='left')\n",
    "new_data = new_data[['employee_name', '%', 'Таб. номер', 'salary_budget_ammount']]\n",
    "new_data\n",
    "# new_data.info()"
   ],
   "metadata": {
    "collapsed": false,
    "pycharm": {
     "name": "#%%\n"
    }
   }
  },
  {
   "cell_type": "code",
   "execution_count": 268,
   "outputs": [
    {
     "data": {
      "text/plain": "                     employee_name      %  Таб. номер  salary_budget_ammount  \\\n0        Аверкина Ольга Викторовна    0.0  0000000411              140000.00   \n1            Агеева Лада Артемовна    0.0  0000000406              145000.00   \n2       Адыкаев Чингиз Улугбекович  100.0  0000000270              106543.34   \n3       Аккуратов Вадим Евгеньевич  100.0  0000000222              290000.00   \n4         Аникеев Никита Сергеевич    0.0  0000000381              138000.00   \n..                             ...    ...         ...                    ...   \n155     Шкуратов Дмитрий Борисович  100.0  0000000390               77675.59   \n156     Шубенков Никита Викторович  100.0  0000000365              210000.00   \n157          Шустов Илья Сергеевич    0.0  0000000407              170000.00   \n158  Щепетова Анастасия Викторовна    0.0  0000000228              140000.00   \n159       Яшин Алексей Анатольевич    0.0  0000000308                    NaN   \n\n        prize  \n0         0.0  \n1         0.0  \n2     47945.0  \n3    130500.0  \n4         0.0  \n..        ...  \n155   34954.0  \n156   94500.0  \n157       0.0  \n158       0.0  \n159       NaN  \n\n[160 rows x 5 columns]",
      "text/html": "<div>\n<style scoped>\n    .dataframe tbody tr th:only-of-type {\n        vertical-align: middle;\n    }\n\n    .dataframe tbody tr th {\n        vertical-align: top;\n    }\n\n    .dataframe thead th {\n        text-align: right;\n    }\n</style>\n<table border=\"1\" class=\"dataframe\">\n  <thead>\n    <tr style=\"text-align: right;\">\n      <th></th>\n      <th>employee_name</th>\n      <th>%</th>\n      <th>Таб. номер</th>\n      <th>salary_budget_ammount</th>\n      <th>prize</th>\n    </tr>\n  </thead>\n  <tbody>\n    <tr>\n      <th>0</th>\n      <td>Аверкина Ольга Викторовна</td>\n      <td>0.0</td>\n      <td>0000000411</td>\n      <td>140000.00</td>\n      <td>0.0</td>\n    </tr>\n    <tr>\n      <th>1</th>\n      <td>Агеева Лада Артемовна</td>\n      <td>0.0</td>\n      <td>0000000406</td>\n      <td>145000.00</td>\n      <td>0.0</td>\n    </tr>\n    <tr>\n      <th>2</th>\n      <td>Адыкаев Чингиз Улугбекович</td>\n      <td>100.0</td>\n      <td>0000000270</td>\n      <td>106543.34</td>\n      <td>47945.0</td>\n    </tr>\n    <tr>\n      <th>3</th>\n      <td>Аккуратов Вадим Евгеньевич</td>\n      <td>100.0</td>\n      <td>0000000222</td>\n      <td>290000.00</td>\n      <td>130500.0</td>\n    </tr>\n    <tr>\n      <th>4</th>\n      <td>Аникеев Никита Сергеевич</td>\n      <td>0.0</td>\n      <td>0000000381</td>\n      <td>138000.00</td>\n      <td>0.0</td>\n    </tr>\n    <tr>\n      <th>...</th>\n      <td>...</td>\n      <td>...</td>\n      <td>...</td>\n      <td>...</td>\n      <td>...</td>\n    </tr>\n    <tr>\n      <th>155</th>\n      <td>Шкуратов Дмитрий Борисович</td>\n      <td>100.0</td>\n      <td>0000000390</td>\n      <td>77675.59</td>\n      <td>34954.0</td>\n    </tr>\n    <tr>\n      <th>156</th>\n      <td>Шубенков Никита Викторович</td>\n      <td>100.0</td>\n      <td>0000000365</td>\n      <td>210000.00</td>\n      <td>94500.0</td>\n    </tr>\n    <tr>\n      <th>157</th>\n      <td>Шустов Илья Сергеевич</td>\n      <td>0.0</td>\n      <td>0000000407</td>\n      <td>170000.00</td>\n      <td>0.0</td>\n    </tr>\n    <tr>\n      <th>158</th>\n      <td>Щепетова Анастасия Викторовна</td>\n      <td>0.0</td>\n      <td>0000000228</td>\n      <td>140000.00</td>\n      <td>0.0</td>\n    </tr>\n    <tr>\n      <th>159</th>\n      <td>Яшин Алексей Анатольевич</td>\n      <td>0.0</td>\n      <td>0000000308</td>\n      <td>NaN</td>\n      <td>NaN</td>\n    </tr>\n  </tbody>\n</table>\n<p>160 rows × 5 columns</p>\n</div>"
     },
     "execution_count": 268,
     "metadata": {},
     "output_type": "execute_result"
    }
   ],
   "source": [
    "new_data['prize'] = new_data.apply(lambda row: round(row['%'] * row['salary_budget_ammount'] * 0.45 / 100, 0), axis=1)\n",
    "new_data"
   ],
   "metadata": {
    "collapsed": false,
    "pycharm": {
     "name": "#%%\n"
    }
   }
  },
  {
   "cell_type": "code",
   "execution_count": 269,
   "outputs": [],
   "source": [
    "new_data.to_excel(r'D:/123.xlsx', index=False)"
   ],
   "metadata": {
    "collapsed": false,
    "pycharm": {
     "name": "#%%\n"
    }
   }
  }
 ],
 "metadata": {
  "kernelspec": {
   "display_name": "Python 3",
   "language": "python",
   "name": "python3"
  },
  "language_info": {
   "codemirror_mode": {
    "name": "ipython",
    "version": 2
   },
   "file_extension": ".py",
   "mimetype": "text/x-python",
   "name": "python",
   "nbconvert_exporter": "python",
   "pygments_lexer": "ipython2",
   "version": "2.7.6"
  }
 },
 "nbformat": 4,
 "nbformat_minor": 0
}