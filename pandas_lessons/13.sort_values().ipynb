﻿{
 "cells": [
  {
   "cell_type": "code",
   "execution_count": 1,
   "metadata": {
    "collapsed": true,
    "pycharm": {
     "name": "#%%\n"
    }
   },
   "outputs": [],
   "source": [
    "import pandas as pd\n",
    "from random import randint"
   ]
  },
  {
   "cell_type": "code",
   "execution_count": 2,
   "outputs": [],
   "source": [
    "numbers = [randint(-50, 50) for i in range(15)]"
   ],
   "metadata": {
    "collapsed": false,
    "pycharm": {
     "name": "#%%\n"
    }
   }
  },
  {
   "cell_type": "code",
   "execution_count": 3,
   "outputs": [],
   "source": [
    "s = pd.Series(numbers)"
   ],
   "metadata": {
    "collapsed": false,
    "pycharm": {
     "name": "#%%\n"
    }
   }
  },
  {
   "cell_type": "code",
   "execution_count": 4,
   "outputs": [
    {
     "data": {
      "text/plain": "[-45, 41, 9, 23, 42, 7, -32, -20, -47, -38, -25, -32, -15, -19, 11]"
     },
     "execution_count": 4,
     "metadata": {},
     "output_type": "execute_result"
    }
   ],
   "source": [
    "numbers"
   ],
   "metadata": {
    "collapsed": false,
    "pycharm": {
     "name": "#%%\n"
    }
   }
  },
  {
   "cell_type": "code",
   "execution_count": 5,
   "outputs": [
    {
     "data": {
      "text/plain": "0    -45\n1     41\n2      9\n3     23\n4     42\n5      7\n6    -32\n7    -20\n8    -47\n9    -38\n10   -25\n11   -32\n12   -15\n13   -19\n14    11\ndtype: int64"
     },
     "execution_count": 5,
     "metadata": {},
     "output_type": "execute_result"
    }
   ],
   "source": [
    "s"
   ],
   "metadata": {
    "collapsed": false,
    "pycharm": {
     "name": "#%%\n"
    }
   }
  },
  {
   "cell_type": "code",
   "execution_count": 6,
   "outputs": [
    {
     "data": {
      "text/plain": "8    -47\n0    -45\n9    -38\n6    -32\n11   -32\n10   -25\n7    -20\n13   -19\n12   -15\n5      7\n2      9\n14    11\n3     23\n1     41\n4     42\ndtype: int64"
     },
     "execution_count": 6,
     "metadata": {},
     "output_type": "execute_result"
    }
   ],
   "source": [
    "s.sort_values()"
   ],
   "metadata": {
    "collapsed": false,
    "pycharm": {
     "name": "#%%\n"
    }
   }
  },
  {
   "cell_type": "code",
   "execution_count": 7,
   "outputs": [],
   "source": [
    "s.sort_values(inplace=True)"
   ],
   "metadata": {
    "collapsed": false,
    "pycharm": {
     "name": "#%%\n"
    }
   }
  },
  {
   "cell_type": "code",
   "execution_count": 8,
   "outputs": [
    {
     "data": {
      "text/plain": "8    -47\n0    -45\n9    -38\n6    -32\n11   -32\n10   -25\n7    -20\n13   -19\n12   -15\n5      7\n2      9\n14    11\n3     23\n1     41\n4     42\ndtype: int64"
     },
     "execution_count": 8,
     "metadata": {},
     "output_type": "execute_result"
    }
   ],
   "source": [
    "s"
   ],
   "metadata": {
    "collapsed": false,
    "pycharm": {
     "name": "#%%\n"
    }
   }
  },
  {
   "cell_type": "code",
   "execution_count": 12,
   "outputs": [
    {
     "data": {
      "text/plain": "8    -47\n0    -45\n9    -38\n6    -32\n11   -32\n10   -25\n7    -20\n13   -19\n12   -15\n5      7\n2      9\n14    11\n3     23\n1     41\n4     42\ndtype: int64"
     },
     "execution_count": 12,
     "metadata": {},
     "output_type": "execute_result"
    }
   ],
   "source": [
    "s.sort_values(ascending=False)\n",
    "s"
   ],
   "metadata": {
    "collapsed": false,
    "pycharm": {
     "name": "#%%\n"
    }
   }
  },
  {
   "cell_type": "code",
   "execution_count": 15,
   "outputs": [
    {
     "data": {
      "text/plain": "4     42\n1     41\n3     23\n14    11\n2      9\n5      7\n12   -15\n13   -19\n7    -20\n10   -25\n6    -32\n11   -32\n9    -38\n0    -45\n8    -47\ndtype: int64"
     },
     "execution_count": 15,
     "metadata": {},
     "output_type": "execute_result"
    }
   ],
   "source": [
    "s = pd.Series(numbers)\n",
    "s.sort_values(inplace=True, ascending=False)\n",
    "s"
   ],
   "metadata": {
    "collapsed": false,
    "pycharm": {
     "name": "#%%\n"
    }
   }
  },
  {
   "cell_type": "code",
   "execution_count": 16,
   "outputs": [],
   "source": [
    "from faker import Faker\n",
    "fake = Faker()"
   ],
   "metadata": {
    "collapsed": false,
    "pycharm": {
     "name": "#%%\n"
    }
   }
  },
  {
   "cell_type": "code",
   "execution_count": 17,
   "outputs": [
    {
     "data": {
      "text/plain": "'Ms. Cassandra Grant'"
     },
     "execution_count": 17,
     "metadata": {},
     "output_type": "execute_result"
    }
   ],
   "source": [
    "fake.name()"
   ],
   "metadata": {
    "collapsed": false,
    "pycharm": {
     "name": "#%%\n"
    }
   }
  },
  {
   "cell_type": "code",
   "execution_count": 18,
   "outputs": [],
   "source": [
    "names = [fake.name() for i in range(15)]"
   ],
   "metadata": {
    "collapsed": false,
    "pycharm": {
     "name": "#%%\n"
    }
   }
  },
  {
   "cell_type": "code",
   "execution_count": 19,
   "outputs": [
    {
     "data": {
      "text/plain": "['Kevin Marks',\n 'Ronald Moreno',\n 'Ethan Guerrero',\n 'Michael Mathis',\n 'Kyle Pineda',\n 'Tonya Dominguez',\n 'Jennifer Bradshaw',\n 'Richard Young',\n 'Deborah Garrett',\n 'Rebecca Pratt',\n 'Casey Johnson',\n 'Andrew Palmer',\n 'Justin Ford',\n 'Erin Reed',\n 'Ruben Hendricks']"
     },
     "execution_count": 19,
     "metadata": {},
     "output_type": "execute_result"
    }
   ],
   "source": [
    "names"
   ],
   "metadata": {
    "collapsed": false,
    "pycharm": {
     "name": "#%%\n"
    }
   }
  },
  {
   "cell_type": "code",
   "execution_count": 20,
   "outputs": [],
   "source": [
    "n = pd.Series(names)"
   ],
   "metadata": {
    "collapsed": false,
    "pycharm": {
     "name": "#%%\n"
    }
   }
  },
  {
   "cell_type": "code",
   "execution_count": 21,
   "outputs": [
    {
     "data": {
      "text/plain": "0           Kevin Marks\n1         Ronald Moreno\n2        Ethan Guerrero\n3        Michael Mathis\n4           Kyle Pineda\n5       Tonya Dominguez\n6     Jennifer Bradshaw\n7         Richard Young\n8       Deborah Garrett\n9         Rebecca Pratt\n10        Casey Johnson\n11        Andrew Palmer\n12          Justin Ford\n13            Erin Reed\n14      Ruben Hendricks\ndtype: object"
     },
     "execution_count": 21,
     "metadata": {},
     "output_type": "execute_result"
    }
   ],
   "source": [
    "n"
   ],
   "metadata": {
    "collapsed": false,
    "pycharm": {
     "name": "#%%\n"
    }
   }
  },
  {
   "cell_type": "code",
   "execution_count": 22,
   "outputs": [
    {
     "data": {
      "text/plain": "11        Andrew Palmer\n10        Casey Johnson\n8       Deborah Garrett\n13            Erin Reed\n2        Ethan Guerrero\n6     Jennifer Bradshaw\n12          Justin Ford\n0           Kevin Marks\n4           Kyle Pineda\n3        Michael Mathis\n9         Rebecca Pratt\n7         Richard Young\n1         Ronald Moreno\n14      Ruben Hendricks\n5       Tonya Dominguez\ndtype: object"
     },
     "execution_count": 22,
     "metadata": {},
     "output_type": "execute_result"
    }
   ],
   "source": [
    "n.sort_values()"
   ],
   "metadata": {
    "collapsed": false,
    "pycharm": {
     "name": "#%%\n"
    }
   }
  },
  {
   "cell_type": "code",
   "execution_count": 23,
   "outputs": [
    {
     "data": {
      "text/plain": "5       Tonya Dominguez\n14      Ruben Hendricks\n1         Ronald Moreno\n7         Richard Young\n9         Rebecca Pratt\n3        Michael Mathis\n4           Kyle Pineda\n0           Kevin Marks\n12          Justin Ford\n6     Jennifer Bradshaw\n2        Ethan Guerrero\n13            Erin Reed\n8       Deborah Garrett\n10        Casey Johnson\n11        Andrew Palmer\ndtype: object"
     },
     "execution_count": 23,
     "metadata": {},
     "output_type": "execute_result"
    }
   ],
   "source": [
    "n.sort_values(ascending=False)"
   ],
   "metadata": {
    "collapsed": false,
    "pycharm": {
     "name": "#%%\n"
    }
   }
  },
  {
   "cell_type": "code",
   "execution_count": 24,
   "outputs": [
    {
     "data": {
      "text/plain": "5       Tonya Dominguez\n14      Ruben Hendricks\n1         Ronald Moreno\n7         Richard Young\n9         Rebecca Pratt\n3        Michael Mathis\n4           Kyle Pineda\n0           Kevin Marks\n12          Justin Ford\n6     Jennifer Bradshaw\n2        Ethan Guerrero\n13            Erin Reed\n8       Deborah Garrett\n10        Casey Johnson\n11        Andrew Palmer\ndtype: object"
     },
     "execution_count": 24,
     "metadata": {},
     "output_type": "execute_result"
    }
   ],
   "source": [
    "n.sort_values(ascending=False, inplace=True)\n",
    "n"
   ],
   "metadata": {
    "collapsed": false,
    "pycharm": {
     "name": "#%%\n"
    }
   }
  },
  {
   "cell_type": "code",
   "execution_count": null,
   "outputs": [],
   "source": [],
   "metadata": {
    "collapsed": false,
    "pycharm": {
     "name": "#%%\n"
    }
   }
  }
 ],
 "metadata": {
  "kernelspec": {
   "display_name": "Python 3",
   "language": "python",
   "name": "python3"
  },
  "language_info": {
   "codemirror_mode": {
    "name": "ipython",
    "version": 2
   },
   "file_extension": ".py",
   "mimetype": "text/x-python",
   "name": "python",
   "nbconvert_exporter": "python",
   "pygments_lexer": "ipython2",
   "version": "2.7.6"
  }
 },
 "nbformat": 4,
 "nbformat_minor": 0
}