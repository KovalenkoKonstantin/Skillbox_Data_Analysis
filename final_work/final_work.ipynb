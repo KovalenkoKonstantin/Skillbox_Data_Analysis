﻿{
 "cells": [
  {
   "cell_type": "markdown",
   "source": [
    "Подключаем необходимые библиотеки"
   ],
   "metadata": {
    "collapsed": false,
    "pycharm": {
     "name": "#%% md\n"
    }
   }
  },
  {
   "cell_type": "code",
   "execution_count": 1,
   "metadata": {
    "collapsed": true,
    "pycharm": {
     "name": "#%%\n"
    }
   },
   "outputs": [],
   "source": [
    "import pandas as pd"
   ]
  },
  {
   "cell_type": "markdown",
   "source": [
    "Импортируем файлы"
   ],
   "metadata": {
    "collapsed": false,
    "pycharm": {
     "name": "#%% md\n"
    }
   }
  },
  {
   "cell_type": "code",
   "execution_count": 2,
   "outputs": [],
   "source": [
    "money_df = pd.read_csv('money.csv')\n",
    "cash_df = pd.read_csv('cash.csv')\n",
    "platforms_df = pd.read_csv('platforms.csv')\n",
    "abgroup_df = pd.read_csv('ABgroup.csv')\n",
    "cheaters_df = pd.read_csv('Cheaters.csv')\n",
    "\n",
    "# money_df.head()"
   ],
   "metadata": {
    "collapsed": false,
    "pycharm": {
     "name": "#%%\n"
    }
   }
  },
  {
   "cell_type": "markdown",
   "source": [
    "Преобразовываем формат колонки в тип данных \"дата\" с форматом \"yyyy-dd-mm\""
   ],
   "metadata": {
    "collapsed": false,
    "pycharm": {
     "name": "#%% md\n"
    }
   }
  },
  {
   "cell_type": "code",
   "execution_count": 3,
   "outputs": [],
   "source": [
    "#money\n",
    "money_df['date'] = pd.to_datetime(money_df['date'], format='%d.%m.%Y')\n",
    "money_df['date'] = pd.to_datetime(money_df['date'], format='%y-%m-%d')\n",
    "\n",
    "#cash\n",
    "cash_df['date'] = pd.to_datetime(cash_df['date'], format='%d.%m.%Y')\n",
    "cash_df['date'] = pd.to_datetime(cash_df['date'], format='%y-%m-%d')\n",
    "\n",
    "# cash_df.head()"
   ],
   "metadata": {
    "collapsed": false,
    "pycharm": {
     "name": "#%%\n"
    }
   }
  },
  {
   "cell_type": "markdown",
   "source": [
    "Получившийся результат сохраняем под новыми названиями"
   ],
   "metadata": {
    "collapsed": false,
    "pycharm": {
     "name": "#%% md\n"
    }
   }
  },
  {
   "cell_type": "code",
   "execution_count": 4,
   "outputs": [],
   "source": [
    "money_df.to_csv('money_modified.csv', index=False)\n",
    "cash_df.to_csv('cash_modified.csv', index=False)"
   ],
   "metadata": {
    "collapsed": false,
    "pycharm": {
     "name": "#%%\n"
    }
   }
  },
  {
   "cell_type": "markdown",
   "source": [
    "Объединяю все df в один"
   ],
   "metadata": {
    "collapsed": false,
    "pycharm": {
     "name": "#%% md\n"
    }
   }
  },
  {
   "cell_type": "code",
   "execution_count": null,
   "outputs": [],
   "source": [
    "complex_df = pd.merge(platforms_df, money_df, on='user_id')\n",
    "complex_df = pd.merge(complex_df, cash_df, on='user_id')\n",
    "# complex_df = pd.merge(complex_df, abgroup_df, on='user_id')\n",
    "# complex_df = pd.merge(complex_df, cheaters_df, on='user_id')\n",
    "\n",
    "# complex_df = pd.concat([platforms_df, money_df, cash_df, abgroup_df, cheaters_df])\n",
    "\n",
    "complex_df.head()"
   ],
   "metadata": {
    "collapsed": false,
    "pycharm": {
     "name": "#%%\n",
     "is_executing": true
    }
   }
  }
 ],
 "metadata": {
  "kernelspec": {
   "display_name": "Python 3",
   "language": "python",
   "name": "python3"
  },
  "language_info": {
   "codemirror_mode": {
    "name": "ipython",
    "version": 2
   },
   "file_extension": ".py",
   "mimetype": "text/x-python",
   "name": "python",
   "nbconvert_exporter": "python",
   "pygments_lexer": "ipython2",
   "version": "2.7.6"
  }
 },
 "nbformat": 4,
 "nbformat_minor": 0
}