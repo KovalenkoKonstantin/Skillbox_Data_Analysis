﻿{
 "cells": [
  {
   "cell_type": "markdown",
   "source": [
    "Подключаем необходимые библиотеки"
   ],
   "metadata": {
    "collapsed": false,
    "pycharm": {
     "name": "#%% md\n"
    }
   }
  },
  {
   "cell_type": "code",
   "execution_count": 1,
   "metadata": {
    "collapsed": true,
    "pycharm": {
     "name": "#%%\n"
    }
   },
   "outputs": [],
   "source": [
    "import pandas as pd"
   ]
  },
  {
   "cell_type": "markdown",
   "source": [
    "Импортируем файлы"
   ],
   "metadata": {
    "collapsed": false,
    "pycharm": {
     "name": "#%% md\n"
    }
   }
  },
  {
   "cell_type": "code",
   "execution_count": 38,
   "outputs": [],
   "source": [
    "money_df = pd.read_csv('money.csv')\n",
    "cash_df = pd.read_csv('cash.csv')\n",
    "platforms_df = pd.read_csv('platforms.csv')\n",
    "abgroup_df = pd.read_csv('ABgroup.csv')\n",
    "cheaters_df = pd.read_csv('Cheaters.csv')\n",
    "\n",
    "# money_df.head()"
   ],
   "metadata": {
    "collapsed": false,
    "pycharm": {
     "name": "#%%\n"
    }
   }
  },
  {
   "cell_type": "markdown",
   "source": [
    "Преобразовываем формат колонки в тип данных \"дата\" с форматом \"yyyy-dd-mm\""
   ],
   "metadata": {
    "collapsed": false,
    "pycharm": {
     "name": "#%% md\n"
    }
   }
  },
  {
   "cell_type": "code",
   "execution_count": 39,
   "outputs": [],
   "source": [
    "#money\n",
    "money_df['date'] = pd.to_datetime(money_df['date'], format='%d.%m.%Y')\n",
    "money_df['date'] = pd.to_datetime(money_df['date'], format='%y-%m-%d')\n",
    "\n",
    "#cash\n",
    "cash_df['date'] = pd.to_datetime(cash_df['date'], format='%d.%m.%Y')\n",
    "cash_df['date'] = pd.to_datetime(cash_df['date'], format='%y-%m-%d')\n",
    "\n",
    "# cash_df.head()"
   ],
   "metadata": {
    "collapsed": false,
    "pycharm": {
     "name": "#%%\n"
    }
   }
  },
  {
   "cell_type": "markdown",
   "source": [
    "Получившийся результат сохраняем под новыми названиями"
   ],
   "metadata": {
    "collapsed": false,
    "pycharm": {
     "name": "#%% md\n"
    }
   }
  },
  {
   "cell_type": "code",
   "execution_count": 4,
   "outputs": [],
   "source": [
    "money_df.to_csv('money_modified.csv', index=False)\n",
    "cash_df.to_csv('cash_modified.csv', index=False)"
   ],
   "metadata": {
    "collapsed": false,
    "pycharm": {
     "name": "#%%\n"
    }
   }
  },
  {
   "cell_type": "markdown",
   "source": [
    "trimmed df"
   ],
   "metadata": {
    "collapsed": false,
    "pycharm": {
     "name": "#%% md\n"
    }
   }
  },
  {
   "cell_type": "code",
   "execution_count": 4,
   "outputs": [],
   "source": [
    "# #беру 1000 строк для быстроты\n",
    "#\n",
    "# trimmed_money_df = money_df.head(1000)\n",
    "# trimmed_cash_df = cash_df.head(1000)\n",
    "# trimmed_platforms_df = platforms_df.head(1000)\n",
    "# trimmed_abgroup_df = abgroup_df.head(1000)\n",
    "# trimmed_cheaters_df = cheaters_df.head(1000)"
   ],
   "metadata": {
    "collapsed": false,
    "pycharm": {
     "name": "#%%\n"
    }
   }
  },
  {
   "cell_type": "code",
   "execution_count": 21,
   "outputs": [],
   "source": [
    "# # Устанавливаем колонку 'user_id' в качестве индекса\n",
    "#\n",
    "# trimmed_money_df.set_index('user_id', inplace=True)\n",
    "# trimmed_cash_df.set_index('user_id', inplace=True)\n",
    "# trimmed_platforms_df.set_index('user_id', inplace=True)\n",
    "# trimmed_abgroup_df.set_index('user_id', inplace=True)\n",
    "# trimmed_cheaters_df.set_index('user_id', inplace=True)"
   ],
   "metadata": {
    "collapsed": false,
    "pycharm": {
     "name": "#%%\n"
    }
   }
  },
  {
   "cell_type": "code",
   "execution_count": 29,
   "outputs": [],
   "source": [
    "# # Устанавливаем колонку 'user_id' в качестве индекса\n",
    "#\n",
    "# money_df.set_index('user_id', inplace=True)\n",
    "# cash_df.set_index('user_id', inplace=True)\n",
    "# platforms_df.set_index('user_id', inplace=True)\n",
    "# abgroup_df.set_index('user_id', inplace=True)\n",
    "# cheaters_df.set_index('user_id', inplace=True)"
   ],
   "metadata": {
    "collapsed": false,
    "pycharm": {
     "name": "#%%\n"
    }
   }
  },
  {
   "cell_type": "code",
   "execution_count": 40,
   "outputs": [
    {
     "data": {
      "text/plain": "1080000"
     },
     "execution_count": 40,
     "metadata": {},
     "output_type": "execute_result"
    }
   ],
   "source": [
    "money_df['user_id'].nunique()"
   ],
   "metadata": {
    "collapsed": false,
    "pycharm": {
     "name": "#%%\n"
    }
   }
  },
  {
   "cell_type": "code",
   "execution_count": 41,
   "outputs": [
    {
     "data": {
      "text/plain": "1080000"
     },
     "execution_count": 41,
     "metadata": {},
     "output_type": "execute_result"
    }
   ],
   "source": [
    "platforms_df['user_id'].nunique()"
   ],
   "metadata": {
    "collapsed": false,
    "pycharm": {
     "name": "#%%\n"
    }
   }
  },
  {
   "cell_type": "code",
   "execution_count": 44,
   "outputs": [
    {
     "data": {
      "text/plain": "1080000"
     },
     "execution_count": 44,
     "metadata": {},
     "output_type": "execute_result"
    }
   ],
   "source": [
    "cheaters_df['user_id'].nunique()"
   ],
   "metadata": {
    "collapsed": false,
    "pycharm": {
     "name": "#%%\n"
    }
   }
  },
  {
   "cell_type": "code",
   "execution_count": 45,
   "outputs": [
    {
     "data": {
      "text/plain": "1080000"
     },
     "execution_count": 45,
     "metadata": {},
     "output_type": "execute_result"
    }
   ],
   "source": [
    "abgroup_df['user_id'].nunique()"
   ],
   "metadata": {
    "collapsed": false,
    "pycharm": {
     "name": "#%%\n"
    }
   }
  },
  {
   "cell_type": "code",
   "execution_count": 46,
   "outputs": [
    {
     "data": {
      "text/plain": "1080000"
     },
     "execution_count": 46,
     "metadata": {},
     "output_type": "execute_result"
    }
   ],
   "source": [
    "cash_df['user_id'].nunique()"
   ],
   "metadata": {
    "collapsed": false,
    "pycharm": {
     "name": "#%%\n"
    }
   }
  },
  {
   "cell_type": "code",
   "execution_count": 47,
   "outputs": [
    {
     "data": {
      "text/plain": "               user_id  cheaters\n0        TWLWB9-L19SYJ         0\n1        SD0L4U-1JG4WN         0\n2        QZVG35-P8JKNU         0\n3        S2VBV4-ZKBHI6         0\n4        DDGKMQ-45SP8R         0\n...                ...       ...\n8639995  YEO1HH-AGE5U0         0\n8639996  E0ZSN1-XK2WFG         0\n8639997  8Q5R71-0BMJDP         0\n8639998  KX15V0-ZJSW8T         0\n8639999  HM5I1V-A0OQK8         0\n\n[8640000 rows x 2 columns]",
      "text/html": "<div>\n<style scoped>\n    .dataframe tbody tr th:only-of-type {\n        vertical-align: middle;\n    }\n\n    .dataframe tbody tr th {\n        vertical-align: top;\n    }\n\n    .dataframe thead th {\n        text-align: right;\n    }\n</style>\n<table border=\"1\" class=\"dataframe\">\n  <thead>\n    <tr style=\"text-align: right;\">\n      <th></th>\n      <th>user_id</th>\n      <th>cheaters</th>\n    </tr>\n  </thead>\n  <tbody>\n    <tr>\n      <th>0</th>\n      <td>TWLWB9-L19SYJ</td>\n      <td>0</td>\n    </tr>\n    <tr>\n      <th>1</th>\n      <td>SD0L4U-1JG4WN</td>\n      <td>0</td>\n    </tr>\n    <tr>\n      <th>2</th>\n      <td>QZVG35-P8JKNU</td>\n      <td>0</td>\n    </tr>\n    <tr>\n      <th>3</th>\n      <td>S2VBV4-ZKBHI6</td>\n      <td>0</td>\n    </tr>\n    <tr>\n      <th>4</th>\n      <td>DDGKMQ-45SP8R</td>\n      <td>0</td>\n    </tr>\n    <tr>\n      <th>...</th>\n      <td>...</td>\n      <td>...</td>\n    </tr>\n    <tr>\n      <th>8639995</th>\n      <td>YEO1HH-AGE5U0</td>\n      <td>0</td>\n    </tr>\n    <tr>\n      <th>8639996</th>\n      <td>E0ZSN1-XK2WFG</td>\n      <td>0</td>\n    </tr>\n    <tr>\n      <th>8639997</th>\n      <td>8Q5R71-0BMJDP</td>\n      <td>0</td>\n    </tr>\n    <tr>\n      <th>8639998</th>\n      <td>KX15V0-ZJSW8T</td>\n      <td>0</td>\n    </tr>\n    <tr>\n      <th>8639999</th>\n      <td>HM5I1V-A0OQK8</td>\n      <td>0</td>\n    </tr>\n  </tbody>\n</table>\n<p>8640000 rows × 2 columns</p>\n</div>"
     },
     "execution_count": 47,
     "metadata": {},
     "output_type": "execute_result"
    }
   ],
   "source": [
    "cheaters_df"
   ],
   "metadata": {
    "collapsed": false,
    "pycharm": {
     "name": "#%%\n"
    }
   }
  },
  {
   "cell_type": "code",
   "execution_count": 48,
   "outputs": [
    {
     "data": {
      "text/plain": "               user_id  cheaters\n65       9WIF40-OW5GLD         1\n778      VIHC8Q-YTCOYH         1\n4060     1JBTR8-YEDSAI         1\n5520     KK8ZQ3-ZZVKN4         1\n6631     IC2BED-VNNI2F         1\n...                ...       ...\n8630371  5I00P2-5EC43C         1\n8630756  BMML50-JSSXDT         1\n8634037  NT0YYQ-5WA319         1\n8636269  0MMIPN-E23IZG         1\n8639572  PBHVDI-773JYD         1\n\n[2824 rows x 2 columns]",
      "text/html": "<div>\n<style scoped>\n    .dataframe tbody tr th:only-of-type {\n        vertical-align: middle;\n    }\n\n    .dataframe tbody tr th {\n        vertical-align: top;\n    }\n\n    .dataframe thead th {\n        text-align: right;\n    }\n</style>\n<table border=\"1\" class=\"dataframe\">\n  <thead>\n    <tr style=\"text-align: right;\">\n      <th></th>\n      <th>user_id</th>\n      <th>cheaters</th>\n    </tr>\n  </thead>\n  <tbody>\n    <tr>\n      <th>65</th>\n      <td>9WIF40-OW5GLD</td>\n      <td>1</td>\n    </tr>\n    <tr>\n      <th>778</th>\n      <td>VIHC8Q-YTCOYH</td>\n      <td>1</td>\n    </tr>\n    <tr>\n      <th>4060</th>\n      <td>1JBTR8-YEDSAI</td>\n      <td>1</td>\n    </tr>\n    <tr>\n      <th>5520</th>\n      <td>KK8ZQ3-ZZVKN4</td>\n      <td>1</td>\n    </tr>\n    <tr>\n      <th>6631</th>\n      <td>IC2BED-VNNI2F</td>\n      <td>1</td>\n    </tr>\n    <tr>\n      <th>...</th>\n      <td>...</td>\n      <td>...</td>\n    </tr>\n    <tr>\n      <th>8630371</th>\n      <td>5I00P2-5EC43C</td>\n      <td>1</td>\n    </tr>\n    <tr>\n      <th>8630756</th>\n      <td>BMML50-JSSXDT</td>\n      <td>1</td>\n    </tr>\n    <tr>\n      <th>8634037</th>\n      <td>NT0YYQ-5WA319</td>\n      <td>1</td>\n    </tr>\n    <tr>\n      <th>8636269</th>\n      <td>0MMIPN-E23IZG</td>\n      <td>1</td>\n    </tr>\n    <tr>\n      <th>8639572</th>\n      <td>PBHVDI-773JYD</td>\n      <td>1</td>\n    </tr>\n  </tbody>\n</table>\n<p>2824 rows × 2 columns</p>\n</div>"
     },
     "execution_count": 48,
     "metadata": {},
     "output_type": "execute_result"
    }
   ],
   "source": [
    "result = cheaters_df.loc[cheaters_df['cheaters'] == 1]\n",
    "result"
   ],
   "metadata": {
    "collapsed": false,
    "pycharm": {
     "name": "#%%\n"
    }
   }
  },
  {
   "cell_type": "code",
   "execution_count": 49,
   "outputs": [
    {
     "data": {
      "text/plain": "353"
     },
     "execution_count": 49,
     "metadata": {},
     "output_type": "execute_result"
    }
   ],
   "source": [
    "result['user_id'].nunique()"
   ],
   "metadata": {
    "collapsed": false,
    "pycharm": {
     "name": "#%%\n"
    }
   }
  },
  {
   "cell_type": "code",
   "execution_count": 50,
   "outputs": [
    {
     "data": {
      "text/plain": "1079647"
     },
     "execution_count": 50,
     "metadata": {},
     "output_type": "execute_result"
    }
   ],
   "source": [
    "result1 = cheaters_df.loc[cheaters_df['cheaters'] == 0]\n",
    "result1['user_id'].nunique()"
   ],
   "metadata": {
    "collapsed": false,
    "pycharm": {
     "name": "#%%\n"
    }
   }
  },
  {
   "cell_type": "code",
   "execution_count": 42,
   "outputs": [
    {
     "data": {
      "text/plain": "0          False\n1          False\n2          False\n3          False\n4          False\n           ...  \n8639995     True\n8639996     True\n8639997     True\n8639998     True\n8639999     True\nName: user_id, Length: 8640000, dtype: bool"
     },
     "execution_count": 42,
     "metadata": {},
     "output_type": "execute_result"
    }
   ],
   "source": [
    "money_df['user_id'].duplicated()"
   ],
   "metadata": {
    "collapsed": false,
    "pycharm": {
     "name": "#%%\n"
    }
   }
  },
  {
   "cell_type": "code",
   "execution_count": 34,
   "outputs": [
    {
     "data": {
      "text/plain": "                    date  money platform\nuser_id                                 \nN4TS2T-P7YTVX 2021-07-15   1.99      PS4\nN4TS2T-P7YTVX 2021-07-15   1.99      PS4\nN4TS2T-P7YTVX 2021-07-15   1.99      PS4\nN4TS2T-P7YTVX 2021-07-15   1.99      PS4\nN4TS2T-P7YTVX 2021-07-15   1.99      PS4\n...                  ...    ...      ...\nMQBLE4-6ESC3O 2021-07-14   0.00      PS4\nMQBLE4-6ESC3O 2021-07-14   0.00      PS4\nMQBLE4-6ESC3O 2021-07-14   0.00      PS4\nMQBLE4-6ESC3O 2021-07-14   0.00      PS4\nMQBLE4-6ESC3O 2021-07-14   0.00      PS4\n\n[69120000 rows x 3 columns]",
      "text/html": "<div>\n<style scoped>\n    .dataframe tbody tr th:only-of-type {\n        vertical-align: middle;\n    }\n\n    .dataframe tbody tr th {\n        vertical-align: top;\n    }\n\n    .dataframe thead th {\n        text-align: right;\n    }\n</style>\n<table border=\"1\" class=\"dataframe\">\n  <thead>\n    <tr style=\"text-align: right;\">\n      <th></th>\n      <th>date</th>\n      <th>money</th>\n      <th>platform</th>\n    </tr>\n    <tr>\n      <th>user_id</th>\n      <th></th>\n      <th></th>\n      <th></th>\n    </tr>\n  </thead>\n  <tbody>\n    <tr>\n      <th>N4TS2T-P7YTVX</th>\n      <td>2021-07-15</td>\n      <td>1.99</td>\n      <td>PS4</td>\n    </tr>\n    <tr>\n      <th>N4TS2T-P7YTVX</th>\n      <td>2021-07-15</td>\n      <td>1.99</td>\n      <td>PS4</td>\n    </tr>\n    <tr>\n      <th>N4TS2T-P7YTVX</th>\n      <td>2021-07-15</td>\n      <td>1.99</td>\n      <td>PS4</td>\n    </tr>\n    <tr>\n      <th>N4TS2T-P7YTVX</th>\n      <td>2021-07-15</td>\n      <td>1.99</td>\n      <td>PS4</td>\n    </tr>\n    <tr>\n      <th>N4TS2T-P7YTVX</th>\n      <td>2021-07-15</td>\n      <td>1.99</td>\n      <td>PS4</td>\n    </tr>\n    <tr>\n      <th>...</th>\n      <td>...</td>\n      <td>...</td>\n      <td>...</td>\n    </tr>\n    <tr>\n      <th>MQBLE4-6ESC3O</th>\n      <td>2021-07-14</td>\n      <td>0.00</td>\n      <td>PS4</td>\n    </tr>\n    <tr>\n      <th>MQBLE4-6ESC3O</th>\n      <td>2021-07-14</td>\n      <td>0.00</td>\n      <td>PS4</td>\n    </tr>\n    <tr>\n      <th>MQBLE4-6ESC3O</th>\n      <td>2021-07-14</td>\n      <td>0.00</td>\n      <td>PS4</td>\n    </tr>\n    <tr>\n      <th>MQBLE4-6ESC3O</th>\n      <td>2021-07-14</td>\n      <td>0.00</td>\n      <td>PS4</td>\n    </tr>\n    <tr>\n      <th>MQBLE4-6ESC3O</th>\n      <td>2021-07-14</td>\n      <td>0.00</td>\n      <td>PS4</td>\n    </tr>\n  </tbody>\n</table>\n<p>69120000 rows × 3 columns</p>\n</div>"
     },
     "execution_count": 34,
     "metadata": {},
     "output_type": "execute_result"
    }
   ],
   "source": [
    "complex_df = pd.merge(money_df,platforms_df, on='user_id')\n",
    "\n",
    "# complex_df = pd.concat([money_df, platforms_df])\n",
    "\n",
    "# complex_df = money_df.join(platforms_df)\n",
    "\n",
    "complex_df"
   ],
   "metadata": {
    "collapsed": false,
    "pycharm": {
     "name": "#%%\n"
    }
   }
  },
  {
   "cell_type": "code",
   "execution_count": 43,
   "outputs": [
    {
     "data": {
      "text/plain": "                    date  money platform\nuser_id                                 \nN4TS2T-P7YTVX 2021-07-15   1.99      PS4\nNX9S0D-VM20W8 2021-07-16   0.99     XBox\nQYY6FW-FKHRND 2021-07-15   0.00     XBox\nBRWH4Y-LPGBU6 2021-07-14   0.00       PC\n8O317F-4ASK53 2021-07-13   0.00       PC\n...                  ...    ...      ...\n1D735M-0SLBS2 2021-07-17   8.99     XBox\n66TR2H-T9GSF4 2021-07-17   8.99       PC\nENXRYI-LNI5DS 2021-07-17   8.99      PS4\nDZPZIH-P3SAE6 2021-07-17   9.99     XBox\nFAT6FO-6H6A8Q 2021-07-17   9.99      PS4\n\n[95 rows x 3 columns]",
      "text/html": "<div>\n<style scoped>\n    .dataframe tbody tr th:only-of-type {\n        vertical-align: middle;\n    }\n\n    .dataframe tbody tr th {\n        vertical-align: top;\n    }\n\n    .dataframe thead th {\n        text-align: right;\n    }\n</style>\n<table border=\"1\" class=\"dataframe\">\n  <thead>\n    <tr style=\"text-align: right;\">\n      <th></th>\n      <th>date</th>\n      <th>money</th>\n      <th>platform</th>\n    </tr>\n    <tr>\n      <th>user_id</th>\n      <th></th>\n      <th></th>\n      <th></th>\n    </tr>\n  </thead>\n  <tbody>\n    <tr>\n      <th>N4TS2T-P7YTVX</th>\n      <td>2021-07-15</td>\n      <td>1.99</td>\n      <td>PS4</td>\n    </tr>\n    <tr>\n      <th>NX9S0D-VM20W8</th>\n      <td>2021-07-16</td>\n      <td>0.99</td>\n      <td>XBox</td>\n    </tr>\n    <tr>\n      <th>QYY6FW-FKHRND</th>\n      <td>2021-07-15</td>\n      <td>0.00</td>\n      <td>XBox</td>\n    </tr>\n    <tr>\n      <th>BRWH4Y-LPGBU6</th>\n      <td>2021-07-14</td>\n      <td>0.00</td>\n      <td>PC</td>\n    </tr>\n    <tr>\n      <th>8O317F-4ASK53</th>\n      <td>2021-07-13</td>\n      <td>0.00</td>\n      <td>PC</td>\n    </tr>\n    <tr>\n      <th>...</th>\n      <td>...</td>\n      <td>...</td>\n      <td>...</td>\n    </tr>\n    <tr>\n      <th>1D735M-0SLBS2</th>\n      <td>2021-07-17</td>\n      <td>8.99</td>\n      <td>XBox</td>\n    </tr>\n    <tr>\n      <th>66TR2H-T9GSF4</th>\n      <td>2021-07-17</td>\n      <td>8.99</td>\n      <td>PC</td>\n    </tr>\n    <tr>\n      <th>ENXRYI-LNI5DS</th>\n      <td>2021-07-17</td>\n      <td>8.99</td>\n      <td>PS4</td>\n    </tr>\n    <tr>\n      <th>DZPZIH-P3SAE6</th>\n      <td>2021-07-17</td>\n      <td>9.99</td>\n      <td>XBox</td>\n    </tr>\n    <tr>\n      <th>FAT6FO-6H6A8Q</th>\n      <td>2021-07-17</td>\n      <td>9.99</td>\n      <td>PS4</td>\n    </tr>\n  </tbody>\n</table>\n<p>95 rows × 3 columns</p>\n</div>"
     },
     "execution_count": 43,
     "metadata": {},
     "output_type": "execute_result"
    }
   ],
   "source": [
    "complex_df.drop_duplicates(inplace=True)\n",
    "complex_df"
   ],
   "metadata": {
    "collapsed": false,
    "pycharm": {
     "name": "#%%\n"
    }
   }
  },
  {
   "cell_type": "code",
   "execution_count": 31,
   "outputs": [
    {
     "data": {
      "text/plain": "                    date  money\nuser_id                        \nN4TS2T-P7YTVX 2021-07-15   1.99\nNX9S0D-VM20W8 2021-07-16   0.99\nQYY6FW-FKHRND 2021-07-15   0.00\nBRWH4Y-LPGBU6 2021-07-14   0.00\n8O317F-4ASK53 2021-07-13   0.00\n...                  ...    ...\nV2QN9A-KTAB7P 2021-07-15   0.00\nUH5OG7-7KLM76 2021-07-14   0.99\n6O1AE8-8AEE55 2021-07-17   0.99\n33AD2T-TNRERG 2021-07-12   0.99\nMQBLE4-6ESC3O 2021-07-14   0.00\n\n[8640000 rows x 2 columns]",
      "text/html": "<div>\n<style scoped>\n    .dataframe tbody tr th:only-of-type {\n        vertical-align: middle;\n    }\n\n    .dataframe tbody tr th {\n        vertical-align: top;\n    }\n\n    .dataframe thead th {\n        text-align: right;\n    }\n</style>\n<table border=\"1\" class=\"dataframe\">\n  <thead>\n    <tr style=\"text-align: right;\">\n      <th></th>\n      <th>date</th>\n      <th>money</th>\n    </tr>\n    <tr>\n      <th>user_id</th>\n      <th></th>\n      <th></th>\n    </tr>\n  </thead>\n  <tbody>\n    <tr>\n      <th>N4TS2T-P7YTVX</th>\n      <td>2021-07-15</td>\n      <td>1.99</td>\n    </tr>\n    <tr>\n      <th>NX9S0D-VM20W8</th>\n      <td>2021-07-16</td>\n      <td>0.99</td>\n    </tr>\n    <tr>\n      <th>QYY6FW-FKHRND</th>\n      <td>2021-07-15</td>\n      <td>0.00</td>\n    </tr>\n    <tr>\n      <th>BRWH4Y-LPGBU6</th>\n      <td>2021-07-14</td>\n      <td>0.00</td>\n    </tr>\n    <tr>\n      <th>8O317F-4ASK53</th>\n      <td>2021-07-13</td>\n      <td>0.00</td>\n    </tr>\n    <tr>\n      <th>...</th>\n      <td>...</td>\n      <td>...</td>\n    </tr>\n    <tr>\n      <th>V2QN9A-KTAB7P</th>\n      <td>2021-07-15</td>\n      <td>0.00</td>\n    </tr>\n    <tr>\n      <th>UH5OG7-7KLM76</th>\n      <td>2021-07-14</td>\n      <td>0.99</td>\n    </tr>\n    <tr>\n      <th>6O1AE8-8AEE55</th>\n      <td>2021-07-17</td>\n      <td>0.99</td>\n    </tr>\n    <tr>\n      <th>33AD2T-TNRERG</th>\n      <td>2021-07-12</td>\n      <td>0.99</td>\n    </tr>\n    <tr>\n      <th>MQBLE4-6ESC3O</th>\n      <td>2021-07-14</td>\n      <td>0.00</td>\n    </tr>\n  </tbody>\n</table>\n<p>8640000 rows × 2 columns</p>\n</div>"
     },
     "execution_count": 31,
     "metadata": {},
     "output_type": "execute_result"
    }
   ],
   "source": [
    "money_df"
   ],
   "metadata": {
    "collapsed": false,
    "pycharm": {
     "name": "#%%\n"
    }
   }
  },
  {
   "cell_type": "code",
   "execution_count": 32,
   "outputs": [
    {
     "data": {
      "text/plain": "              platform\nuser_id               \nNHFL0F-Y90OSH     XBox\nMVPNHS-PBHB8S     XBox\n1UWMRN-8NVCLI       PC\nEHO5II-03X9PU      PS4\n7C5ZAE-D1NCY9     XBox\n...                ...\nEYD4LR-O1YYTX      PS4\nJ0MR5W-GAGC66     XBox\nZ0EL54-J3BZC4      PS4\nB5FT8W-AR75PV       PC\n9PL6ZA-40IW97       PC\n\n[8640000 rows x 1 columns]",
      "text/html": "<div>\n<style scoped>\n    .dataframe tbody tr th:only-of-type {\n        vertical-align: middle;\n    }\n\n    .dataframe tbody tr th {\n        vertical-align: top;\n    }\n\n    .dataframe thead th {\n        text-align: right;\n    }\n</style>\n<table border=\"1\" class=\"dataframe\">\n  <thead>\n    <tr style=\"text-align: right;\">\n      <th></th>\n      <th>platform</th>\n    </tr>\n    <tr>\n      <th>user_id</th>\n      <th></th>\n    </tr>\n  </thead>\n  <tbody>\n    <tr>\n      <th>NHFL0F-Y90OSH</th>\n      <td>XBox</td>\n    </tr>\n    <tr>\n      <th>MVPNHS-PBHB8S</th>\n      <td>XBox</td>\n    </tr>\n    <tr>\n      <th>1UWMRN-8NVCLI</th>\n      <td>PC</td>\n    </tr>\n    <tr>\n      <th>EHO5II-03X9PU</th>\n      <td>PS4</td>\n    </tr>\n    <tr>\n      <th>7C5ZAE-D1NCY9</th>\n      <td>XBox</td>\n    </tr>\n    <tr>\n      <th>...</th>\n      <td>...</td>\n    </tr>\n    <tr>\n      <th>EYD4LR-O1YYTX</th>\n      <td>PS4</td>\n    </tr>\n    <tr>\n      <th>J0MR5W-GAGC66</th>\n      <td>XBox</td>\n    </tr>\n    <tr>\n      <th>Z0EL54-J3BZC4</th>\n      <td>PS4</td>\n    </tr>\n    <tr>\n      <th>B5FT8W-AR75PV</th>\n      <td>PC</td>\n    </tr>\n    <tr>\n      <th>9PL6ZA-40IW97</th>\n      <td>PC</td>\n    </tr>\n  </tbody>\n</table>\n<p>8640000 rows × 1 columns</p>\n</div>"
     },
     "execution_count": 32,
     "metadata": {},
     "output_type": "execute_result"
    }
   ],
   "source": [
    "platforms_df"
   ],
   "metadata": {
    "collapsed": false,
    "pycharm": {
     "name": "#%%\n"
    }
   }
  },
  {
   "cell_type": "code",
   "execution_count": 68,
   "outputs": [
    {
     "data": {
      "text/plain": "               user_id       date   cash\n2479     XJY616-M8DC3R 2021-07-16  36450\n8078     6SB9PI-2E3XBQ 2021-07-13  37500\n11737    GP90LE-1HZR7A 2021-07-12  28800\n11987    ENCOEV-XMFCCQ 2021-07-11  35100\n14491    CCBTD8-1GIY07 2021-07-10  51000\n...                ...        ...    ...\n8623622  AP0XVN-ZOHES9 2021-07-11  33600\n8624990  I2Q9S8-ICKVEQ 2021-07-11  31500\n8626034  HPYNM5-QNNBDJ 2021-07-15  39150\n8629874  YAB3W3-LEMACG 2021-07-14  22050\n8634330  ZQDH19-8TSYHQ 2021-07-12  43500\n\n[2410 rows x 3 columns]",
      "text/html": "<div>\n<style scoped>\n    .dataframe tbody tr th:only-of-type {\n        vertical-align: middle;\n    }\n\n    .dataframe tbody tr th {\n        vertical-align: top;\n    }\n\n    .dataframe thead th {\n        text-align: right;\n    }\n</style>\n<table border=\"1\" class=\"dataframe\">\n  <thead>\n    <tr style=\"text-align: right;\">\n      <th></th>\n      <th>user_id</th>\n      <th>date</th>\n      <th>cash</th>\n    </tr>\n  </thead>\n  <tbody>\n    <tr>\n      <th>2479</th>\n      <td>XJY616-M8DC3R</td>\n      <td>2021-07-16</td>\n      <td>36450</td>\n    </tr>\n    <tr>\n      <th>8078</th>\n      <td>6SB9PI-2E3XBQ</td>\n      <td>2021-07-13</td>\n      <td>37500</td>\n    </tr>\n    <tr>\n      <th>11737</th>\n      <td>GP90LE-1HZR7A</td>\n      <td>2021-07-12</td>\n      <td>28800</td>\n    </tr>\n    <tr>\n      <th>11987</th>\n      <td>ENCOEV-XMFCCQ</td>\n      <td>2021-07-11</td>\n      <td>35100</td>\n    </tr>\n    <tr>\n      <th>14491</th>\n      <td>CCBTD8-1GIY07</td>\n      <td>2021-07-10</td>\n      <td>51000</td>\n    </tr>\n    <tr>\n      <th>...</th>\n      <td>...</td>\n      <td>...</td>\n      <td>...</td>\n    </tr>\n    <tr>\n      <th>8623622</th>\n      <td>AP0XVN-ZOHES9</td>\n      <td>2021-07-11</td>\n      <td>33600</td>\n    </tr>\n    <tr>\n      <th>8624990</th>\n      <td>I2Q9S8-ICKVEQ</td>\n      <td>2021-07-11</td>\n      <td>31500</td>\n    </tr>\n    <tr>\n      <th>8626034</th>\n      <td>HPYNM5-QNNBDJ</td>\n      <td>2021-07-15</td>\n      <td>39150</td>\n    </tr>\n    <tr>\n      <th>8629874</th>\n      <td>YAB3W3-LEMACG</td>\n      <td>2021-07-14</td>\n      <td>22050</td>\n    </tr>\n    <tr>\n      <th>8634330</th>\n      <td>ZQDH19-8TSYHQ</td>\n      <td>2021-07-12</td>\n      <td>43500</td>\n    </tr>\n  </tbody>\n</table>\n<p>2410 rows × 3 columns</p>\n</div>"
     },
     "execution_count": 68,
     "metadata": {},
     "output_type": "execute_result"
    }
   ],
   "source": [
    "#траты внутриигровой валюты со значением больше 20 000\n",
    "\n",
    "big_currency_turnover = cash_df.loc[cash_df['cash'] > 20_000]\n",
    "big_currency_turnover"
   ],
   "metadata": {
    "collapsed": false,
    "pycharm": {
     "name": "#%%\n"
    }
   }
  },
  {
   "cell_type": "code",
   "execution_count": 61,
   "outputs": [
    {
     "data": {
      "text/plain": "               user_id  cheaters\n65       9WIF40-OW5GLD         1\n778      VIHC8Q-YTCOYH         1\n4060     1JBTR8-YEDSAI         1\n5520     KK8ZQ3-ZZVKN4         1\n6631     IC2BED-VNNI2F         1\n...                ...       ...\n8630371  5I00P2-5EC43C         1\n8630756  BMML50-JSSXDT         1\n8634037  NT0YYQ-5WA319         1\n8636269  0MMIPN-E23IZG         1\n8639572  PBHVDI-773JYD         1\n\n[2824 rows x 2 columns]",
      "text/html": "<div>\n<style scoped>\n    .dataframe tbody tr th:only-of-type {\n        vertical-align: middle;\n    }\n\n    .dataframe tbody tr th {\n        vertical-align: top;\n    }\n\n    .dataframe thead th {\n        text-align: right;\n    }\n</style>\n<table border=\"1\" class=\"dataframe\">\n  <thead>\n    <tr style=\"text-align: right;\">\n      <th></th>\n      <th>user_id</th>\n      <th>cheaters</th>\n    </tr>\n  </thead>\n  <tbody>\n    <tr>\n      <th>65</th>\n      <td>9WIF40-OW5GLD</td>\n      <td>1</td>\n    </tr>\n    <tr>\n      <th>778</th>\n      <td>VIHC8Q-YTCOYH</td>\n      <td>1</td>\n    </tr>\n    <tr>\n      <th>4060</th>\n      <td>1JBTR8-YEDSAI</td>\n      <td>1</td>\n    </tr>\n    <tr>\n      <th>5520</th>\n      <td>KK8ZQ3-ZZVKN4</td>\n      <td>1</td>\n    </tr>\n    <tr>\n      <th>6631</th>\n      <td>IC2BED-VNNI2F</td>\n      <td>1</td>\n    </tr>\n    <tr>\n      <th>...</th>\n      <td>...</td>\n      <td>...</td>\n    </tr>\n    <tr>\n      <th>8630371</th>\n      <td>5I00P2-5EC43C</td>\n      <td>1</td>\n    </tr>\n    <tr>\n      <th>8630756</th>\n      <td>BMML50-JSSXDT</td>\n      <td>1</td>\n    </tr>\n    <tr>\n      <th>8634037</th>\n      <td>NT0YYQ-5WA319</td>\n      <td>1</td>\n    </tr>\n    <tr>\n      <th>8636269</th>\n      <td>0MMIPN-E23IZG</td>\n      <td>1</td>\n    </tr>\n    <tr>\n      <th>8639572</th>\n      <td>PBHVDI-773JYD</td>\n      <td>1</td>\n    </tr>\n  </tbody>\n</table>\n<p>2824 rows × 2 columns</p>\n</div>"
     },
     "execution_count": 61,
     "metadata": {},
     "output_type": "execute_result"
    }
   ],
   "source": [
    "#список известных читеров\n",
    "\n",
    "old_cheater_list = cheaters_df.loc[cheaters_df['cheaters'] == 1]\n",
    "old_cheater_list['user_id'].nunique()\n",
    "old_cheater_list"
   ],
   "metadata": {
    "collapsed": false,
    "pycharm": {
     "name": "#%%\n"
    }
   }
  },
  {
   "cell_type": "code",
   "execution_count": 70,
   "outputs": [
    {
     "data": {
      "text/plain": "               user_id       date   cash\n2479     XJY616-M8DC3R 2021-07-16  36450\n11737    GP90LE-1HZR7A 2021-07-12  28800\n14491    CCBTD8-1GIY07 2021-07-10  51000\n23587    4BD9PQ-TPSMQZ 2021-07-12  23200\n30312    PKWLRV-JY4IJB 2021-07-12  24150\n...                ...        ...    ...\n8589033  KKIYYP-YIB7V3 2021-07-15  28600\n8598759  C1E008-LJPU6O 2021-07-17  45000\n8602311  F35CFN-CGKDDG 2021-07-12  23100\n8609612  8FLLFI-3WMAWD 2021-07-14  22950\n8622480  K2TMO3-SK1DC3 2021-07-14  35700\n\n[1203 rows x 3 columns]",
      "text/html": "<div>\n<style scoped>\n    .dataframe tbody tr th:only-of-type {\n        vertical-align: middle;\n    }\n\n    .dataframe tbody tr th {\n        vertical-align: top;\n    }\n\n    .dataframe thead th {\n        text-align: right;\n    }\n</style>\n<table border=\"1\" class=\"dataframe\">\n  <thead>\n    <tr style=\"text-align: right;\">\n      <th></th>\n      <th>user_id</th>\n      <th>date</th>\n      <th>cash</th>\n    </tr>\n  </thead>\n  <tbody>\n    <tr>\n      <th>2479</th>\n      <td>XJY616-M8DC3R</td>\n      <td>2021-07-16</td>\n      <td>36450</td>\n    </tr>\n    <tr>\n      <th>11737</th>\n      <td>GP90LE-1HZR7A</td>\n      <td>2021-07-12</td>\n      <td>28800</td>\n    </tr>\n    <tr>\n      <th>14491</th>\n      <td>CCBTD8-1GIY07</td>\n      <td>2021-07-10</td>\n      <td>51000</td>\n    </tr>\n    <tr>\n      <th>23587</th>\n      <td>4BD9PQ-TPSMQZ</td>\n      <td>2021-07-12</td>\n      <td>23200</td>\n    </tr>\n    <tr>\n      <th>30312</th>\n      <td>PKWLRV-JY4IJB</td>\n      <td>2021-07-12</td>\n      <td>24150</td>\n    </tr>\n    <tr>\n      <th>...</th>\n      <td>...</td>\n      <td>...</td>\n      <td>...</td>\n    </tr>\n    <tr>\n      <th>8589033</th>\n      <td>KKIYYP-YIB7V3</td>\n      <td>2021-07-15</td>\n      <td>28600</td>\n    </tr>\n    <tr>\n      <th>8598759</th>\n      <td>C1E008-LJPU6O</td>\n      <td>2021-07-17</td>\n      <td>45000</td>\n    </tr>\n    <tr>\n      <th>8602311</th>\n      <td>F35CFN-CGKDDG</td>\n      <td>2021-07-12</td>\n      <td>23100</td>\n    </tr>\n    <tr>\n      <th>8609612</th>\n      <td>8FLLFI-3WMAWD</td>\n      <td>2021-07-14</td>\n      <td>22950</td>\n    </tr>\n    <tr>\n      <th>8622480</th>\n      <td>K2TMO3-SK1DC3</td>\n      <td>2021-07-14</td>\n      <td>35700</td>\n    </tr>\n  </tbody>\n</table>\n<p>1203 rows × 3 columns</p>\n</div>"
     },
     "execution_count": 70,
     "metadata": {},
     "output_type": "execute_result"
    }
   ],
   "source": [
    "# Выбираем только те строки из колонки user_id в big_currency_turnover, которых нет в колонке user_id в cheater_list\n",
    "#потенциальные читеры\n",
    "\n",
    "potential_cheater_list = big_currency_turnover[~big_currency_turnover['user_id'].isin(old_cheater_list['user_id'])]\n",
    "potential_cheater_list"
   ],
   "metadata": {
    "collapsed": false,
    "pycharm": {
     "name": "#%%\n"
    }
   }
  },
  {
   "cell_type": "code",
   "execution_count": 64,
   "outputs": [
    {
     "data": {
      "text/plain": "               user_id       date  money\n0        N4TS2T-P7YTVX 2021-07-15   1.99\n1        NX9S0D-VM20W8 2021-07-16   0.99\n6        T5NOKM-KNU5HK 2021-07-10   0.99\n8        OUQR3L-T2NKCS 2021-07-16   0.99\n12       UJ824U-H3ZF3D 2021-07-16   0.99\n...                ...        ...    ...\n8639993  VQZMKP-DU39CM 2021-07-12   1.99\n8639994  MS6VJZ-QWADX0 2021-07-15   0.99\n8639996  UH5OG7-7KLM76 2021-07-14   0.99\n8639997  6O1AE8-8AEE55 2021-07-17   0.99\n8639998  33AD2T-TNRERG 2021-07-12   0.99\n\n[5013603 rows x 3 columns]",
      "text/html": "<div>\n<style scoped>\n    .dataframe tbody tr th:only-of-type {\n        vertical-align: middle;\n    }\n\n    .dataframe tbody tr th {\n        vertical-align: top;\n    }\n\n    .dataframe thead th {\n        text-align: right;\n    }\n</style>\n<table border=\"1\" class=\"dataframe\">\n  <thead>\n    <tr style=\"text-align: right;\">\n      <th></th>\n      <th>user_id</th>\n      <th>date</th>\n      <th>money</th>\n    </tr>\n  </thead>\n  <tbody>\n    <tr>\n      <th>0</th>\n      <td>N4TS2T-P7YTVX</td>\n      <td>2021-07-15</td>\n      <td>1.99</td>\n    </tr>\n    <tr>\n      <th>1</th>\n      <td>NX9S0D-VM20W8</td>\n      <td>2021-07-16</td>\n      <td>0.99</td>\n    </tr>\n    <tr>\n      <th>6</th>\n      <td>T5NOKM-KNU5HK</td>\n      <td>2021-07-10</td>\n      <td>0.99</td>\n    </tr>\n    <tr>\n      <th>8</th>\n      <td>OUQR3L-T2NKCS</td>\n      <td>2021-07-16</td>\n      <td>0.99</td>\n    </tr>\n    <tr>\n      <th>12</th>\n      <td>UJ824U-H3ZF3D</td>\n      <td>2021-07-16</td>\n      <td>0.99</td>\n    </tr>\n    <tr>\n      <th>...</th>\n      <td>...</td>\n      <td>...</td>\n      <td>...</td>\n    </tr>\n    <tr>\n      <th>8639993</th>\n      <td>VQZMKP-DU39CM</td>\n      <td>2021-07-12</td>\n      <td>1.99</td>\n    </tr>\n    <tr>\n      <th>8639994</th>\n      <td>MS6VJZ-QWADX0</td>\n      <td>2021-07-15</td>\n      <td>0.99</td>\n    </tr>\n    <tr>\n      <th>8639996</th>\n      <td>UH5OG7-7KLM76</td>\n      <td>2021-07-14</td>\n      <td>0.99</td>\n    </tr>\n    <tr>\n      <th>8639997</th>\n      <td>6O1AE8-8AEE55</td>\n      <td>2021-07-17</td>\n      <td>0.99</td>\n    </tr>\n    <tr>\n      <th>8639998</th>\n      <td>33AD2T-TNRERG</td>\n      <td>2021-07-12</td>\n      <td>0.99</td>\n    </tr>\n  </tbody>\n</table>\n<p>5013603 rows × 3 columns</p>\n</div>"
     },
     "execution_count": 64,
     "metadata": {},
     "output_type": "execute_result"
    }
   ],
   "source": [
    "#список тех, кто совершал платежи\n",
    "\n",
    "payers_list = money_df.loc[money_df['money'] > 0]\n",
    "payers_list['user_id'].nunique()\n",
    "payers_list"
   ],
   "metadata": {
    "collapsed": false,
    "pycharm": {
     "name": "#%%\n"
    }
   }
  },
  {
   "cell_type": "code",
   "execution_count": null,
   "outputs": [],
   "source": [
    "#список тех у кого большое количество игровых денег, но они не совершали покупку игровой валюты\n",
    "\n",
    "new_cheater_list = big_currency_turnover[~big_currency_turnover['user_id'].isin(old_cheater_list['user_id'])]\n",
    "new_cheater_list"
   ],
   "metadata": {
    "collapsed": false,
    "pycharm": {
     "name": "#%%\n"
    }
   }
  }
 ],
 "metadata": {
  "kernelspec": {
   "display_name": "Python 3",
   "language": "python",
   "name": "python3"
  },
  "language_info": {
   "codemirror_mode": {
    "name": "ipython",
    "version": 2
   },
   "file_extension": ".py",
   "mimetype": "text/x-python",
   "name": "python",
   "nbconvert_exporter": "python",
   "pygments_lexer": "ipython2",
   "version": "2.7.6"
  }
 },
 "nbformat": 4,
 "nbformat_minor": 0
}